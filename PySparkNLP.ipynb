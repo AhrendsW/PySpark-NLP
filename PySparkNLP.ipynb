{
  "nbformat": 4,
  "nbformat_minor": 0,
  "metadata": {
    "colab": {
      "provenance": [],
      "authorship_tag": "ABX9TyP/LiMN4YqTfw11kFxxOvqX",
      "include_colab_link": true
    },
    "kernelspec": {
      "name": "python3",
      "display_name": "Python 3"
    },
    "language_info": {
      "name": "python"
    }
  },
  "cells": [
    {
      "cell_type": "markdown",
      "metadata": {
        "id": "view-in-github",
        "colab_type": "text"
      },
      "source": [
        "<a href=\"https://colab.research.google.com/github/AhrendsW/PySpark-NLP/blob/main/PySparkNLP.ipynb\" target=\"_parent\"><img src=\"https://colab.research.google.com/assets/colab-badge.svg\" alt=\"Open In Colab\"/></a>"
      ]
    },
    {
      "cell_type": "markdown",
      "source": [
        "### **Sessão e leitura dos dados**"
      ],
      "metadata": {
        "id": "qpQdrbhiu9J5"
      }
    },
    {
      "cell_type": "code",
      "source": [
        "!pip install pyspark -qq"
      ],
      "metadata": {
        "id": "YJc_t9xWutF-",
        "colab": {
          "base_uri": "https://localhost:8080/"
        },
        "outputId": "43ac5177-c51c-4345-b5d8-d382395495c9"
      },
      "execution_count": 1,
      "outputs": [
        {
          "output_type": "stream",
          "name": "stdout",
          "text": [
            "\u001b[2K     \u001b[90m━━━━━━━━━━━━━━━━━━━━━━━━━━━━━━━━━━━━━━━━\u001b[0m \u001b[32m317.0/317.0 MB\u001b[0m \u001b[31m3.7 MB/s\u001b[0m eta \u001b[36m0:00:00\u001b[0m\n",
            "\u001b[?25h  Preparing metadata (setup.py) ... \u001b[?25l\u001b[?25hdone\n",
            "  Building wheel for pyspark (setup.py) ... \u001b[?25l\u001b[?25hdone\n"
          ]
        }
      ]
    },
    {
      "cell_type": "code",
      "source": [
        "from pyspark.sql import SparkSession\n",
        "\n",
        "spark = SparkSession.builder \\\n",
        "    .master('local[*]') \\\n",
        "    .appName(\"analise_nlp\") \\\n",
        "    .getOrCreate()"
      ],
      "metadata": {
        "id": "DFZScMQau_ks"
      },
      "execution_count": 2,
      "outputs": []
    },
    {
      "cell_type": "code",
      "source": [
        "spark"
      ],
      "metadata": {
        "colab": {
          "base_uri": "https://localhost:8080/",
          "height": 219
        },
        "id": "KczUYBaEvGNs",
        "outputId": "bd555830-ad02-4d44-d010-7cb1d250a85b"
      },
      "execution_count": 3,
      "outputs": [
        {
          "output_type": "execute_result",
          "data": {
            "text/plain": [
              "<pyspark.sql.session.SparkSession at 0x7bb70335a8c0>"
            ],
            "text/html": [
              "\n",
              "            <div>\n",
              "                <p><b>SparkSession - in-memory</b></p>\n",
              "                \n",
              "        <div>\n",
              "            <p><b>SparkContext</b></p>\n",
              "\n",
              "            <p><a href=\"http://7f763753dbf6:4040\">Spark UI</a></p>\n",
              "\n",
              "            <dl>\n",
              "              <dt>Version</dt>\n",
              "                <dd><code>v3.5.1</code></dd>\n",
              "              <dt>Master</dt>\n",
              "                <dd><code>local[*]</code></dd>\n",
              "              <dt>AppName</dt>\n",
              "                <dd><code>analise_nlp</code></dd>\n",
              "            </dl>\n",
              "        </div>\n",
              "        \n",
              "            </div>\n",
              "        "
            ]
          },
          "metadata": {},
          "execution_count": 3
        }
      ]
    },
    {
      "cell_type": "markdown",
      "source": [
        "### **Explorando os dados**\n",
        "\n",
        "Agora que já lemos os dados, vamos explorá-lo entendendo:\n",
        "\n",
        "* O **tamanho** dos dados\n",
        "* Os **campos** e o tipo\n",
        "* O **conteúdo** em cada campo\n",
        "* A **proporção** das categorias\n"
      ],
      "metadata": {
        "id": "HCZBJwMivEDI"
      }
    },
    {
      "cell_type": "code",
      "source": [
        "from google.colab import drive\n",
        "drive.mount('/content/drive')"
      ],
      "metadata": {
        "colab": {
          "base_uri": "https://localhost:8080/"
        },
        "id": "fYV5i5Cnvj16",
        "outputId": "24c3e8a9-e5bc-4290-86e1-9707d7cdaee9"
      },
      "execution_count": 4,
      "outputs": [
        {
          "output_type": "stream",
          "name": "stdout",
          "text": [
            "Mounted at /content/drive\n"
          ]
        }
      ]
    },
    {
      "cell_type": "code",
      "source": [
        "dados = spark.read.csv(\"/content/drive/MyDrive/curso-spark/linguagem-natural-spark/data/imdb-reviews-pt-br.csv\", escape=\"\\\"\", header=True, inferSchema=True)"
      ],
      "metadata": {
        "id": "yuQAoreDvEq4"
      },
      "execution_count": 5,
      "outputs": []
    },
    {
      "cell_type": "code",
      "source": [
        "dados.limit(5).show(truncate=False)"
      ],
      "metadata": {
        "colab": {
          "base_uri": "https://localhost:8080/"
        },
        "id": "4UQQ--lMwHK2",
        "outputId": "4854ec81-1dc4-4685-fcb3-c4dfb8ec54e1"
      },
      "execution_count": 6,
      "outputs": [
        {
          "output_type": "stream",
          "name": "stdout",
          "text": [
            "+---+--------------------------------------------------------------------------------------------------------------------------------------------------------------------------------------------------------------------------------------------------------------------------------------------------------------------------------------------------------------------------------------------------------------------------------------------------------------------------------------------------------------------------------------------------------------------------------------------------------------------------------------------------------------------------------------------------------------------------------------------------------------------------------------------------------------------------------------------------------------------------------------------------------------------------------------------------------------------------------------------------------------------------------------------------------------------------------------------------------------------------------------------------------------------------------------------------------------------------------------------------------------------------------------------------------------------------------------------------------------------------------------------------------------------------------------------------------------------------------------------------------------------------------------------------------------------------------------------------------------------------------------------------------------------------------------------------------------------------------+------------------------------------------------------------------------------------------------------------------------------------------------------------------------------------------------------------------------------------------------------------------------------------------------------------------------------------------------------------------------------------------------------------------------------------------------------------------------------------------------------------------------------------------------------------------------------------------------------------------------------------------------------------------------------------------------------------------------------------------------------------------------------------------------------------------------------------------------------------------------------------------------------------------------------------------------------------------------------------------------------------------------------------------------------------------------------------------------------------------------------------------------------------------------------------------------------------------------------------------------------------------------------------------------------------------------------------------------------------------------------------------------------------------------------------------------------------------------------------------------------------------------------------------------------------------------------------------------------------------------------------------------------------------------------------------------------------------------------------------------------------------------------------------------------------------------------------------------------------------------------------------------------------------------+---------+\n",
            "|id |text_en                                                                                                                                                                                                                                                                                                                                                                                                                                                                                                                                                                                                                                                                                                                                                                                                                                                                                                                                                                                                                                                                                                                                                                                                                                                                                                                                                                                                                                                                                                                                                                                                                                                                                                                         |text_pt                                                                                                                                                                                                                                                                                                                                                                                                                                                                                                                                                                                                                                                                                                                                                                                                                                                                                                                                                                                                                                                                                                                                                                                                                                                                                                                                                                                                                                                                                                                                                                                                                                                                                                                                                                                                                                                                                                                 |sentiment|\n",
            "+---+--------------------------------------------------------------------------------------------------------------------------------------------------------------------------------------------------------------------------------------------------------------------------------------------------------------------------------------------------------------------------------------------------------------------------------------------------------------------------------------------------------------------------------------------------------------------------------------------------------------------------------------------------------------------------------------------------------------------------------------------------------------------------------------------------------------------------------------------------------------------------------------------------------------------------------------------------------------------------------------------------------------------------------------------------------------------------------------------------------------------------------------------------------------------------------------------------------------------------------------------------------------------------------------------------------------------------------------------------------------------------------------------------------------------------------------------------------------------------------------------------------------------------------------------------------------------------------------------------------------------------------------------------------------------------------------------------------------------------------+------------------------------------------------------------------------------------------------------------------------------------------------------------------------------------------------------------------------------------------------------------------------------------------------------------------------------------------------------------------------------------------------------------------------------------------------------------------------------------------------------------------------------------------------------------------------------------------------------------------------------------------------------------------------------------------------------------------------------------------------------------------------------------------------------------------------------------------------------------------------------------------------------------------------------------------------------------------------------------------------------------------------------------------------------------------------------------------------------------------------------------------------------------------------------------------------------------------------------------------------------------------------------------------------------------------------------------------------------------------------------------------------------------------------------------------------------------------------------------------------------------------------------------------------------------------------------------------------------------------------------------------------------------------------------------------------------------------------------------------------------------------------------------------------------------------------------------------------------------------------------------------------------------------------+---------+\n",
            "|1  |Once again Mr. Costner has dragged out a movie for far longer than necessary. Aside from the terrific sea rescue sequences, of which there are very few I just did not care about any of the characters. Most of us have ghosts in the closet, and Costners character are realized early on, and then forgotten until much later, by which time I did not care. The character we should really care about is a very cocky, overconfident Ashton Kutcher. The problem is he comes off as kid who thinks hes better than anyone else around him and shows no signs of a cluttered closet. His only obstacle appears to be winning over Costner. Finally when we are well past the half way point of this stinker, Costner tells us all about Kutchers ghosts. We are told why Kutcher is driven to be the best with no prior inkling or foreshadowing. No magic here, it was all I could do to keep from turning it off an hour in.                                                                                                                                                                                                                                                                                                                                                                                                                                                                                                                                                                                                                                                                                                                                                                                               |Mais uma vez, o Sr. Costner arrumou um filme por muito mais tempo do que o necessário. Além das terríveis seqüências de resgate no mar, das quais há muito poucas, eu simplesmente não me importei com nenhum dos personagens. A maioria de nós tem fantasmas no armário, e o personagem Costers é realizado logo no início, e depois esquecido até muito mais tarde, quando eu não me importava. O personagem com o qual deveríamos nos importar é muito arrogante e superconfiante, Ashton Kutcher. O problema é que ele sai como um garoto que pensa que é melhor do que qualquer outra pessoa ao seu redor e não mostra sinais de um armário desordenado. Seu único obstáculo parece estar vencendo Costner. Finalmente, quando estamos bem além do meio do caminho, Costner nos conta sobre os fantasmas dos Kutchers. Somos informados de por que Kutcher é levado a ser o melhor sem pressentimentos ou presságios anteriores. Nenhuma mágica aqui, era tudo que eu podia fazer para não desligar uma hora.                                                                                                                                                                                                                                                                                                                                                                                                                                                                                                                                                                                                                                                                                                                                                                                                                                                                                                      |neg      |\n",
            "|2  |This is an example of why the majority of action films are the same. Generic and boring, theres really nothing worth watching here. A complete waste of the then barely-tapped talents of Ice-T and Ice Cube, whove each proven many times over that they are capable of acting, and acting well. Dont bother with this one, go see New Jack City, Ricochet or watch New York Undercover for Ice-T, or Boyz n the Hood, Higher Learning or Friday for Ice Cube and see the real deal. Ice-Ts horribly cliched dialogue alone makes this film grate at the teeth, and Im still wondering what the heck Bill Paxton was doing in this film? And why the heck does he always play the exact same character? From Aliens onward, every film Ive seen with Bill Paxton has him playing the exact same irritating character, and at least in Aliens his character died, which made it somewhat gratifying...Overall, this is second-rate action trash. There are countless better films to see, and if you really want to see this one, watch Judgement Night, which is practically a carbon copy but has better acting and a better script. The only thing that made this at all worth watching was a decent hand on the camera - the cinematography was almost refreshing, which comes close to making up for the horrible film itself - but not quite. 4/10.                                                                                                                                                                                                                                                                                                                                                                       |Este é um exemplo do motivo pelo qual a maioria dos filmes de ação são os mesmos. Genérico e chato, não há nada que valha a pena assistir aqui. Um completo desperdício dos talentos de Ice-T e Cubo de Gelo que foram mal aproveitados, cada um comprovando que são capazes de atuar e agir bem. Não se incomode com este, vá ver New Jack City, Ricochet ou assistir New York Undercover para Ice-T, ou Boyz no Hood, Higher Learning ou Friday for Ice Cube e ver o negócio real. Ice-Ts horrivelmente clichê diálogo sozinho faz este filme ralar os dentes, e eu ainda estou me perguntando o que diabos Bill Paxton estava fazendo neste filme? E por que diabos ele sempre interpreta exatamente o mesmo personagem? Dos extraterrestres em diante, todos os filmes que eu vi com Bill Paxton o fizeram interpretar exatamente o mesmo personagem irritante, e pelo menos em Aliens seu personagem morreu, o que o tornou um pouco gratificante ... No geral, esse é lixo de ação de segunda classe. Existem incontáveis ​​filmes melhores para ver, e se você realmente quiser ver esse filme, assista a Judgment Night, que é praticamente uma cópia carbono, mas tem melhor atuação e um roteiro melhor. A única coisa que fez isso valer a pena assistir foi uma mão decente na câmera - a cinematografia era quase refrescante, o que chega perto de compensar o horrível filme em si - mas não é bem assim. 4/10                                                                                                                                                                                                                                                                                                                                                                                                                                                                                           |neg      |\n",
            "|3  |First of all I hate those moronic rappers, who couldnt act if they had a gun pressed against their foreheads. All they do is curse and shoot each other and acting like clichÃ©e version of gangsters.The movie doesnt take more than five minutes to explain what is going on before were already at the warehouse There is not a single sympathetic character in this movie, except for the homeless guy, who is also the only one with half a brain.Bill Paxton and William Sadler are both hill billies and Sadlers character is just as much a villain as the gangsters. I didnt like him right from the start.The movie is filled with pointless violence and Walter Hills specialty: people falling through windows with glass flying everywhere. There is pretty much no plot and it is a big problem when you root for no-one. Everybody dies, except from Paxton and the homeless guy and everybody get what they deserve.The only two black people that can act is the homeless guy and the junkie but theyre actors by profession, not annoying ugly brain dead rappers.Stay away from this crap and watch 48 hours 1 and 2 instead. At lest they have characters you care about, a sense of humor and nothing but real actors in the cast.                                                                                                                                                                                                                                                                                                                                                                                                                                                                         |Primeiro de tudo eu odeio esses raps imbecis, que não poderiam agir se tivessem uma arma pressionada contra suas testas. Tudo o que eles fazem é amaldiçoar e atirar um no outro e agir como uma versão clichê de gangsters. O filme não leva mais de cinco minutos para explicar o que está acontecendo antes que já estivessem no armazém. Não há um único personagem simpático nesse filme, com exceção do sem-teto, que também é o único com metade do cérebro. William Paxton e William Sadler são ambos \"hill billies\" e Sadler é tão vilão quanto os gângsteres. Eu não gostava dele desde o começo. O filme está cheio de violência sem sentido e especialidade de Walter Hills: pessoas caindo de janelas com vidros voando por toda parte. Não há praticamente nenhum enredo e é um grande problema quando você torce por ninguém. Todo mundo morre, exceto Paxton e o sem-teto e todos recebem o que merecem. Os dois únicos negros que podem atuar são o sem-teto e o viciado, mas são atores de profissão, não irritantes rappers feios. Fique longe dessa porcaria. e observe 48 horas 1 e 2 em vez disso. No mínimo, eles têm personagens de que você gosta, senso de humor e nada além de atores reais no elenco.                                                                                                                                                                                                                                                                                                                                                                                                                                                                                                                                                                                                                                                                                       |neg      |\n",
            "|4  |Not even the Beatles could write songs everyone liked, and although Walter Hill is no mop-top hes second to none when it comes to thought provoking action movies. The nineties came and social platforms were changing in music and film, the emergence of the Rapper turned movie star was in full swing, the acting took a back seat to each mans overpowering regional accent and transparent acting. This was one of the many ice-t movies i saw as a kid and loved, only to watch them later and cringe. Bill Paxton and William Sadler are firemen with basic lives until a burning building tenant about to go up in flames hands over a map with gold implications. I hand it to Walter for quickly and neatly setting up the main characters and location. But i fault everyone involved for turning out Lame-o performances. Ice-t and cube must have been red hot at this time, and while Ive enjoyed both their careers as rappers, in my opinion they fell flat in this movie. Its about ninety minutes of one guy ridiculously turning his back on the other guy to the point you find yourself locked in multiple states of disbelief. Now this is a movie, its not a documentary so i wont waste my time recounting all the stupid plot twists in this movie, but there were many, and they led nowhere. I got the feeling watching this that everyone on set was sord of confused and just playing things off the cuff. There are two things i still enjoy about it, one involves a scene with a needle and the other is Sadlers huge 45 pistol. Bottom line this movie is like dominos pizza. Yeah ill eat it if Im hungry and i dont feel like cooking, But Im well aware it tastes like crap. 3 stars, meh.|Nem mesmo os Beatles puderam escrever músicas que todos gostassem, e embora Walter Hill não seja um mop-top, ele é incomparável quando se trata de filmes de ação instigantes. Os anos noventa chegaram e as plataformas sociais estavam mudando em música e cinema, o surgimento da estrela de cinema do Rapper estava em pleno andamento, a atuação ficou em segundo plano para cada homem dominar o sotaque regional e a atuação transparente. Este foi um dos muitos filmes de ice-t que eu vi quando criança e amei, só para assisti-los mais tarde e me encolher. Bill Paxton e William Sadler são bombeiros com vidas básicas até que um inquilino em chamas prestes a pegar fogo com um mapa com implicações douradas. Eu entrego a Walter para rapidamente e ordenadamente configurar os personagens principais e localização. Mas eu culpo todos os envolvidos por produzir performances do Lame-o. O gelo e o cubo devem ter ficado muito quentes neste momento, e embora eu tenha gostado de suas carreiras como rappers, na minha opinião, eles ficaram insatisfeitos com esse filme. São cerca de noventa minutos de um cara ridiculamente virando as costas para o outro cara até o ponto em que você se encontra bloqueado em múltiplos estados de descrença. Agora este é um filme, não é um documentário, então eu não vou perder meu tempo recontando todas as reviravoltas estúpidas neste filme, mas havia muitos, e eles não levaram a lugar nenhum. Eu tenho a sensação de ver isso que todo mundo no set era sordeto de confuso e apenas jogando as coisas fora do punho. Há duas coisas que eu ainda gosto, uma envolve uma cena com uma agulha e a outra é uma enorme pistola 45 Sadlers. Bottom line este filme é como pizza de dominó. Sim, eu comeria se estivesse com fome e eu não estivesse com vontade de cozinhar, mas eu estou bem ciente que tem gosto de porcaria. 3 estrelas, meh.|neg      |\n",
            "|5  |Brass pictures movies is not a fitting word for them really are somewhat brassy. Their alluring visual qualities are reminiscent of expensive high class TV commercials. But unfortunately Brass pictures are feature films with the pretense of wanting to entertain viewers for over two hours! In this they fail miserably, their undeniable, but rather soft and flabby than steamy, erotic qualities non withstanding.Senso 45 is a remake of a film by Luchino Visconti with the same title and Alida Valli and Farley Granger in the lead. The original tells a story of senseless love and lust in and around Venice during the Italian wars of independence. Brass moved the action from the 19th into the 20th century, 1945 to be exact, so there are Mussolini murals, men in black shirts, German uniforms or the tattered garb of the partisans. But it is just window dressing, the historic context is completely negligible.Anna Galiena plays the attractive aristocratic woman who falls for the amoral SS guy who always puts on too much lipstick. She is an attractive, versatile, well trained Italian actress and clearly above the material. Her wide range of facial expressions signalling boredom, loathing, delight, fear, hate ... and ecstasy are the best reason to watch this picture and worth two stars. She endures this basically trashy stuff with an astonishing amount of dignity. I wish some really good parts come along for her. She really deserves it.                                                                                                                                                                                                                            |Filmes de fotos de latão não é uma palavra apropriada para eles, na verdade, são um tanto ousados. Suas qualidades visuais atraentes são reminiscentes de comerciais de TV caros de alta classe. Mas, infelizmente, as imagens de Brass são longas-metragens com o pretexto de querer entreter os telespectadores durante mais de duas horas! Nisto eles falham miseravelmente, suas qualidades eróticas inegáveis, mas bastante suaves e flácidas que vaporosas, não resistentes.Senso 45 é um remake de um filme de Luchino Visconti com o mesmo título e Alida Valli e Farley Granger na liderança. O original conta uma história de amor sem sentido e luxúria em Veneza e arredores durante as guerras italianas de independência. Brass moveu a ação do século 19 para o século 20, em 1945, para ser exato, então há murais de Mussolini, homens de camisa preta, uniformes alemães ou o traje esfarrapado dos partidários. Mas é apenas fachada, o contexto histórico é completamente insignificante. Anna Galiena interpreta a atraente mulher aristocrática que se apaixona pelo cara amoral da SS que sempre usa muito batom. Ela é uma atriz italiana atraente, versátil e bem treinada e claramente acima do material. Sua ampla gama de expressões faciais sinalizando tédio, aversão, prazer, medo, ódio ... e êxtase são a melhor razão para assistir a esta foto e vale duas estrelas. Ela suporta este material basicamente inútil com uma quantidade impressionante de dignidade. Desejo que algumas partes realmente boas apareçam para ela. Ela realmente merece isso.                                                                                                                                                                                                                                                                                                                             |neg      |\n",
            "+---+--------------------------------------------------------------------------------------------------------------------------------------------------------------------------------------------------------------------------------------------------------------------------------------------------------------------------------------------------------------------------------------------------------------------------------------------------------------------------------------------------------------------------------------------------------------------------------------------------------------------------------------------------------------------------------------------------------------------------------------------------------------------------------------------------------------------------------------------------------------------------------------------------------------------------------------------------------------------------------------------------------------------------------------------------------------------------------------------------------------------------------------------------------------------------------------------------------------------------------------------------------------------------------------------------------------------------------------------------------------------------------------------------------------------------------------------------------------------------------------------------------------------------------------------------------------------------------------------------------------------------------------------------------------------------------------------------------------------------------+------------------------------------------------------------------------------------------------------------------------------------------------------------------------------------------------------------------------------------------------------------------------------------------------------------------------------------------------------------------------------------------------------------------------------------------------------------------------------------------------------------------------------------------------------------------------------------------------------------------------------------------------------------------------------------------------------------------------------------------------------------------------------------------------------------------------------------------------------------------------------------------------------------------------------------------------------------------------------------------------------------------------------------------------------------------------------------------------------------------------------------------------------------------------------------------------------------------------------------------------------------------------------------------------------------------------------------------------------------------------------------------------------------------------------------------------------------------------------------------------------------------------------------------------------------------------------------------------------------------------------------------------------------------------------------------------------------------------------------------------------------------------------------------------------------------------------------------------------------------------------------------------------------------------+---------+\n",
            "\n"
          ]
        }
      ]
    },
    {
      "cell_type": "code",
      "source": [
        "dados.printSchema()"
      ],
      "metadata": {
        "colab": {
          "base_uri": "https://localhost:8080/"
        },
        "id": "VgbixxKuwKET",
        "outputId": "3c206006-91a3-415e-c6ba-1a58c34fadc3"
      },
      "execution_count": 7,
      "outputs": [
        {
          "output_type": "stream",
          "name": "stdout",
          "text": [
            "root\n",
            " |-- id: integer (nullable = true)\n",
            " |-- text_en: string (nullable = true)\n",
            " |-- text_pt: string (nullable = true)\n",
            " |-- sentiment: string (nullable = true)\n",
            "\n"
          ]
        }
      ]
    },
    {
      "cell_type": "code",
      "source": [
        "print(dados.count(), len(dados.columns))"
      ],
      "metadata": {
        "colab": {
          "base_uri": "https://localhost:8080/"
        },
        "id": "t5drI-t5wLNn",
        "outputId": "d915509c-136b-409a-ff91-fea341b979ad"
      },
      "execution_count": 8,
      "outputs": [
        {
          "output_type": "stream",
          "name": "stdout",
          "text": [
            "49459 4\n"
          ]
        }
      ]
    },
    {
      "cell_type": "code",
      "source": [
        "print('Negativo')\n",
        "dados.filter(dados.id == 190).select('text_pt').show(truncate=False)\n",
        "print('Positivo')\n",
        "dados.filter(dados.id == 12427).select('text_pt').show(truncate=False)"
      ],
      "metadata": {
        "colab": {
          "base_uri": "https://localhost:8080/"
        },
        "id": "JuFhQiTuxqky",
        "outputId": "5c7b265d-cb8b-445e-98fb-4683fa8d1fce"
      },
      "execution_count": 9,
      "outputs": [
        {
          "output_type": "stream",
          "name": "stdout",
          "text": [
            "Negativo\n",
            "+---------------------------------------------------------------------------------------------------------------------------------------------------------------------------------------------------------------------------------------------------------------------------------------------------------------------------------------------------------------------------------------------------------------------------------------------------------------------------------------------------------------------------------------------------------------------------------------------------------------------------------------------------------------------------------------------------------------------------------------------------------------------------------------------------------------------------------------------------------------------------------------------------+\n",
            "|text_pt                                                                                                                                                                                                                                                                                                                                                                                                                                                                                                                                                                                                                                                                                                                                                                                                                                                                                            |\n",
            "+---------------------------------------------------------------------------------------------------------------------------------------------------------------------------------------------------------------------------------------------------------------------------------------------------------------------------------------------------------------------------------------------------------------------------------------------------------------------------------------------------------------------------------------------------------------------------------------------------------------------------------------------------------------------------------------------------------------------------------------------------------------------------------------------------------------------------------------------------------------------------------------------------+\n",
            "|Este é sem dúvida o pior filme que eu já vi. E acredite em mim, eu vi muitos filmes. A reviravolta inacreditável que o filme faz - passando de um extremamente mau filme \"Formas de vida alienígenas habitam a terra\", com um filme que tenta espalhar um arquicristiano \"O dia do julgamento está próximo, buscar Jesus ou queimar por toda a eternidade em as dívidas ardentes do inferno \"mensagem - deixou-me atordoado depois de ter sido atormentado por 85 minutos. Até mesmo os cristãos religiosos devem se envergonhar ou ficar furiosos ao ver suas crenças postadas dessa maneira. Eu não sabia o que fazer comigo quando assisti a atuação horrível que poderia ter sido realizada por crianças de 7 anos de idade. Simplesmente repugnante. Eu não sou cristão nem muito religioso. Mas se eu estivesse, não teria mais medo do Inferno. Rich Christiano mostrou ser algo muito pior.|\n",
            "+---------------------------------------------------------------------------------------------------------------------------------------------------------------------------------------------------------------------------------------------------------------------------------------------------------------------------------------------------------------------------------------------------------------------------------------------------------------------------------------------------------------------------------------------------------------------------------------------------------------------------------------------------------------------------------------------------------------------------------------------------------------------------------------------------------------------------------------------------------------------------------------------------+\n",
            "\n",
            "Positivo\n",
            "+-----------------------------------------------------------------------------------------------------------------------------------------------------------------------------------------------------------------------------------------------------------------------------------------------------------------------------------------------------------------------------------------------------------------------------------------------------------------------------------------------------------------------------------------------------------------------------------------------------------------------------------------------------------------------------------------------------------------------------------------------------+\n",
            "|text_pt                                                                                                                                                                                                                                                                                                                                                                                                                                                                                                                                                                                                                                                                                                                                              |\n",
            "+-----------------------------------------------------------------------------------------------------------------------------------------------------------------------------------------------------------------------------------------------------------------------------------------------------------------------------------------------------------------------------------------------------------------------------------------------------------------------------------------------------------------------------------------------------------------------------------------------------------------------------------------------------------------------------------------------------------------------------------------------------+\n",
            "|O filme é excelente. Uma das coisas mais notáveis ​​sobre isso é que o desempenho Flynns é excelente. Isso vale a pena enfatizar, já que ele costumava ser ridicularizado como ator por Bette Davis et al. Lembro-me da cena em que Flynn fica bêbado de Arthur Kennedy para levá-lo ao seu destino na Batalha de Little Big Horn. O olhar frio e calculista no rosto de Flynns é extraordinário - muito melhor do que o muito elogiado Spencer Tracy ou muitas outras estrelas poderiam ter feito. A outra coisa a notar é o excelente desempenho de George P. Huntley Jr como o \"Queens\". Próprio \"Butler. É desconcertante por que ele parou de fazer filmes pouco depois - alguém teria pensado que ele teria sido contratado por anos como ator.|\n",
            "+-----------------------------------------------------------------------------------------------------------------------------------------------------------------------------------------------------------------------------------------------------------------------------------------------------------------------------------------------------------------------------------------------------------------------------------------------------------------------------------------------------------------------------------------------------------------------------------------------------------------------------------------------------------------------------------------------------------------------------------------------------+\n",
            "\n"
          ]
        }
      ]
    },
    {
      "cell_type": "code",
      "source": [
        "import pyspark.sql.functions as f\n",
        "from pyspark.sql.window import Window\n",
        "\n",
        "dados.groupBy('sentiment').count().withColumn(\"(%)\", f.round(f.col('count')/f.sum('count').over(Window.partitionBy())*100, 2)).show()"
      ],
      "metadata": {
        "colab": {
          "base_uri": "https://localhost:8080/"
        },
        "id": "i_3Z3OCWyUKN",
        "outputId": "be90aaee-425c-407e-d1af-607539913162"
      },
      "execution_count": 10,
      "outputs": [
        {
          "output_type": "stream",
          "name": "stdout",
          "text": [
            "+---------+-----+-----+\n",
            "|sentiment|count|  (%)|\n",
            "+---------+-----+-----+\n",
            "|      pos|24694|49.93|\n",
            "|      neg|24765|50.07|\n",
            "+---------+-----+-----+\n",
            "\n"
          ]
        }
      ]
    },
    {
      "cell_type": "markdown",
      "source": [
        "### ***Limpando e processando os dados***\n",
        "\n",
        "Para que o computador compreenda nossa linguagem é importante realizar algumas transformações no intuito de faciliar essa compreensão. Para isso, primeiramente podemos realizar a **limpeza dos dados**, que consiste na **remoção de caracteres que não contribui** na distinção dos sentimentos dos comentários dos nossos clientes, podemos citar por exemplos, remover caracteres especiais e espaços no início e fim dos comentários.\n",
        "\n",
        "\n",
        "Logo após a limpeza de caracteres não relevantes, precisamos realizar o procedimento de **Tokenização**, que consiste no processo de **dividir uma frase** em palavras ou tokens (parte do texto) individuais.\n",
        "\n",
        "E para finalizar o processamento dos nossos dados, iremos realizar a retirada de **stopwords**, ou seja, aquelas palavras que não auxiliam na classificação ou identificação do texto, em sua maioria são **preposições, artigos, pronomes .**..\n",
        "\n"
      ],
      "metadata": {
        "id": "zYfBXdic0vOR"
      }
    },
    {
      "cell_type": "markdown",
      "source": [
        "### **WordCloud**\n",
        "\n",
        "A nuvem de palavras é um recurso visual muito utilizado para entender as palavras mais frequentes de um texto. Aqui usaremos a própria biblioteca do Python `WordCloud`.\n",
        "\n",
        "A ideia é coletar as palavras usando *list comprehension* e aplicando a função `collect()` em uma [amostra](https://spark.apache.org/docs/latest/api/python/reference/pyspark.sql/api/pyspark.sql.DataFrame.sample.html), já que esta função exige muitos recursos de processamento do spark.\n"
      ],
      "metadata": {
        "id": "MxHfX-wYT72I"
      }
    },
    {
      "cell_type": "code",
      "source": [
        "from wordcloud import WordCloud\n",
        "import matplotlib.pyplot as plt"
      ],
      "metadata": {
        "id": "lxSa0z3QylL9"
      },
      "execution_count": 11,
      "outputs": []
    },
    {
      "cell_type": "code",
      "source": [
        "amostra = dados.select('text_pt').sample(False, 0.1, seed=101)\n",
        "tudo = [texto['text_pt'] for texto in amostra.collect()]"
      ],
      "metadata": {
        "id": "oZ9aPL5h06Xu"
      },
      "execution_count": 12,
      "outputs": []
    },
    {
      "cell_type": "code",
      "source": [
        "wordcloud = WordCloud(background_color='white', collocations=False, prefer_horizontal=1, width=1000,height=600).generate(str(tudo))\n",
        "plt.imshow(wordcloud, interpolation='bilinear')\n",
        "plt.axis('off')\n",
        "plt.show()"
      ],
      "metadata": {
        "colab": {
          "base_uri": "https://localhost:8080/",
          "height": 334
        },
        "id": "vNGWh9on1Uxj",
        "outputId": "2506b0cc-4696-48b0-9070-1a1be82e3c6f"
      },
      "execution_count": 13,
      "outputs": [
        {
          "output_type": "display_data",
          "data": {
            "text/plain": [
              "<Figure size 640x480 with 1 Axes>"
            ],
            "image/png": "[encoded data removed]"
          },
          "metadata": {}
        }
      ]
    },
    {
      "cell_type": "markdown",
      "source": [
        "#### **Limpeza**: caracteres especiais"
      ],
      "metadata": {
        "id": "CKqWvHon8lVL"
      }
    },
    {
      "cell_type": "code",
      "source": [
        "import string\n",
        "string.punctuation"
      ],
      "metadata": {
        "colab": {
          "base_uri": "https://localhost:8080/",
          "height": 35
        },
        "id": "UV0A7H3d7egg",
        "outputId": "84cf8afc-005b-427b-f763-66d9946cd30f"
      },
      "execution_count": 14,
      "outputs": [
        {
          "output_type": "execute_result",
          "data": {
            "text/plain": [
              "'!\"#$%&\\'()*+,-./:;<=>?@[\\\\]^_`{|}~'"
            ],
            "application/vnd.google.colaboratory.intrinsic+json": {
              "type": "string"
            }
          },
          "metadata": {},
          "execution_count": 14
        }
      ]
    },
    {
      "cell_type": "code",
      "source": [
        "dados = dados.withColumn('texto_regex', f.regexp_replace('text_en', \"[\\$#,\\\"!%&'()*+-./:;<=>?@^_`´{|}~\\\\\\\\]\", \"\"))\n",
        "dados = dados.withColumn('texto_limpo', f.trim(dados.texto_regex))\n",
        "dados.limit(5).show()"
      ],
      "metadata": {
        "colab": {
          "base_uri": "https://localhost:8080/"
        },
        "id": "kBLuY8wP8ofp",
        "outputId": "bf8f3b16-a822-44df-c784-ce22e0999d29"
      },
      "execution_count": 15,
      "outputs": [
        {
          "output_type": "stream",
          "name": "stdout",
          "text": [
            "+---+--------------------+--------------------+---------+--------------------+--------------------+\n",
            "| id|             text_en|             text_pt|sentiment|         texto_regex|         texto_limpo|\n",
            "+---+--------------------+--------------------+---------+--------------------+--------------------+\n",
            "|  1|Once again Mr. Co...|Mais uma vez, o S...|      neg|Once again Mr Cos...|Once again Mr Cos...|\n",
            "|  2|This is an exampl...|Este é um exemplo...|      neg|This is an exampl...|This is an exampl...|\n",
            "|  3|First of all I ha...|Primeiro de tudo ...|      neg|First of all I ha...|First of all I ha...|\n",
            "|  4|Not even the Beat...|Nem mesmo os Beat...|      neg|Not even the Beat...|Not even the Beat...|\n",
            "|  5|Brass pictures mo...|Filmes de fotos d...|      neg|Brass pictures mo...|Brass pictures mo...|\n",
            "+---+--------------------+--------------------+---------+--------------------+--------------------+\n",
            "\n"
          ]
        }
      ]
    },
    {
      "cell_type": "markdown",
      "source": [
        "#### **Tokenização**: divisão em tokens"
      ],
      "metadata": {
        "id": "7l81Ao9sOyHo"
      }
    },
    {
      "cell_type": "code",
      "source": [
        "from pyspark.ml.feature import Tokenizer\n",
        "\n",
        "tokenizer = Tokenizer(inputCol='texto_limpo', outputCol='tokens')\n",
        "tokenizado = tokenizer.transform(dados)"
      ],
      "metadata": {
        "id": "rddBFC2z9YRd"
      },
      "execution_count": 16,
      "outputs": []
    },
    {
      "cell_type": "code",
      "source": [
        "tokenizado.select('texto_limpo', 'tokens').show()"
      ],
      "metadata": {
        "colab": {
          "base_uri": "https://localhost:8080/"
        },
        "id": "AJziCblFPIQr",
        "outputId": "51916a05-052c-4add-dd01-561701f1ba5f"
      },
      "execution_count": 17,
      "outputs": [
        {
          "output_type": "stream",
          "name": "stdout",
          "text": [
            "+--------------------+--------------------+\n",
            "|         texto_limpo|              tokens|\n",
            "+--------------------+--------------------+\n",
            "|Once again Mr Cos...|[once, again, mr,...|\n",
            "|This is an exampl...|[this, is, an, ex...|\n",
            "|First of all I ha...|[first, of, all, ...|\n",
            "|Not even the Beat...|[not, even, the, ...|\n",
            "|Brass pictures mo...|[brass, pictures,...|\n",
            "|A funny thing hap...|[a, funny, thing,...|\n",
            "|This German horro...|[this, german, ho...|\n",
            "|Being a longtime ...|[being, a, longti...|\n",
            "|Tokyo Eyes tells ...|[tokyo, eyes, tel...|\n",
            "|Wealthy horse ran...|[wealthy, horse, ...|\n",
            "|Cage plays a drun...|[cage, plays, a, ...|\n",
            "|First of all I wo...|[first, of, all, ...|\n",
            "|So tell me  what ...|[so, tell, me, , ...|\n",
            "|A big disappointm...|[a, big, disappoi...|\n",
            "|This film is abso...|[this, film, is, ...|\n",
            "|Heres a decidedly...|[heres, a, decide...|\n",
            "|At the bottom end...|[at, the, bottom,...|\n",
            "|Earth has been de...|[earth, has, been...|\n",
            "|Many people are s...|[many, people, ar...|\n",
            "|New York family i...|[new, york, famil...|\n",
            "+--------------------+--------------------+\n",
            "only showing top 20 rows\n",
            "\n"
          ]
        }
      ]
    },
    {
      "cell_type": "code",
      "source": [
        "from pyspark.sql.types import IntegerType\n",
        "countTokens = f.udf(lambda tokens: len(tokens), IntegerType())\n",
        "tokenizado = tokenizado.withColumn(\"token_count\", countTokens(f.col(\"tokens\")))"
      ],
      "metadata": {
        "id": "8hwDXiAbPK_W"
      },
      "execution_count": 18,
      "outputs": []
    },
    {
      "cell_type": "code",
      "source": [
        "tokenizado.select('texto_limpo', 'tokens', 'token_count').show()"
      ],
      "metadata": {
        "colab": {
          "base_uri": "https://localhost:8080/"
        },
        "id": "OnQRwoqXPc72",
        "outputId": "b5e0270d-b154-439d-da22-df001ace120d"
      },
      "execution_count": 19,
      "outputs": [
        {
          "output_type": "stream",
          "name": "stdout",
          "text": [
            "+--------------------+--------------------+-----------+\n",
            "|         texto_limpo|              tokens|token_count|\n",
            "+--------------------+--------------------+-----------+\n",
            "|Once again Mr Cos...|[once, again, mr,...|        168|\n",
            "|This is an exampl...|[this, is, an, ex...|        232|\n",
            "|First of all I ha...|[first, of, all, ...|        215|\n",
            "|Not even the Beat...|[not, even, the, ...|        308|\n",
            "|Brass pictures mo...|[brass, pictures,...|        238|\n",
            "|A funny thing hap...|[a, funny, thing,...|        115|\n",
            "|This German horro...|[this, german, ho...|        156|\n",
            "|Being a longtime ...|[being, a, longti...|        136|\n",
            "|Tokyo Eyes tells ...|[tokyo, eyes, tel...|        129|\n",
            "|Wealthy horse ran...|[wealthy, horse, ...|        160|\n",
            "|Cage plays a drun...|[cage, plays, a, ...|        109|\n",
            "|First of all I wo...|[first, of, all, ...|        333|\n",
            "|So tell me  what ...|[so, tell, me, , ...|        243|\n",
            "|A big disappointm...|[a, big, disappoi...|        110|\n",
            "|This film is abso...|[this, film, is, ...|        185|\n",
            "|Heres a decidedly...|[heres, a, decide...|        205|\n",
            "|At the bottom end...|[at, the, bottom,...|        148|\n",
            "|Earth has been de...|[earth, has, been...|        196|\n",
            "|Many people are s...|[many, people, ar...|        350|\n",
            "|New York family i...|[new, york, famil...|         77|\n",
            "+--------------------+--------------------+-----------+\n",
            "only showing top 20 rows\n",
            "\n"
          ]
        }
      ]
    },
    {
      "cell_type": "markdown",
      "source": [
        "#### **StopWords**: remoção de ruídos\n",
        "\n",
        "Podemos usar o [`StopWordsRemover()`](https://spark.apache.org/docs/latest/api/python/reference/api/pyspark.ml.feature.StopWordsRemover.html) nativo do spark, ou o [`stopwords()`](https://openbase.com/js/nltk-stopwords/documentation) da biblioteca nltk do Python. Dentre muitas linguagens, ambas bibliotecas dão suporte para o português.\n",
        "\n",
        "Vamos começar com um **exemplo pequeno** e depois aplicar em nossos dados."
      ],
      "metadata": {
        "id": "pv-_ltz0QMql"
      }
    },
    {
      "cell_type": "code",
      "source": [
        "import nltk\n",
        "nltk.download('stopwords')\n",
        "\n",
        "from nltk.corpus import stopwords\n",
        "stop_A = stopwords.words('english')"
      ],
      "metadata": {
        "colab": {
          "base_uri": "https://localhost:8080/"
        },
        "id": "R0KDhFeVPkwN",
        "outputId": "6487b473-8000-4edb-e04b-d2252faadb83"
      },
      "execution_count": 20,
      "outputs": [
        {
          "output_type": "stream",
          "name": "stderr",
          "text": [
            "[nltk_data] Downloading package stopwords to /root/nltk_data...\n",
            "[nltk_data]   Unzipping corpora/stopwords.zip.\n"
          ]
        }
      ]
    },
    {
      "cell_type": "code",
      "source": [
        "from pyspark.ml.feature import StopWordsRemover\n",
        "\n",
        "remover = StopWordsRemover(inputCol='tokens', outputCol='sem_stop', stopWords=stop_A)\n",
        "sem_stop = remover.transform(tokenizado)"
      ],
      "metadata": {
        "id": "zfTTBBBoQYN2"
      },
      "execution_count": 21,
      "outputs": []
    },
    {
      "cell_type": "code",
      "source": [
        "sem_stop.select('texto_limpo', 'tokens', 'sem_stop').show()"
      ],
      "metadata": {
        "colab": {
          "base_uri": "https://localhost:8080/"
        },
        "id": "Hj4toqNsQohR",
        "outputId": "21a2dbb2-04e3-499c-92fe-45d69e1f417e"
      },
      "execution_count": 22,
      "outputs": [
        {
          "output_type": "stream",
          "name": "stdout",
          "text": [
            "+--------------------+--------------------+--------------------+\n",
            "|         texto_limpo|              tokens|            sem_stop|\n",
            "+--------------------+--------------------+--------------------+\n",
            "|Once again Mr Cos...|[once, again, mr,...|[mr, costner, dra...|\n",
            "|This is an exampl...|[this, is, an, ex...|[example, majorit...|\n",
            "|First of all I ha...|[first, of, all, ...|[first, hate, mor...|\n",
            "|Not even the Beat...|[not, even, the, ...|[even, beatles, c...|\n",
            "|Brass pictures mo...|[brass, pictures,...|[brass, pictures,...|\n",
            "|A funny thing hap...|[a, funny, thing,...|[funny, thing, ha...|\n",
            "|This German horro...|[this, german, ho...|[german, horror, ...|\n",
            "|Being a longtime ...|[being, a, longti...|[longtime, fan, j...|\n",
            "|Tokyo Eyes tells ...|[tokyo, eyes, tel...|[tokyo, eyes, tel...|\n",
            "|Wealthy horse ran...|[wealthy, horse, ...|[wealthy, horse, ...|\n",
            "|Cage plays a drun...|[cage, plays, a, ...|[cage, plays, dru...|\n",
            "|First of all I wo...|[first, of, all, ...|[first, would, li...|\n",
            "|So tell me  what ...|[so, tell, me, , ...|[tell, , serious,...|\n",
            "|A big disappointm...|[a, big, disappoi...|[big, disappointm...|\n",
            "|This film is abso...|[this, film, is, ...|[film, absolutely...|\n",
            "|Heres a decidedly...|[heres, a, decide...|[heres, decidedly...|\n",
            "|At the bottom end...|[at, the, bottom,...|[bottom, end, apo...|\n",
            "|Earth has been de...|[earth, has, been...|[earth, destroyed...|\n",
            "|Many people are s...|[many, people, ar...|[many, people, st...|\n",
            "|New York family i...|[new, york, famil...|[new, york, famil...|\n",
            "+--------------------+--------------------+--------------------+\n",
            "only showing top 20 rows\n",
            "\n"
          ]
        }
      ]
    },
    {
      "cell_type": "code",
      "source": [
        "sem_stop.columns"
      ],
      "metadata": {
        "colab": {
          "base_uri": "https://localhost:8080/"
        },
        "id": "yjNavg4PSnui",
        "outputId": "4ba5a571-5796-40ed-c095-f7bf14e42823"
      },
      "execution_count": 23,
      "outputs": [
        {
          "output_type": "execute_result",
          "data": {
            "text/plain": [
              "['id',\n",
              " 'text_en',\n",
              " 'text_pt',\n",
              " 'sentiment',\n",
              " 'texto_regex',\n",
              " 'texto_limpo',\n",
              " 'tokens',\n",
              " 'token_count',\n",
              " 'sem_stop']"
            ]
          },
          "metadata": {},
          "execution_count": 23
        }
      ]
    },
    {
      "cell_type": "code",
      "source": [
        "sem_stop.select('tokens', 'texto_limpo', 'sem_stop') \\\n",
        "    .withColumn(\"token_count\", countTokens(f.col(\"tokens\"))) \\\n",
        "    .withColumn(\"stop_count\", countTokens(f.col(\"sem_stop\"))) \\\n",
        "    .show()"
      ],
      "metadata": {
        "colab": {
          "base_uri": "https://localhost:8080/"
        },
        "id": "1gNCxodnRDjD",
        "outputId": "dd2cf0cd-f712-4e73-9ff1-ffd0753f07da"
      },
      "execution_count": 24,
      "outputs": [
        {
          "output_type": "stream",
          "name": "stdout",
          "text": [
            "+--------------------+--------------------+--------------------+-----------+----------+\n",
            "|              tokens|         texto_limpo|            sem_stop|token_count|stop_count|\n",
            "+--------------------+--------------------+--------------------+-----------+----------+\n",
            "|[once, again, mr,...|Once again Mr Cos...|[mr, costner, dra...|        168|        74|\n",
            "|[this, is, an, ex...|This is an exampl...|[example, majorit...|        232|       131|\n",
            "|[first, of, all, ...|First of all I ha...|[first, hate, mor...|        215|       111|\n",
            "|[not, even, the, ...|Not even the Beat...|[even, beatles, c...|        308|       170|\n",
            "|[brass, pictures,...|Brass pictures mo...|[brass, pictures,...|        238|       140|\n",
            "|[a, funny, thing,...|A funny thing hap...|[funny, thing, ha...|        115|        53|\n",
            "|[this, german, ho...|This German horro...|[german, horror, ...|        156|        75|\n",
            "|[being, a, longti...|Being a longtime ...|[longtime, fan, j...|        136|        74|\n",
            "|[tokyo, eyes, tel...|Tokyo Eyes tells ...|[tokyo, eyes, tel...|        129|        75|\n",
            "|[wealthy, horse, ...|Wealthy horse ran...|[wealthy, horse, ...|        160|        99|\n",
            "|[cage, plays, a, ...|Cage plays a drun...|[cage, plays, dru...|        109|        59|\n",
            "|[first, of, all, ...|First of all I wo...|[first, would, li...|        333|       143|\n",
            "|[so, tell, me, , ...|So tell me  what ...|[tell, , serious,...|        243|       140|\n",
            "|[a, big, disappoi...|A big disappointm...|[big, disappointm...|        110|        52|\n",
            "|[this, film, is, ...|This film is abso...|[film, absolutely...|        185|       106|\n",
            "|[heres, a, decide...|Heres a decidedly...|[heres, decidedly...|        205|       112|\n",
            "|[at, the, bottom,...|At the bottom end...|[bottom, end, apo...|        148|        69|\n",
            "|[earth, has, been...|Earth has been de...|[earth, destroyed...|        196|       117|\n",
            "|[many, people, ar...|Many people are s...|[many, people, st...|        350|       191|\n",
            "|[new, york, famil...|New York family i...|[new, york, famil...|         77|        48|\n",
            "+--------------------+--------------------+--------------------+-----------+----------+\n",
            "only showing top 20 rows\n",
            "\n"
          ]
        }
      ]
    },
    {
      "cell_type": "markdown",
      "source": [
        "### **Vetorização**\n",
        "\n",
        "\n",
        "A vetorização dos dados permite transformá-los da linguagem humana e não estruturada para uma maneira mais compreensível ao computador, ou seja, **codificando em números**, sendo possível assim associar cada um dos textos a um sentido e significado delimitados.\n",
        "\n",
        "\n",
        "O **Bag of Words**, ou sacola de palavras em português, é uma lista que contém todas as palavras que estão nos textos de maneira não repetida e tem papel importante para **identificar as palavras mais recorrentes** e entender se elas agregam algum sentimento.\n",
        "\n",
        "\n",
        "Aqui no spark o bag of words não é representado por uma matriz do vocabulário como no python, e sim com uma estrutura específica que cria uma **estrutura especifica** que faciliar a compreensão nos modelos.\n",
        "\n",
        "Alternativas para vetorização: matriz_esparsa, countvectorizer, Hashing TF...\n",
        "\n"
      ],
      "metadata": {
        "id": "7TG8H9Q2U0Az"
      }
    },
    {
      "cell_type": "code",
      "source": [
        "from pyspark.ml.feature import CountVectorizer\n",
        "\n",
        "cv = CountVectorizer(inputCol='sem_stop', outputCol='vetor')\n",
        "modelo = cv.fit(sem_stop)\n",
        "vetorizado = modelo.transform(sem_stop)"
      ],
      "metadata": {
        "id": "CxLFKn8SSEEQ"
      },
      "execution_count": 25,
      "outputs": []
    },
    {
      "cell_type": "code",
      "source": [
        "vetorizado.select('sem_stop', 'vetor').show(truncate=False)"
      ],
      "metadata": {
        "colab": {
          "base_uri": "https://localhost:8080/"
        },
        "id": "6EvcJLni11YJ",
        "outputId": "f5f56809-af65-4e36-8707-a858959c351a"
      },
      "execution_count": 26,
      "outputs": [
        {
          "output_type": "stream",
          "name": "stdout",
          "text": [
            "+-----------------------------------------------------------------------------------------------------------------------------------------------------------------------------------------------------------------------------------------------------------------------------------------------------------------------------------------------------------------------------------------------------------------------------------------------------------------------------------------------------------------------------------------------------------------------------------------------------------------------------------------------------------------------------------------------------------------------------------------------------------------------------------------------------------------------------------------------------------------------------------------------------------------------------------------------------------------------------------------------------------------------------------------------------------------------------------------------------------------------------------------------------------------------------------------------------------------------------------------------------------------------------------------------------------------------------------------------------------------------------------------------------------------------------------------------------------------------------------------------------------------+--------------------------------------------------------------------------------------------------------------------------------------------------------------------------------------------------------------------------------------------------------------------------------------------------------------------------------------------------------------------------------------------------------------------------------------------------------------------------------------------------------------------------------------------------------------------------------------------------------------------------------------------------------------------------------------------------------------------------------------------------------------------------------------------------------------------------------------------------------------------------------------------------------------------------------------------------------------------------------------------------------------------------------------------------------------------------------------------------------------------------------------------------------------------------------------------------------------------------------------------------------------------------------------------------------------------------------------------------------------+\n",
            "|sem_stop                                                                                                                                                                                                                                                                                                                                                                                                                                                                                                                                                                                                                                                                                                                                                                                                                                                                                                                                                                                                                                                                                                                                                                                                                                                                                                                                                                                                                                                                                                         |vetor                                                                                                                                                                                                                                                                                                                                                                                                                                                                                                                                                                                                                                                                                                                                                                                                                                                                                                                                                                                                                                                                                                                                                                                                                                                                                                                                                         |\n",
            "+-----------------------------------------------------------------------------------------------------------------------------------------------------------------------------------------------------------------------------------------------------------------------------------------------------------------------------------------------------------------------------------------------------------------------------------------------------------------------------------------------------------------------------------------------------------------------------------------------------------------------------------------------------------------------------------------------------------------------------------------------------------------------------------------------------------------------------------------------------------------------------------------------------------------------------------------------------------------------------------------------------------------------------------------------------------------------------------------------------------------------------------------------------------------------------------------------------------------------------------------------------------------------------------------------------------------------------------------------------------------------------------------------------------------------------------------------------------------------------------------------------------------+--------------------------------------------------------------------------------------------------------------------------------------------------------------------------------------------------------------------------------------------------------------------------------------------------------------------------------------------------------------------------------------------------------------------------------------------------------------------------------------------------------------------------------------------------------------------------------------------------------------------------------------------------------------------------------------------------------------------------------------------------------------------------------------------------------------------------------------------------------------------------------------------------------------------------------------------------------------------------------------------------------------------------------------------------------------------------------------------------------------------------------------------------------------------------------------------------------------------------------------------------------------------------------------------------------------------------------------------------------------+\n",
            "|[mr, costner, dragged, movie, far, longer, necessary, aside, terrific, sea, rescue, sequences, care, characters, us, ghosts, closet, costners, character, realized, early, forgotten, much, later, time, care, character, really, care, cocky, overconfident, ashton, kutcher, problem, comes, kid, thinks, hes, better, anyone, else, around, shows, signs, cluttered, closet, obstacle, appears, winning, costner, finally, well, past, half, way, point, stinker, costner, tells, us, kutchers, ghosts, told, kutcher, driven, best, prior, inkling, foreshadowing, magic, could, keep, turning, hour]                                                                                                                                                                                                                                                                                                                                                                                                                                                                                                                                                                                                                                                                                                                                                                                                                                                                                                        |(216699,[0,8,9,12,13,25,26,27,34,39,44,78,89,125,129,132,144,153,159,203,222,233,271,293,331,334,336,340,394,422,436,440,585,625,728,1032,1083,1106,1147,1178,1399,1460,1503,1562,1608,1878,2046,2360,2490,2737,3122,3672,3872,4444,8329,9375,10249,10537,12359,13947,15829,18470,22155,26988,31891],[1.0,1.0,1.0,1.0,1.0,1.0,1.0,1.0,2.0,1.0,1.0,2.0,1.0,1.0,1.0,1.0,1.0,1.0,1.0,1.0,1.0,1.0,1.0,1.0,1.0,1.0,1.0,3.0,1.0,1.0,1.0,1.0,1.0,1.0,1.0,1.0,1.0,1.0,1.0,1.0,1.0,1.0,1.0,1.0,1.0,1.0,1.0,1.0,1.0,2.0,1.0,1.0,1.0,2.0,3.0,1.0,1.0,2.0,1.0,1.0,1.0,1.0,1.0,1.0,1.0])                                                                                                                                                                                                                                                                                                                                                                                                                                                                                                                                                                                                                                                                                                                                                                                   |\n",
            "|[example, majority, action, films, generic, boring, theres, really, nothing, worth, watching, complete, waste, barelytapped, talents, icet, ice, cube, whove, proven, many, times, capable, acting, acting, well, dont, bother, one, go, see, new, jack, city, ricochet, watch, new, york, undercover, icet, boyz, n, hood, higher, learning, friday, ice, cube, see, real, deal, icets, horribly, cliched, dialogue, alone, makes, film, grate, teeth, im, still, wondering, heck, bill, paxton, film, heck, always, play, exact, character, aliens, onward, every, film, ive, seen, bill, paxton, playing, exact, irritating, character, least, aliens, character, died, made, somewhat, gratifyingoverall, secondrate, action, trash, countless, better, films, see, really, want, see, one, watch, judgement, night, practically, carbon, copy, better, acting, better, script, thing, made, worth, watching, decent, hand, camera, , cinematography, almost, refreshing, comes, close, making, horrible, film, , quite, 410]                                                                                                                                                                                                                                                                                                                                                                                                                                                                                |(216699,[1,2,3,9,10,13,20,22,24,29,30,31,34,35,44,46,52,53,54,56,57,65,67,73,74,79,82,98,103,112,113,118,122,124,127,150,159,160,187,208,231,276,279,299,310,359,367,410,425,441,457,470,493,514,532,587,667,734,792,849,939,1043,1077,1323,1818,1824,1879,1899,1905,1962,1992,2006,2011,2192,2235,2295,2331,2501,2619,2728,2924,3240,3405,3596,5038,5841,5870,6599,7756,8174,10159,11427,12554,13025,18900,19795,22315,33378,36425,107572,214978],[4.0,2.0,2.0,2.0,4.0,1.0,1.0,2.0,2.0,2.0,1.0,1.0,3.0,3.0,3.0,1.0,1.0,1.0,2.0,1.0,1.0,1.0,1.0,2.0,1.0,1.0,1.0,1.0,1.0,1.0,1.0,1.0,2.0,1.0,1.0,1.0,1.0,2.0,1.0,1.0,1.0,1.0,1.0,1.0,1.0,1.0,1.0,1.0,1.0,1.0,1.0,1.0,1.0,1.0,1.0,1.0,1.0,1.0,1.0,2.0,1.0,1.0,1.0,1.0,1.0,1.0,1.0,2.0,2.0,2.0,1.0,1.0,1.0,1.0,1.0,1.0,2.0,1.0,1.0,1.0,1.0,1.0,1.0,1.0,2.0,1.0,2.0,1.0,1.0,1.0,2.0,1.0,1.0,1.0,1.0,1.0,1.0,1.0,1.0,1.0,1.0])                                                                                                                                                                                                                                                                                                                                                                                                                                                                                     |\n",
            "|[first, hate, moronic, rappers, couldnt, act, gun, pressed, foreheads, curse, shoot, acting, like, clichã©e, version, gangstersthe, movie, doesnt, take, five, minutes, explain, going, already, warehouse, single, sympathetic, character, movie, except, homeless, guy, also, one, half, brainbill, paxton, william, sadler, hill, billies, sadlers, character, much, villain, gangsters, didnt, like, right, startthe, movie, filled, pointless, violence, walter, hills, specialty, people, falling, windows, glass, flying, everywhere, pretty, much, plot, big, problem, root, noone, everybody, dies, except, paxton, homeless, guy, everybody, get, deservethe, two, black, people, act, homeless, guy, junkie, theyre, actors, profession, annoying, ugly, brain, dead, rappersstay, away, crap, watch, 48, hours, 1, 2, instead, lest, characters, care, sense, humor, nothing, real, actors, cast]                                                                                                                                                                                                                                                                                                                                                                                                                                                                                                                                                                                                    |(216699,[0,2,4,12,14,17,18,19,27,29,32,34,35,37,56,58,59,60,67,71,80,84,90,96,111,120,128,141,181,191,200,205,214,233,259,284,334,339,340,353,380,390,397,431,474,491,496,502,573,603,628,889,932,935,995,1008,1046,1090,1158,1227,1327,1367,1383,1536,1987,2282,2422,2463,2517,2871,3041,3452,3824,4039,4694,5061,5783,5870,6043,7327,8183,9233,9666,11716,13659,15093,25294,35174,41600,41783,48530,53571,58824,71327,104583,181482],[3.0,1.0,2.0,2.0,1.0,2.0,1.0,1.0,1.0,1.0,1.0,2.0,1.0,1.0,1.0,2.0,1.0,1.0,1.0,1.0,1.0,1.0,1.0,1.0,1.0,3.0,1.0,1.0,1.0,1.0,1.0,1.0,1.0,1.0,1.0,1.0,1.0,1.0,1.0,1.0,1.0,2.0,1.0,2.0,1.0,1.0,1.0,1.0,1.0,1.0,1.0,1.0,1.0,1.0,1.0,1.0,1.0,1.0,1.0,2.0,1.0,1.0,1.0,1.0,1.0,1.0,1.0,1.0,1.0,1.0,1.0,1.0,1.0,3.0,1.0,1.0,1.0,2.0,1.0,1.0,1.0,1.0,1.0,1.0,1.0,1.0,1.0,1.0,1.0,1.0,1.0,1.0,1.0,1.0,1.0,1.0])                                                                                                                                                                                                                                                                                                                                                                                                                                                                                                                     |\n",
            "|[even, beatles, could, write, songs, everyone, liked, although, walter, hill, moptop, hes, second, none, comes, thought, provoking, action, movies, nineties, came, social, platforms, changing, music, film, emergence, rapper, turned, movie, star, full, swing, acting, took, back, seat, mans, overpowering, regional, accent, transparent, acting, one, many, icet, movies, saw, kid, loved, watch, later, cringe, bill, paxton, william, sadler, firemen, basic, lives, burning, building, tenant, go, flames, hands, map, gold, implications, hand, walter, quickly, neatly, setting, main, characters, location, fault, everyone, involved, turning, lameo, performances, icet, cube, must, red, hot, time, ive, enjoyed, careers, rappers, opinion, fell, flat, movie, ninety, minutes, one, guy, ridiculously, turning, back, guy, point, find, locked, multiple, states, disbelief, movie, documentary, wont, waste, time, recounting, stupid, plot, twists, movie, many, led, nowhere, got, feeling, watching, everyone, set, sord, confused, playing, things, cuff, two, things, still, enjoy, one, involves, scene, needle, sadlers, huge, 45, pistol, bottom, line, movie, like, dominos, pizza, yeah, ill, eat, im, hungry, dont, feel, like, cooking, im, well, aware, tastes, like, crap, 3, stars, meh]                                                                                                                                                                                       |(216699,[0,1,2,4,6,8,13,20,21,25,27,29,31,32,35,37,46,48,52,53,54,55,66,85,86,92,98,100,107,110,120,122,125,128,130,132,159,166,169,185,194,203,230,232,236,247,249,252,257,269,279,296,301,302,310,346,347,355,374,416,422,428,433,449,470,491,494,510,527,537,539,586,747,755,768,810,818,825,849,889,966,988,992,1039,1060,1074,1138,1238,1264,1292,1306,1314,1331,1413,1460,1512,1650,1762,1802,1902,1966,2008,2282,2422,2447,2541,2691,2902,3184,3367,3572,3702,3840,4058,4807,5028,5038,5144,5850,5870,5952,6180,6465,6837,6999,7622,7760,8535,8868,9885,10068,10159,11369,13077,13147,14574,15093,17291,17968,18360,25294,25416,27221,28665,36669,36725,71327,73580,86797],[5.0,1.0,3.0,3.0,1.0,2.0,1.0,1.0,2.0,1.0,1.0,1.0,2.0,1.0,2.0,1.0,1.0,1.0,1.0,2.0,1.0,2.0,1.0,2.0,1.0,1.0,1.0,1.0,1.0,1.0,2.0,1.0,1.0,1.0,1.0,1.0,1.0,1.0,1.0,1.0,3.0,1.0,1.0,1.0,1.0,1.0,1.0,1.0,1.0,1.0,1.0,1.0,1.0,1.0,1.0,1.0,1.0,1.0,1.0,1.0,1.0,1.0,1.0,1.0,1.0,1.0,1.0,1.0,1.0,1.0,1.0,1.0,1.0,1.0,1.0,1.0,1.0,1.0,1.0,1.0,1.0,1.0,1.0,1.0,1.0,1.0,1.0,1.0,1.0,1.0,1.0,1.0,1.0,1.0,2.0,1.0,1.0,1.0,1.0,1.0,1.0,1.0,1.0,2.0,1.0,1.0,1.0,1.0,1.0,1.0,1.0,1.0,1.0,1.0,1.0,1.0,1.0,1.0,1.0,1.0,1.0,1.0,1.0,1.0,1.0,1.0,1.0,1.0,1.0,1.0,1.0,2.0,1.0,1.0,1.0,1.0,1.0,1.0,1.0,1.0,1.0,1.0,1.0,1.0,1.0,1.0,1.0,1.0,1.0])                                                      |\n",
            "|[brass, pictures, movies, fitting, word, really, somewhat, brassy, alluring, visual, qualities, reminiscent, expensive, high, class, tv, commercials, unfortunately, brass, pictures, feature, films, pretense, wanting, entertain, viewers, two, hours, fail, miserably, undeniable, rather, soft, flabby, steamy, erotic, qualities, non, withstandingsenso, 45, remake, film, luchino, visconti, title, alida, valli, farley, granger, lead, original, tells, story, senseless, love, lust, around, venice, italian, wars, independence, brass, moved, action, 19th, 20th, century, 1945, exact, mussolini, murals, men, black, shirts, german, uniforms, tattered, garb, partisans, window, dressing, historic, context, completely, negligibleanna, galiena, plays, attractive, aristocratic, woman, falls, amoral, ss, guy, always, puts, much, lipstick, attractive, versatile, well, trained, italian, actress, clearly, material, wide, range, facial, expressions, signalling, boredom, loathing, delight, fear, hate, , ecstasy, best, reason, watch, picture, worth, two, stars, endures, basically, trashy, stuff, astonishing, amount, dignity, wish, really, good, parts, come, along, really, deserves]                                                                                                                                                                                                                                                                                          |(216699,[1,3,5,9,11,12,13,21,24,29,32,36,39,89,103,108,114,120,122,139,143,154,160,176,180,212,214,215,228,245,301,321,323,349,386,389,399,411,481,496,532,552,566,574,585,603,607,617,681,698,702,840,851,912,917,927,951,994,1013,1125,1202,1400,1446,1496,1564,1781,1791,1853,1939,1975,2106,2184,2331,2465,2537,2570,2611,2648,2822,2902,2976,3092,3195,3273,3303,3410,3464,3987,4015,4222,4564,4597,4613,5053,5078,5561,5731,5775,6185,6668,7102,7729,7764,7914,8478,8542,8660,8968,9530,9641,10179,10869,11462,11574,11600,14153,15372,16314,16733,16866,18754,19308,21010,25437,29547,36398,56652,59911,135627,184176,201465],[1.0,1.0,1.0,3.0,1.0,1.0,1.0,1.0,1.0,1.0,2.0,1.0,1.0,1.0,1.0,1.0,1.0,1.0,1.0,1.0,1.0,1.0,1.0,1.0,1.0,1.0,1.0,1.0,1.0,1.0,1.0,1.0,1.0,1.0,1.0,1.0,1.0,1.0,1.0,1.0,1.0,1.0,1.0,1.0,1.0,1.0,1.0,1.0,1.0,1.0,1.0,1.0,1.0,1.0,2.0,1.0,1.0,1.0,1.0,2.0,1.0,2.0,1.0,1.0,1.0,1.0,1.0,1.0,1.0,1.0,1.0,2.0,1.0,1.0,1.0,1.0,1.0,1.0,1.0,1.0,1.0,1.0,1.0,1.0,1.0,1.0,1.0,1.0,1.0,1.0,1.0,1.0,1.0,1.0,1.0,1.0,1.0,1.0,1.0,1.0,1.0,1.0,1.0,1.0,1.0,1.0,1.0,3.0,1.0,1.0,1.0,1.0,1.0,1.0,1.0,1.0,1.0,1.0,1.0,1.0,1.0,1.0,1.0,1.0,1.0,1.0,1.0,1.0,1.0,1.0,1.0])                                                                                                                                                                           |\n",
            "|[funny, thing, happened, watching, mosquito, one, hand, hero, deafmute, director, totally, unable, make, us, understand, mutilating, mannequinser, excuse, corpses, images, hand, english, version, least, badly, dubbed, found, wishing, less, dialogue, time, film, stupid, funny, guy, access, every, graveyard, mortuary, town, lurid, would, 70s, exploitationer, without, gratuitous, lesbian, scene, mention, romantic, aspect, oh, sweetmiss]                                                                                                                                                                                                                                                                                                                                                                                                                                                                                                                                                                                                                                                                                                                                                                                                                                                                                                                                                                                                                                                            |(216699,[1,2,7,8,23,48,54,57,62,74,78,81,105,118,120,145,205,241,249,262,299,326,360,401,464,470,503,548,599,618,796,862,997,1135,1163,1945,2073,2080,2129,4439,4954,4993,6990,8387,23985,24623,28175,48068,55463,101283,151381],[1.0,1.0,1.0,1.0,1.0,1.0,1.0,1.0,2.0,1.0,1.0,1.0,1.0,1.0,1.0,1.0,1.0,1.0,1.0,1.0,1.0,1.0,1.0,1.0,1.0,2.0,1.0,1.0,1.0,1.0,1.0,1.0,1.0,1.0,1.0,1.0,1.0,1.0,1.0,1.0,1.0,1.0,1.0,1.0,1.0,1.0,1.0,1.0,1.0,1.0,1.0])                                                                                                                                                                                                                                                                                                                                                                                                                                                                                                                                                                                                                                                                                                                                                                                                                                                                                                               |\n",
            "|[german, horror, film, one, weirdest, seeni, aware, connection, child, abuse, vampirism, supposed, based, upon, true, characterour, hero, deaf, mute, result, repeated, beatings, hands, father, also, doll, fetish, cannot, figure, came, coworkers, find, tease, terriblyduring, day, mildmanner, accountant, night, breaks, cemeteries, funeral, homes, drinks, blood, dead, girls, attractive, course, else, wouldnt, care, fact, usually, tears, clothing, waist, graduates, eventually, actually, killing, gets, caughtlike, said, strange, movie, dark, slow, werner, pochath, never, talks, spends, time, drinking, blood]                                                                                                                                                                                                                                                                                                                                                                                                                                                                                                                                                                                                                                                                                                                                                                                                                                                                               |(216699,[0,1,2,8,18,33,63,66,91,97,106,157,161,184,193,208,222,257,259,264,309,330,337,340,365,427,435,439,447,480,485,544,548,576,713,722,742,808,810,912,1400,1531,1738,1802,1882,2027,2172,2366,2394,2607,3624,3659,3859,4724,5224,5258,6079,7942,8202,9464,9926,10833,12106,13043,13519,14357,14605,17962,38777,49056,65776,104256,142345,208732],[1.0,1.0,1.0,1.0,1.0,1.0,1.0,1.0,1.0,1.0,1.0,1.0,1.0,1.0,1.0,1.0,1.0,1.0,1.0,1.0,1.0,1.0,1.0,1.0,1.0,1.0,1.0,2.0,1.0,1.0,1.0,1.0,1.0,1.0,1.0,1.0,1.0,1.0,1.0,1.0,1.0,1.0,1.0,1.0,1.0,1.0,1.0,1.0,1.0,1.0,1.0,1.0,1.0,1.0,1.0,1.0,1.0,1.0,1.0,1.0,1.0,1.0,1.0,1.0,1.0,1.0,1.0,1.0,1.0,1.0,1.0,1.0,1.0,1.0])                                                                                                                                                                                                                                                                                                                                                                                                                                                                                                                                                                                                                                                                                              |\n",
            "|[longtime, fan, japanese, film, expected, cant, really, bothered, write, much, movie, poor, story, might, cutest, romantic, little, something, ever, pity, couldnt, stand, awful, acting, mess, called, pacing, standard, quirky, japanese, story, youve, noticed, many, japanese, movies, use, characters, plots, twists, seem, different, forcedly, steer, clear, movie, seriously, 12year, old, could, told, movie, going, move, along, thats, good, thing, bookfans, beat, takeshi, part, movie, really, cameo, unless, youre, rabid, fan, dont, need, suffer, waste, film210]                                                                                                                                                                                                                                                                                                                                                                                                                                                                                                                                                                                                                                                                                                                                                                                                                                                                                                                               |(216699,[0,1,5,9,11,12,20,21,25,27,31,35,38,42,51,57,71,75,76,77,83,126,167,192,210,211,219,228,239,243,267,284,310,354,436,504,618,635,674,694,716,744,755,783,817,855,1074,1127,1389,1604,1609,1614,1936,2098,2293,2424,2667,6222,6415,8959,15938,24601,31680,43080,106094,182645],[4.0,1.0,1.0,2.0,2.0,1.0,1.0,1.0,1.0,1.0,1.0,1.0,1.0,1.0,1.0,1.0,1.0,1.0,1.0,1.0,1.0,1.0,1.0,1.0,2.0,1.0,1.0,1.0,1.0,1.0,1.0,1.0,1.0,1.0,1.0,1.0,1.0,1.0,1.0,1.0,1.0,1.0,1.0,1.0,3.0,1.0,1.0,1.0,1.0,1.0,1.0,1.0,1.0,1.0,1.0,1.0,1.0,1.0,1.0,1.0,1.0,1.0,1.0,1.0,1.0,1.0])                                                                                                                                                                                                                                                                                                                                                                                                                                                                                                                                                                                                                                                                                                                                                                                               |\n",
            "|[tokyo, eyes, tells, 17, year, old, japanese, girl, falls, like, man, hunted, big, bro, cop, lame, flick, 50, filler, 50, talk, talk, talk, youll, get, see, less, stellar, cast, three, talk, bus, talk, play, video, games, talk, get, haircut, talk, walk, walk, talk, talk, cell, phones, hang, talk, etc, read, subtitles, waiting, something, happen, thin, wisp, story, sufficient, support, film, low, end, production, value, meager, cast, action, romance, sex, nudity, heavy, dramajust, incessant, yadayadayadaing, c]                                                                                                                                                                                                                                                                                                                                                                                                                                                                                                                                                                                                                                                                                                                                                                                                                                                                                                                                                                              |(216699,[1,4,10,11,14,47,50,51,75,84,96,122,149,179,187,220,238,241,251,274,278,341,350,379,405,437,466,585,596,607,720,765,817,872,903,918,962,1051,1279,1313,1410,1591,1700,1787,2086,2452,2492,2866,3392,3973,4990,6569,7156,7786,7930,10734,11717,11886,20230,39714,109932,148132],[1.0,1.0,1.0,1.0,2.0,1.0,1.0,1.0,1.0,2.0,1.0,1.0,1.0,1.0,1.0,1.0,1.0,1.0,1.0,1.0,1.0,1.0,1.0,1.0,1.0,1.0,1.0,1.0,10.0,1.0,1.0,1.0,1.0,1.0,1.0,1.0,1.0,2.0,1.0,1.0,1.0,1.0,2.0,1.0,1.0,1.0,1.0,1.0,1.0,1.0,1.0,1.0,1.0,1.0,1.0,1.0,1.0,1.0,1.0,1.0,1.0,1.0])                                                                                                                                                                                                                                                                                                                                                                                                                                                                                                                                                                                                                                                                                                                                                                                                            |\n",
            "|[wealthy, horse, ranchers, buenos, aires, longstanding, notrading, policy, crawfords, manhattan, happens, mustachioed, latin, son, falls, certain, crawford, bright, eyes, blonde, hair, perky, moves, dance, floor, 20th, centuryfox, musical, glossy, veneer, yet, seems, bit, tatty, around, edges, heavy, frenetic, gymnasticlike, dancing, exceedingly, thin, story, betty, grable, eleventh, hour, replacement, alice, faye, gives, boost, even, though, shes, paired, leaden, ameche, tan, makeup, slick, hair, also, good, charlotte, greenwood, bettys, pithy, aunt, limousine, driver, whos, constantly, asleep, job, carmen, miranda, playing, else, stock, shots, argentina, far, outclass, action, filmed, fox, backlot, supporting, performances, quite, awful, time, big, horserace, finale, viewers, enough, 12]                                                                                                                                                                                                                                                                                                                                                                                                                                                                                                                                                                                                                                                                                 |(216699,[5,6,8,11,18,64,82,87,89,93,96,121,122,129,147,186,222,247,267,279,291,335,392,405,430,440,522,571,604,607,617,621,629,706,743,944,961,996,1003,1190,1204,1313,1584,1591,1610,1638,1721,1742,1959,2043,2064,2198,2201,2831,2842,3195,3196,3950,4041,4423,4635,4774,5419,6729,7083,7438,7538,7934,7965,8158,8220,9963,10420,10435,10855,11266,12052,13954,13986,14238,15393,15861,18529,18825,20413,20887,22028,23383,26433,26571,29087,30279,31670,35483,101625,175891,189813,206065],[1.0,1.0,1.0,1.0,1.0,1.0,1.0,1.0,1.0,1.0,1.0,1.0,1.0,1.0,1.0,1.0,1.0,1.0,1.0,1.0,1.0,1.0,1.0,1.0,1.0,1.0,1.0,1.0,1.0,1.0,1.0,1.0,1.0,1.0,1.0,1.0,1.0,1.0,2.0,1.0,1.0,1.0,1.0,1.0,1.0,1.0,1.0,1.0,1.0,1.0,1.0,1.0,1.0,1.0,1.0,1.0,1.0,1.0,1.0,1.0,1.0,1.0,1.0,1.0,1.0,1.0,1.0,1.0,1.0,1.0,1.0,1.0,1.0,1.0,1.0,1.0,1.0,1.0,1.0,1.0,1.0,1.0,1.0,1.0,1.0,1.0,1.0,1.0,1.0,1.0,1.0,1.0,1.0,1.0,1.0,1.0,1.0,1.0])                                                                                                                                                                                                                                                                                                                                                                                                                                                      |\n",
            "|[cage, plays, drunk, gets, high, critically, praise, elizabeth, shue, actually, love, seen, unattractive, overrated, piece, dung, flesh, hollywood, literally, vomited, watching, film, course, flu, mean, film, contribute, vomit, kamode, cant, nick, cage, play, something, really, pull, like, bad, actor, nick, cage, brilliant, role, bad, actor, heck, nobody, could, betterthe, search, begins, nicks, contract, lucifer, lou, cipher, night, train, terror]                                                                                                                                                                                                                                                                                                                                                                                                                                                                                                                                                                                                                                                                                                                                                                                                                                                                                                                                                                                                                                             |(216699,[1,4,9,16,25,30,36,51,54,63,77,106,119,157,180,187,189,208,212,256,273,294,396,717,959,1080,1139,1302,1468,1852,1886,1899,2111,2231,2256,2343,2483,3540,3609,4107,6102,6764,7120,9736,10236,11264,14070,14889,16588,18462,21950,28044,215186],[2.0,1.0,1.0,2.0,1.0,1.0,1.0,1.0,1.0,1.0,1.0,1.0,1.0,1.0,1.0,1.0,2.0,1.0,1.0,1.0,1.0,1.0,1.0,1.0,1.0,1.0,1.0,1.0,1.0,1.0,2.0,1.0,1.0,1.0,3.0,1.0,1.0,1.0,1.0,1.0,1.0,1.0,1.0,1.0,1.0,1.0,1.0,1.0,1.0,1.0,1.0,1.0,1.0])                                                                                                                                                                                                                                                                                                                                                                                                                                                                                                                                                                                                                                                                                                                                                                                                                                                                                  |\n",
            "|[first, would, like, say, fan, actors, appear, film, time, rented, wanted, like, iti, think, main, reason, disappointed, outside, box, promised, suspense, thriller, eyes, suspense, thriller, british, movies, like, something, ruth, rendell, novel, something, lot, dark, twist, turns, leaves, viewer, ending, unlikely, forgotten, anytime, soonthis, movie, started, promising, note, film, main, character, suspects, man, like, involved, hit, run, killed, husband, one, servantshis, notions, prove, right, idea, wife, might, involved, occur, confesses, part, crimethe, elements, good, suspense, thriller, place, point, felt, film, took, different, direction, became, almost, sort, mild, soap, opera, wants, love, real, relationship, film, might, enjoyable, outside, box, talked, twisted, lovers, triangle, labeled, suspense, thrillerthis, seemed, soap, opera, story, beginning, setting, seemed, mild, distraction, true, content, film, felt, like, film, could, done, whole, lot, better, felt, like, kept, leading, viewer, big, event, never, materialized, give, lower, rating, would, liked, say, fell, short, expectations]                                                                                                                                                                                                                                                                                                                                                     |(216699,[0,1,2,4,5,7,8,11,19,21,25,28,33,34,36,44,45,50,51,56,58,70,76,94,96,111,112,115,123,125,126,167,169,170,175,176,184,207,210,223,227,296,307,308,325,333,337,338,348,372,387,398,405,409,413,416,449,508,513,520,549,558,572,579,584,602,637,639,665,669,738,745,789,797,825,845,846,877,893,1245,1253,1264,1316,1329,1399,1450,1649,1716,1747,2126,2221,2325,2344,2946,3146,3200,3551,3593,4312,4498,4802,5946,6778,7644,9241,11194,26467,27628,78193,137333,157724,162519],[1.0,6.0,1.0,6.0,1.0,2.0,1.0,1.0,1.0,1.0,1.0,1.0,1.0,1.0,1.0,1.0,2.0,1.0,2.0,1.0,1.0,2.0,1.0,1.0,1.0,1.0,1.0,1.0,1.0,1.0,2.0,1.0,2.0,1.0,1.0,1.0,1.0,1.0,1.0,1.0,1.0,1.0,1.0,3.0,2.0,1.0,1.0,1.0,1.0,1.0,1.0,1.0,1.0,1.0,2.0,1.0,2.0,1.0,1.0,1.0,1.0,1.0,1.0,1.0,1.0,1.0,3.0,1.0,4.0,1.0,1.0,1.0,1.0,2.0,1.0,1.0,1.0,1.0,2.0,2.0,1.0,1.0,1.0,1.0,1.0,1.0,1.0,1.0,2.0,1.0,1.0,1.0,1.0,1.0,1.0,1.0,1.0,2.0,1.0,1.0,1.0,1.0,1.0,1.0,1.0,1.0,1.0,1.0,1.0,1.0,1.0,1.0])                                                                                                                                                                                                                                                                                                                                                                                                       |\n",
            "|[tell, , serious, boozer, drinks, budweiser, many, suicidallyobsessed, drinkers, house, fully, stocked, barely, touched, range, drinks, lonely, motel, room, millionaire, playboys, bachelorpad, bar, would, proud, boast, kind, alcoholic, tends, drink, bottle, held, 8, inches, hungry, mouth, contents, generally, spill, face, mention, wasting, good, whisky, dousing, girlfriends, tits, cinema, audience, get, good, eyeful, elisabeth, shues, assetscage, seems, portraying, attentionseeking, lookatme, alcoholic, ever, graced, screen, shue, looks, like, berkely, preppy, slumming, summer, seasoned, streetwalker, humiliated, subjugated, often, possible, revolting, movie, beatings, skin, lacerations, anal, rape, graphic, verbal, abuse, , completely, implausible, included, apparently, convey, sense, horribly, demeaned, state, offer, male, viewers, astonishingly, clichã©d, sentimental, sexual, fantasy, tartwithaheartstill, , watch, end, time, actually, laughing, loud, shues, tough, street, hooker, chopped, carrots, kitchen, wanly, pathetically, smiling, cage, , eyes, popping, shaking, like, like, man, operating, road, drill, earthquake, , grimaced, mugged, way, final, halfhour]                                                                                                                                                                                                                                                                                    |(216699,[0,3,4,5,7,8,14,26,29,31,42,47,50,63,87,137,173,181,182,204,215,225,258,292,304,343,363,405,463,524,568,581,599,617,770,788,798,880,956,960,1023,1076,1098,1101,1149,1256,1273,1295,1335,1382,1527,1618,1634,1790,1853,1958,2006,2081,2207,2256,2289,2366,2380,2532,2587,2682,2841,2919,3157,3650,3777,4056,4302,4550,4714,5028,5224,5360,5624,6010,6263,6304,6432,6467,6921,7187,7748,7791,8180,8435,8843,9097,9273,10040,10780,11154,11332,11519,11864,13013,13293,14070,14433,15410,17962,21623,23779,24310,24375,28110,30611,34412,35199,37837,38269,39622,40315,41694,46656,46727,48628,55320,56720,69071,77733,144118,149964,163080,195826,213135],[1.0,5.0,3.0,2.0,1.0,1.0,1.0,1.0,1.0,1.0,1.0,1.0,1.0,1.0,1.0,1.0,1.0,1.0,1.0,1.0,1.0,1.0,1.0,1.0,1.0,1.0,1.0,1.0,1.0,1.0,1.0,1.0,1.0,1.0,1.0,1.0,1.0,1.0,1.0,1.0,1.0,1.0,1.0,1.0,1.0,1.0,1.0,1.0,1.0,1.0,1.0,1.0,1.0,1.0,1.0,1.0,1.0,1.0,1.0,1.0,1.0,1.0,1.0,1.0,1.0,1.0,1.0,1.0,1.0,1.0,1.0,1.0,1.0,1.0,2.0,1.0,2.0,1.0,1.0,1.0,1.0,1.0,1.0,1.0,1.0,1.0,1.0,1.0,1.0,1.0,1.0,1.0,1.0,1.0,1.0,1.0,1.0,1.0,1.0,1.0,1.0,1.0,1.0,1.0,1.0,1.0,1.0,1.0,1.0,1.0,1.0,1.0,1.0,1.0,1.0,1.0,1.0,1.0,1.0,1.0,1.0,1.0,2.0,1.0,1.0,1.0,1.0,1.0,1.0,1.0])                                                                                                                                                   |\n",
            "|[big, disappointment, touted, incredible, film, incredibly, bad, pretentious, would, nice, someone, would, create, high, profile, role, young, woman, prostitute, dont, really, learn, anything, character, except, seems, hopeless, alcoholic, dont, know, nicholas, cage, turns, excellent, performance, usual, feel, role, script, let, able, perform, whole, film, erection, deathbed, really, terrible, felt, like, needed, bath]                                                                                                                                                                                                                                                                                                                                                                                                                                                                                                                                                                                                                                                                                                                                                                                                                                                                                                                                                                                                                                                                           |(216699,[1,4,7,9,16,20,34,40,87,88,96,115,119,127,130,131,138,154,183,201,212,216,265,270,308,361,387,431,518,711,762,784,901,908,1268,1907,2256,2719,3963,4538,4642,4644,4714,7976,13404,13793,17305],[2.0,1.0,2.0,2.0,1.0,2.0,1.0,1.0,1.0,1.0,1.0,1.0,2.0,1.0,1.0,1.0,1.0,1.0,1.0,1.0,1.0,1.0,1.0,1.0,1.0,1.0,1.0,1.0,1.0,1.0,1.0,1.0,1.0,1.0,1.0,1.0,1.0,1.0,1.0,1.0,1.0,1.0,1.0,1.0,1.0,1.0,1.0])                                                                                                                                                                                                                                                                                                                                                                                                                                                                                                                                                                                                                                                                                                                                                                                                                                                                                                                                                         |\n",
            "|[film, absolutely, appalling, awful, low, budget, budget, film, makes, ed, woods, movies, look, like, art, acting, abysmal, sets, props, worse, anything, ever, seen, ordinary, subway, train, used, transport, people, evil, zone, killer, mutants, woddy, strode, one, bullet, fight, scenes, shot, disused, gravel, pit, sadism, would, expect, 80s, italian, video, nasty, talent, used, make, film, female, love, interest, huge, bhind, italian, taste, maybe, even, 80s, italian, standards, film, pretty, damn, awful, guess, came, time, werent, many, films, available, video, viewers, werent, really, discerning, piece, crap, entertainment, value, whatsoever, even, funny, boring, extremely, cheap, actually, insult, stupid, audience, wonder, earth, actor, like, woody, strode, ended, ia, turkey, like]                                                                                                                                                                                                                                                                                                                                                                                                                                                                                                                                                                                                                                                                                      |(216699,[1,2,4,6,7,8,9,17,21,23,24,30,31,35,36,42,49,62,63,65,69,80,131,172,189,204,213,217,231,249,257,267,278,280,289,294,318,345,350,356,378,391,421,432,434,445,491,494,498,507,528,559,600,614,617,634,661,899,917,959,962,1006,1107,1120,1255,1282,1416,1441,1448,1514,1677,2071,2232,2762,3124,3308,4019,4114,4332,5208,6852,7956,9754,12452,15862,16952,21082,26848,28278,131826,134458],[4.0,1.0,3.0,2.0,1.0,1.0,1.0,1.0,1.0,1.0,1.0,1.0,1.0,1.0,1.0,1.0,1.0,1.0,1.0,1.0,1.0,1.0,1.0,1.0,1.0,1.0,1.0,2.0,1.0,1.0,1.0,2.0,2.0,2.0,1.0,1.0,1.0,1.0,1.0,1.0,1.0,1.0,1.0,1.0,1.0,1.0,1.0,1.0,1.0,1.0,1.0,1.0,1.0,1.0,1.0,1.0,2.0,1.0,3.0,1.0,1.0,2.0,1.0,1.0,1.0,1.0,1.0,1.0,1.0,1.0,1.0,1.0,1.0,1.0,1.0,1.0,1.0,1.0,1.0,1.0,1.0,1.0,1.0,1.0,2.0,1.0,1.0,1.0,1.0,1.0,1.0])                                                                                                                                                                                                                                                                                                                                                                                                                                                                                                                                                                               |\n",
            "|[heres, decidedly, average, italian, post, apocalyptic, take, huntingkilling, humans, sport, theme, ala, dangerous, game, turkey, shoot, gymkata, running, mancertainly, film, reviewed, nowhere, near, much, fun, listed, entries, furthermore, dragged, poor, voice, work, generally, bland, action, sequences, number, entirely, tasteless, scenes, prolonged, rape, sequence, truly, stupid, illogical, points, throughouttake, example, towards, end, film, hero, manages, infiltrate, compound, villains, initially, kills, sentry, leaves, jeep, upon, discovery, said, corpse, villains, response, bearing, mind, hero, come, brutally, murder, â, resolve, wait, next, morning, look, culprit, however, suppose, fair, film, remains, nonetheless, watchable, suspend, disbelief, stupid, scenes, benefit, immensely, presence, always, excellent, woody, strode, even, screen, time, limitednot, classic, stretch, imagination, still, worthy, watch, italian, bmovie, enthusiasts]                                                                                                                                                                                                                                                                                                                                                                                                                                                                                                                    |(216699,[1,6,8,12,29,46,47,49,69,72,90,101,103,114,122,142,182,193,201,219,235,242,246,249,263,342,359,364,482,486,499,519,548,576,608,651,659,689,718,727,728,745,807,864,917,963,981,1079,1124,1138,1149,1152,1158,1179,1430,1438,1549,1563,1618,1661,1714,1753,1776,1913,1916,2161,2232,2691,2762,2769,2818,3122,3158,3359,3380,3482,3523,3756,3833,4086,4159,4179,4293,5070,5162,5926,6138,6653,6736,7679,7749,8903,9294,9319,10147,10781,11336,15789,15862,19388,34828,86932,103470,174318,175967],[3.0,1.0,1.0,1.0,1.0,1.0,1.0,2.0,1.0,1.0,1.0,1.0,1.0,1.0,1.0,1.0,1.0,1.0,1.0,1.0,1.0,1.0,1.0,2.0,1.0,1.0,1.0,1.0,1.0,1.0,1.0,1.0,2.0,1.0,1.0,1.0,1.0,1.0,1.0,1.0,1.0,1.0,1.0,1.0,2.0,1.0,1.0,1.0,1.0,1.0,1.0,1.0,1.0,1.0,1.0,1.0,1.0,1.0,1.0,2.0,1.0,1.0,1.0,1.0,1.0,1.0,1.0,1.0,1.0,1.0,1.0,1.0,1.0,1.0,1.0,1.0,1.0,1.0,1.0,1.0,1.0,1.0,1.0,1.0,1.0,1.0,1.0,1.0,1.0,1.0,1.0,1.0,1.0,1.0,1.0,1.0,1.0,1.0,1.0,1.0,1.0,1.0,1.0,1.0,1.0])                                                                                                                                                                                                                                                                                                                                                                                                                |\n",
            "|[bottom, end, apocalypse, movie, scale, piece, pish, called, final, executioner, least, come, bloke, trained, excop, seek, vengeance, killed, woman, friends, cold, blood, thats, lots, fake, explosions, repetitive, shootings, ensue, one, weirdest, array, costumes, ive, seen, film, massive, fortress, apparently, run, 7, people, great, job, dubbing, guys, best, moment, hero, loses, swordfight, skewered, neck, gets, gun, bang, earlier, mystery, anyone, would, want, sit, first, place, im, still, puzzling, one, 210]                                                                                                                                                                                                                                                                                                                                                                                                                                                                                                                                                                                                                                                                                                                                                                                                                                                                                                                                                                              |(216699,[0,1,2,7,15,17,19,30,39,46,47,53,79,83,98,106,114,118,144,154,175,186,224,294,298,354,363,398,409,439,462,548,568,594,692,705,836,935,989,1025,1092,1188,1314,2001,2334,2441,2581,3187,3355,3382,3559,3987,4520,4568,4618,4678,7145,7819,8165,8862,10670,12106,14577,19235,22491,26694,38278,139171],[1.0,1.0,2.0,1.0,1.0,1.0,1.0,1.0,1.0,1.0,1.0,1.0,1.0,1.0,1.0,1.0,1.0,1.0,1.0,1.0,1.0,1.0,1.0,1.0,1.0,1.0,1.0,1.0,1.0,1.0,1.0,1.0,1.0,1.0,1.0,1.0,1.0,1.0,1.0,1.0,1.0,1.0,1.0,1.0,1.0,1.0,1.0,1.0,1.0,1.0,1.0,1.0,1.0,1.0,1.0,1.0,1.0,1.0,1.0,1.0,1.0,1.0,1.0,1.0,1.0,1.0,1.0,1.0])                                                                                                                                                                                                                                                                                                                                                                                                                                                                                                                                                                                                                                                                                                                                                               |\n",
            "|[earth, destroyed, nuclear, holocaust, well, parts, earth, somewhere, italy, band, purebred, survivorsthose, without, radioactive, contaminationare, holed, massive, mansion, surrounded, lush, grounds, waiting, next, opportunity, go, hunting, polluted, blood, final, executioner, story, one, would, victims, alan, william, mang, looks, surprisingly, lot, like, kurt, russell, efforts, take, legally, sanctioned, hunters, led, edra, marina, costa, erasmus, harrison, muller, jr, , alan, trained, kill, former, nypd, cop, sam, woody, strode, mostly, hangs, around, giving, pupil, moral, support, mooching, tinned, meat, strode, far, best, thing, film, though, doesnt, look, well, appears, third, running, time, story, blending, elements, better, films, stories, including, ten, little, indians, dangerous, game, escape, new, york, final, executioner, moves, along, fair, pace, provides, reasonable, entertainment, less, discriminate, action, fans]                                                                                                                                                                                                                                                                                                                                                                                                                                                                                                                                 |(216699,[1,2,3,4,7,8,11,13,24,38,39,44,52,57,60,64,69,70,73,89,90,105,122,129,173,228,241,263,344,363,364,383,386,439,452,467,519,533,606,610,614,625,634,669,734,794,872,889,903,915,922,961,976,1005,1056,1073,1079,1130,1277,1279,1284,1413,1434,1437,1563,1612,1644,1749,2334,2411,2454,2670,2762,2972,3211,3221,3245,3283,3361,3449,3978,3987,4350,4862,5088,5791,6015,6783,9911,10461,10914,13317,13364,15862,16028,16349,16370,18356,22491,24525,28589,28889,30051,66313,79569,88582,140929,158206,177823,202653],[1.0,1.0,1.0,1.0,1.0,1.0,2.0,2.0,1.0,1.0,1.0,1.0,1.0,1.0,1.0,1.0,1.0,1.0,1.0,1.0,1.0,1.0,1.0,1.0,1.0,1.0,1.0,1.0,1.0,2.0,1.0,1.0,1.0,1.0,1.0,1.0,1.0,1.0,1.0,1.0,1.0,1.0,2.0,1.0,1.0,1.0,1.0,1.0,1.0,1.0,1.0,1.0,1.0,1.0,1.0,1.0,1.0,1.0,1.0,1.0,1.0,1.0,1.0,1.0,1.0,1.0,2.0,1.0,1.0,1.0,1.0,1.0,1.0,1.0,1.0,1.0,1.0,1.0,1.0,1.0,1.0,1.0,1.0,1.0,1.0,1.0,1.0,1.0,1.0,1.0,1.0,1.0,1.0,2.0,1.0,1.0,1.0,1.0,2.0,1.0,1.0,1.0,1.0,1.0,1.0,1.0,1.0,1.0,1.0,1.0])                                                                                                                                                                                                                                                                                                                                                                           |\n",
            "|[many, people, standing, front, house, n, women, crying, men, standing, close, groups, speaking, hushed, tone, couple, guys, come, discussing, sexy, daughter, might, look, today, soon, u, know, someone, house, died, dead, persons, wife, worried, preparing, food, many, people, friend, sitting, beside, gives, idea, making, matters, easy, preparing, simple, roti, sabji, one, dead, persons, son, speaking, someone, mobile, daughter, busy, makeup, mother, suggests, wear, salwar, kameej, daughter, interested, looking, good, many, people, visiting, house, hence, prefers, jeans, shirt, salwar, kameez, another, son, asks, mom, finish, kriyas, also, indicates, expected, come, early, office, camera, slowly, focuses, dead, person, white, cloth, covering, face, displaced, slightly, due, wind, revealing, face, , anupam, kher, suddenly, alarm, rings, gets, bed, dream, flash, back, u, wont, get, answer, end, moviewell, wat, comedy, director, dibakar, banerjee, later, u, find, scene, nothing, actual, movie, hence, making, everything, obvious, still, described, earlier, dream, film, comedy, well, supposed, belong, category, actually, nothing, remotely, associated, comedy, movie, director, gives, message, one, get, justice, police, everyone, must, cheat, cheats, forget, justice, music, bapitutul, , dhruv, dhalla, ok, nothing, much, tell, sectors, bad, script, destroys, everything, even, anupam, khers, performance, succeeds, making, least, paisa, vasool]|(216699,[0,1,2,3,5,6,12,13,14,16,17,18,31,40,46,47,48,55,63,66,67,68,69,81,106,107,109,110,114,118,126,127,138,150,164,165,183,194,203,207,223,225,245,253,258,259,266,276,291,293,295,298,304,309,324,328,346,368,392,418,441,450,459,465,472,478,523,550,623,653,670,704,716,757,836,857,921,924,939,969,998,1087,1094,1109,1132,1204,1216,1243,1304,1359,1405,1422,1568,1569,1719,1933,2002,2152,2296,2348,2375,2388,2445,2485,2652,2685,2754,2924,3017,3046,3072,3089,3288,3356,3456,3641,3990,4115,4975,5345,5697,5705,6313,6509,6775,7797,8809,9293,9380,9624,9950,11801,16517,18753,19739,20797,33831,35594,44474,60493,85048,86173,95047,106570,116856,129335,131536,133482,136403,140487,145879,176853,187088],[2.0,1.0,2.0,2.0,1.0,1.0,1.0,1.0,2.0,1.0,3.0,1.0,3.0,1.0,1.0,1.0,1.0,1.0,1.0,1.0,3.0,1.0,1.0,2.0,1.0,1.0,3.0,1.0,2.0,1.0,1.0,1.0,1.0,3.0,2.0,1.0,2.0,1.0,1.0,1.0,1.0,3.0,1.0,1.0,1.0,3.0,1.0,1.0,2.0,1.0,1.0,1.0,2.0,1.0,1.0,1.0,1.0,1.0,2.0,1.0,1.0,1.0,3.0,1.0,1.0,1.0,1.0,1.0,1.0,1.0,1.0,1.0,1.0,1.0,1.0,1.0,2.0,1.0,1.0,1.0,1.0,1.0,1.0,1.0,1.0,1.0,1.0,1.0,2.0,1.0,1.0,2.0,1.0,1.0,1.0,1.0,2.0,1.0,1.0,1.0,1.0,1.0,1.0,3.0,1.0,1.0,2.0,1.0,1.0,1.0,2.0,1.0,1.0,1.0,1.0,1.0,1.0,1.0,1.0,1.0,1.0,1.0,2.0,1.0,1.0,1.0,1.0,1.0,1.0,1.0,1.0,1.0,1.0,1.0,2.0,1.0,1.0,1.0,1.0,2.0,1.0,1.0,1.0,1.0,1.0,1.0,1.0,1.0,1.0,1.0,1.0,1.0,1.0])|\n",
            "|[new, york, family, last, neighborhood, get, television, set, nearly, ruins, david, nivens, marriage, mitzi, gaynor, bedroom, comedy, rarely, ventures, bedroomand, nothing, sexy, happens, anyway, gaynor, actress, much, range, ovenshe, turns, turns, films, sole, compensation, supporting, performance, perky, patty, duke, premiracle, worker, nivens, daughter, shes, delightful, happy, anniversary, ]                                                                                                                                                                                                                                                                                                                                                                                                                                                                                                                                                                                                                                                                                                                                                                                                                                                                                                                                                                                                                                                                                                   |(216699,[3,12,14,24,67,73,109,134,136,138,185,335,387,411,430,459,500,553,562,570,604,677,734,1094,1355,1500,1853,1908,3295,3618,3767,3823,4758,4911,6887,8825,10435,11087,16816,27320,27416,33691,78397,136231,171460],[1.0,1.0,1.0,1.0,1.0,1.0,1.0,1.0,1.0,1.0,1.0,1.0,2.0,1.0,1.0,1.0,1.0,1.0,1.0,1.0,1.0,1.0,1.0,1.0,1.0,1.0,1.0,1.0,1.0,1.0,1.0,1.0,1.0,1.0,1.0,1.0,1.0,1.0,1.0,2.0,1.0,2.0,1.0,1.0,1.0])                                                                                                                                                                                                                                                                                                                                                                                                                                                                                                                                                                                                                                                                                                                                                                                                                                                                                                                                                |\n",
            "+-----------------------------------------------------------------------------------------------------------------------------------------------------------------------------------------------------------------------------------------------------------------------------------------------------------------------------------------------------------------------------------------------------------------------------------------------------------------------------------------------------------------------------------------------------------------------------------------------------------------------------------------------------------------------------------------------------------------------------------------------------------------------------------------------------------------------------------------------------------------------------------------------------------------------------------------------------------------------------------------------------------------------------------------------------------------------------------------------------------------------------------------------------------------------------------------------------------------------------------------------------------------------------------------------------------------------------------------------------------------------------------------------------------------------------------------------------------------------------------------------------------------+--------------------------------------------------------------------------------------------------------------------------------------------------------------------------------------------------------------------------------------------------------------------------------------------------------------------------------------------------------------------------------------------------------------------------------------------------------------------------------------------------------------------------------------------------------------------------------------------------------------------------------------------------------------------------------------------------------------------------------------------------------------------------------------------------------------------------------------------------------------------------------------------------------------------------------------------------------------------------------------------------------------------------------------------------------------------------------------------------------------------------------------------------------------------------------------------------------------------------------------------------------------------------------------------------------------------------------------------------------------+\n",
            "only showing top 20 rows\n",
            "\n"
          ]
        }
      ]
    },
    {
      "cell_type": "code",
      "source": [
        "modelo.vocabulary"
      ],
      "metadata": {
        "colab": {
          "base_uri": "https://localhost:8080/"
        },
        "id": "UUfJBJ8X14d3",
        "outputId": "1ac82e9f-5a8d-4073-e8f9-38ffdc9daacd"
      },
      "execution_count": 27,
      "outputs": [
        {
          "output_type": "execute_result",
          "data": {
            "text/plain": [
              "['movie',\n",
              " 'film',\n",
              " 'one',\n",
              " '',\n",
              " 'like',\n",
              " 'good',\n",
              " 'even',\n",
              " 'would',\n",
              " 'time',\n",
              " 'really',\n",
              " 'see',\n",
              " 'story',\n",
              " 'much',\n",
              " 'well',\n",
              " 'get',\n",
              " 'great',\n",
              " 'bad',\n",
              " 'people',\n",
              " 'also',\n",
              " 'first',\n",
              " 'dont',\n",
              " 'movies',\n",
              " 'made',\n",
              " 'make',\n",
              " 'films',\n",
              " 'could',\n",
              " 'way',\n",
              " 'characters',\n",
              " 'think',\n",
              " 'watch',\n",
              " 'seen',\n",
              " 'many',\n",
              " 'two',\n",
              " 'never',\n",
              " 'character',\n",
              " 'acting',\n",
              " 'love',\n",
              " 'plot',\n",
              " 'little',\n",
              " 'best',\n",
              " 'know',\n",
              " 'show',\n",
              " 'ever',\n",
              " 'life',\n",
              " 'better',\n",
              " 'say',\n",
              " 'still',\n",
              " 'end',\n",
              " 'scene',\n",
              " 'scenes',\n",
              " 'man',\n",
              " 'something',\n",
              " 'go',\n",
              " 'im',\n",
              " 'watching',\n",
              " 'back',\n",
              " 'real',\n",
              " 'thing',\n",
              " 'actors',\n",
              " 'didnt',\n",
              " 'doesnt',\n",
              " 'years',\n",
              " 'funny',\n",
              " 'actually',\n",
              " 'though',\n",
              " 'makes',\n",
              " 'find',\n",
              " 'nothing',\n",
              " 'another',\n",
              " 'look',\n",
              " 'lot',\n",
              " 'going',\n",
              " 'work',\n",
              " 'new',\n",
              " 'every',\n",
              " 'old',\n",
              " 'part',\n",
              " 'cant',\n",
              " 'us',\n",
              " 'want',\n",
              " 'pretty',\n",
              " 'director',\n",
              " 'quite',\n",
              " 'thats',\n",
              " 'cast',\n",
              " 'things',\n",
              " 'got',\n",
              " 'seems',\n",
              " 'young',\n",
              " 'around',\n",
              " 'take',\n",
              " 'fact',\n",
              " 'thought',\n",
              " 'enough',\n",
              " 'give',\n",
              " 'world',\n",
              " 'big',\n",
              " 'horror',\n",
              " 'ive',\n",
              " 'may',\n",
              " 'saw',\n",
              " 'however',\n",
              " 'isnt',\n",
              " 'always',\n",
              " 'long',\n",
              " 'without',\n",
              " 'gets',\n",
              " 'music',\n",
              " 'original',\n",
              " 'comedy',\n",
              " 'must',\n",
              " 'right',\n",
              " 'almost',\n",
              " 'times',\n",
              " 'come',\n",
              " 'whole',\n",
              " 'series',\n",
              " 'interesting',\n",
              " 'least',\n",
              " 'role',\n",
              " 'guy',\n",
              " 'bit',\n",
              " 'action',\n",
              " 'done',\n",
              " 'theres',\n",
              " 'point',\n",
              " 'might',\n",
              " 'script',\n",
              " 'minutes',\n",
              " 'far',\n",
              " 'feel',\n",
              " 'anything',\n",
              " 'hes',\n",
              " 'probably',\n",
              " 'family',\n",
              " 'since',\n",
              " 'last',\n",
              " 'kind',\n",
              " 'performance',\n",
              " 'tv',\n",
              " 'worst',\n",
              " 'away',\n",
              " 'fun',\n",
              " 'rather',\n",
              " 'anyone',\n",
              " 'found',\n",
              " 'sure',\n",
              " 'yet',\n",
              " 'played',\n",
              " 'girl',\n",
              " 'making',\n",
              " 'believe',\n",
              " 'especially',\n",
              " 'shows',\n",
              " 'woman',\n",
              " 'trying',\n",
              " 'hard',\n",
              " 'course',\n",
              " 'goes',\n",
              " 'comes',\n",
              " 'worth',\n",
              " 'day',\n",
              " 'put',\n",
              " 'dvd',\n",
              " 'everything',\n",
              " 'looking',\n",
              " 'although',\n",
              " 'different',\n",
              " 'watched',\n",
              " 'main',\n",
              " 'ending',\n",
              " 'wasnt',\n",
              " 'maybe',\n",
              " 'looks',\n",
              " 'book',\n",
              " 'place',\n",
              " 'reason',\n",
              " 'effects',\n",
              " 'money',\n",
              " 'three',\n",
              " 'plays',\n",
              " 'sense',\n",
              " 'screen',\n",
              " 'someone',\n",
              " 'true',\n",
              " 'set',\n",
              " 'job',\n",
              " 'play',\n",
              " '10',\n",
              " 'actor',\n",
              " 'together',\n",
              " '2',\n",
              " 'seem',\n",
              " 'said',\n",
              " 'everyone',\n",
              " 'takes',\n",
              " 'special',\n",
              " 'beautiful',\n",
              " 'seeing',\n",
              " 'american',\n",
              " 'instead',\n",
              " 'excellent',\n",
              " 'left',\n",
              " 'later',\n",
              " 'audience',\n",
              " 'version',\n",
              " 'john',\n",
              " 'idea',\n",
              " 'night',\n",
              " 'war',\n",
              " 'fan',\n",
              " 'youre',\n",
              " 'high',\n",
              " 'shot',\n",
              " 'black',\n",
              " 'completely',\n",
              " 'nice',\n",
              " 'used',\n",
              " 'simply',\n",
              " 'poor',\n",
              " 'read',\n",
              " 'kids',\n",
              " 'else',\n",
              " 'wife',\n",
              " 'friends',\n",
              " 'house',\n",
              " 'death',\n",
              " 'short',\n",
              " 'along',\n",
              " 'help',\n",
              " 'enjoy',\n",
              " 'boring',\n",
              " 'second',\n",
              " 'half',\n",
              " 'try',\n",
              " 'mind',\n",
              " 'star',\n",
              " 'recommend',\n",
              " 'year',\n",
              " 'need',\n",
              " 'home',\n",
              " 'less',\n",
              " 'classic',\n",
              " 'use',\n",
              " 'given',\n",
              " 'men',\n",
              " 'truly',\n",
              " 'performances',\n",
              " 'rest',\n",
              " 'stupid',\n",
              " 'either',\n",
              " 'production',\n",
              " 'line',\n",
              " 'couple',\n",
              " 'wrong',\n",
              " 'start',\n",
              " 'hollywood',\n",
              " 'came',\n",
              " 'tell',\n",
              " 'dead',\n",
              " 'getting',\n",
              " 'remember',\n",
              " 'understand',\n",
              " 'next',\n",
              " 'father',\n",
              " 'terrible',\n",
              " 'women',\n",
              " 'awful',\n",
              " 'school',\n",
              " 'full',\n",
              " 'let',\n",
              " 'keep',\n",
              " 'wonderful',\n",
              " 'mean',\n",
              " 'sex',\n",
              " 'moments',\n",
              " 'camera',\n",
              " 'others',\n",
              " 'video',\n",
              " 'playing',\n",
              " 'budget',\n",
              " 'definitely',\n",
              " 'episode',\n",
              " 'perhaps',\n",
              " 'couldnt',\n",
              " 'perfect',\n",
              " 'name',\n",
              " 'small',\n",
              " 'top',\n",
              " 'absolutely',\n",
              " 'went',\n",
              " 'gives',\n",
              " 'often',\n",
              " 'early',\n",
              " 'piece',\n",
              " 'person',\n",
              " 'liked',\n",
              " 'lines',\n",
              " 'guys',\n",
              " 'dialogue',\n",
              " 'human',\n",
              " 'stars',\n",
              " 'loved',\n",
              " 'certainly',\n",
              " 'face',\n",
              " 'case',\n",
              " 'hope',\n",
              " 'sort',\n",
              " 'felt',\n",
              " 'supposed',\n",
              " 'waste',\n",
              " 'head',\n",
              " 'laugh',\n",
              " 'become',\n",
              " 'live',\n",
              " 'entertaining',\n",
              " 'entire',\n",
              " 'several',\n",
              " 'worse',\n",
              " 'lost',\n",
              " 'written',\n",
              " 'picture',\n",
              " 'style',\n",
              " 'title',\n",
              " 'mother',\n",
              " 'seemed',\n",
              " 'totally',\n",
              " 'boy',\n",
              " 'friend',\n",
              " 'sound',\n",
              " 'based',\n",
              " 'finally',\n",
              " 'yes',\n",
              " 'beginning',\n",
              " 'problem',\n",
              " 'shes',\n",
              " 'mr',\n",
              " 'dark',\n",
              " 'wanted',\n",
              " 'humor',\n",
              " 'care',\n",
              " 'youll',\n",
              " 'â',\n",
              " 'cinema',\n",
              " 'fans',\n",
              " 'guess',\n",
              " 'wont',\n",
              " '3',\n",
              " 'direction',\n",
              " 'lead',\n",
              " 'low',\n",
              " 'children',\n",
              " 'id',\n",
              " 'already',\n",
              " 'called',\n",
              " 'lives',\n",
              " 'evil',\n",
              " 'drama',\n",
              " 'becomes',\n",
              " 'example',\n",
              " 'oh',\n",
              " 'able',\n",
              " 'turn',\n",
              " 'final',\n",
              " 'game',\n",
              " 'girls',\n",
              " 'throughout',\n",
              " 'horrible',\n",
              " 'white',\n",
              " 'days',\n",
              " 'fine',\n",
              " 'quality',\n",
              " 'wants',\n",
              " 'amazing',\n",
              " 'enjoyed',\n",
              " 'writing',\n",
              " 'despite',\n",
              " 'gave',\n",
              " 'killer',\n",
              " 'flick',\n",
              " 'theyre',\n",
              " 'history',\n",
              " 'tries',\n",
              " 'kill',\n",
              " 'works',\n",
              " 'favorite',\n",
              " 'parts',\n",
              " 'turns',\n",
              " 'michael',\n",
              " 'unfortunately',\n",
              " 'act',\n",
              " 'expect',\n",
              " 'son',\n",
              " 'side',\n",
              " 'past',\n",
              " 'matter',\n",
              " 'brilliant',\n",
              " '1',\n",
              " 'run',\n",
              " 'stuff',\n",
              " 'behind',\n",
              " 'town',\n",
              " 'car',\n",
              " 'ones',\n",
              " 'obviously',\n",
              " 'eyes',\n",
              " 'sometimes',\n",
              " 'starts',\n",
              " 'thinking',\n",
              " 'killed',\n",
              " 'decent',\n",
              " 'actress',\n",
              " 'overall',\n",
              " 'viewer',\n",
              " 'heard',\n",
              " 'directed',\n",
              " 'took',\n",
              " 'heart',\n",
              " 'soon',\n",
              " 'late',\n",
              " 'group',\n",
              " 'art',\n",
              " 'kid',\n",
              " 'highly',\n",
              " 'genre',\n",
              " 'city',\n",
              " 'hell',\n",
              " 'child',\n",
              " 'feeling',\n",
              " 'says',\n",
              " 'happens',\n",
              " 'except',\n",
              " 'extremely',\n",
              " 'ill',\n",
              " 'fight',\n",
              " 'wouldnt',\n",
              " 'told',\n",
              " 'etc',\n",
              " 'looked',\n",
              " 'blood',\n",
              " 'hour',\n",
              " 'close',\n",
              " 'lack',\n",
              " 'experience',\n",
              " 'leave',\n",
              " 'wonder',\n",
              " 'coming',\n",
              " 'cannot',\n",
              " 'type',\n",
              " 'involved',\n",
              " 'police',\n",
              " 'save',\n",
              " 'stories',\n",
              " 'chance',\n",
              " 'strong',\n",
              " 'particularly',\n",
              " 'cool',\n",
              " 'complete',\n",
              " 'hilarious',\n",
              " 'daughter',\n",
              " 'score',\n",
              " 'roles',\n",
              " 'moment',\n",
              " 'serious',\n",
              " 'happened',\n",
              " 'simple',\n",
              " 'happen',\n",
              " 'including',\n",
              " 'living',\n",
              " 'attempt',\n",
              " 'hand',\n",
              " 'stop',\n",
              " 'obvious',\n",
              " 'shown',\n",
              " 'violence',\n",
              " 'taken',\n",
              " 'god',\n",
              " 'ago',\n",
              " 'ok',\n",
              " 'jokes',\n",
              " 'usually',\n",
              " 'wish',\n",
              " 'voice',\n",
              " 'known',\n",
              " 'james',\n",
              " 'slow',\n",
              " 'murder',\n",
              " 'song',\n",
              " 'released',\n",
              " 'exactly',\n",
              " 'across',\n",
              " 'crap',\n",
              " 'robert',\n",
              " 'cinematography',\n",
              " 'huge',\n",
              " 'sad',\n",
              " 'hours',\n",
              " 'saying',\n",
              " 'interest',\n",
              " 'number',\n",
              " 'david',\n",
              " 'opening',\n",
              " 'annoying',\n",
              " 'english',\n",
              " 'seriously',\n",
              " 'please',\n",
              " 'gore',\n",
              " 'talent',\n",
              " 'started',\n",
              " 'order',\n",
              " 'none',\n",
              " 'lets',\n",
              " 'reality',\n",
              " 'relationship',\n",
              " 'alone',\n",
              " 'age',\n",
              " 'ridiculous',\n",
              " 'whose',\n",
              " 'usual',\n",
              " 'running',\n",
              " 'hit',\n",
              " 'call',\n",
              " 'shots',\n",
              " 'today',\n",
              " 'possible',\n",
              " 'cut',\n",
              " 'major',\n",
              " 'documentary',\n",
              " 'female',\n",
              " 'career',\n",
              " 'brother',\n",
              " 'knew',\n",
              " 'somewhat',\n",
              " 'mostly',\n",
              " 'ends',\n",
              " 'silly',\n",
              " 'view',\n",
              " 'turned',\n",
              " 'beyond',\n",
              " 'opinion',\n",
              " 'body',\n",
              " 'taking',\n",
              " 'change',\n",
              " 'important',\n",
              " 'strange',\n",
              " 'scary',\n",
              " '5',\n",
              " 'words',\n",
              " 'hero',\n",
              " 'husband',\n",
              " 'due',\n",
              " 'finds',\n",
              " 'word',\n",
              " 'anyway',\n",
              " 'knows',\n",
              " 'episodes',\n",
              " 'attention',\n",
              " 'talking',\n",
              " 'disappointed',\n",
              " 'cheap',\n",
              " 'local',\n",
              " '4',\n",
              " 'happy',\n",
              " 'directors',\n",
              " 'country',\n",
              " 'power',\n",
              " 'basically',\n",
              " 'four',\n",
              " 'apparently',\n",
              " 'arent',\n",
              " 'television',\n",
              " 'musical',\n",
              " 'novel',\n",
              " 'single',\n",
              " 'clearly',\n",
              " 'problems',\n",
              " 'upon',\n",
              " 'level',\n",
              " 'miss',\n",
              " 'british',\n",
              " 'events',\n",
              " 'room',\n",
              " 'predictable',\n",
              " 'dialog',\n",
              " 'rating',\n",
              " 'tells',\n",
              " 'songs',\n",
              " 'jack',\n",
              " 'havent',\n",
              " 'french',\n",
              " 'add',\n",
              " 'whats',\n",
              " 'review',\n",
              " 'modern',\n",
              " 'lots',\n",
              " 'light',\n",
              " 'talk',\n",
              " 'soundtrack',\n",
              " 'similar',\n",
              " 'mention',\n",
              " 'sets',\n",
              " 'bring',\n",
              " 'enjoyable',\n",
              " 'hate',\n",
              " 'supporting',\n",
              " 'surprised',\n",
              " 'giving',\n",
              " 'falls',\n",
              " 'sequence',\n",
              " 'easily',\n",
              " 'ten',\n",
              " 'bunch',\n",
              " 'whether',\n",
              " 'storyline',\n",
              " 'entertainment',\n",
              " 'george',\n",
              " 'moving',\n",
              " 'viewers',\n",
              " 'romantic',\n",
              " 'future',\n",
              " 'needs',\n",
              " 'filmed',\n",
              " 'parents',\n",
              " 'message',\n",
              " 'dull',\n",
              " 'appears',\n",
              " 'comic',\n",
              " 'tried',\n",
              " 'five',\n",
              " 'certain',\n",
              " 'sequel',\n",
              " 'showing',\n",
              " 'theater',\n",
              " 'team',\n",
              " 'earth',\n",
              " 'clear',\n",
              " 'middle',\n",
              " 'thriller',\n",
              " 'within',\n",
              " 'kept',\n",
              " 'buy',\n",
              " 'space',\n",
              " 'stay',\n",
              " 'comments',\n",
              " 'king',\n",
              " 'among',\n",
              " 'sorry',\n",
              " 'monster',\n",
              " 'fall',\n",
              " 'named',\n",
              " 'greatest',\n",
              " 'theme',\n",
              " 'typical',\n",
              " 'easy',\n",
              " 'release',\n",
              " 'ways',\n",
              " 'feels',\n",
              " 'gone',\n",
              " 'doubt',\n",
              " 'near',\n",
              " 'writer',\n",
              " '80s',\n",
              " 'effort',\n",
              " 'working',\n",
              " 'fantastic',\n",
              " 'suspense',\n",
              " 'using',\n",
              " 'deal',\n",
              " 'realistic',\n",
              " 'elements',\n",
              " 'actual',\n",
              " 'tale',\n",
              " 'editing',\n",
              " 'means',\n",
              " 'youve',\n",
              " 'reviews',\n",
              " 'imagine',\n",
              " 'nearly',\n",
              " 'subject',\n",
              " 'famous',\n",
              " 'straight',\n",
              " 'class',\n",
              " 'viewing',\n",
              " 'boys',\n",
              " 'die',\n",
              " 'leads',\n",
              " 'lady',\n",
              " 'rent',\n",
              " 'dr',\n",
              " 'points',\n",
              " 'check',\n",
              " 'brought',\n",
              " 'mystery',\n",
              " 'rock',\n",
              " 'move',\n",
              " 'sister',\n",
              " 'peter',\n",
              " 'richard',\n",
              " 'feature',\n",
              " 'hear',\n",
              " 'somehow',\n",
              " 'dog',\n",
              " 'material',\n",
              " 'form',\n",
              " 'forget',\n",
              " 'sit',\n",
              " 'whos',\n",
              " 'general',\n",
              " 'weak',\n",
              " 'decided',\n",
              " 'premise',\n",
              " 'learn',\n",
              " 'believable',\n",
              " 'killing',\n",
              " 'surprise',\n",
              " 'avoid',\n",
              " 'expected',\n",
              " 'begins',\n",
              " 'wait',\n",
              " 'animation',\n",
              " 'lame',\n",
              " 'fast',\n",
              " 'figure',\n",
              " 'period',\n",
              " 'atmosphere',\n",
              " 'particular',\n",
              " 'okay',\n",
              " 'average',\n",
              " 'sequences',\n",
              " 'poorly',\n",
              " 'difficult',\n",
              " 'crime',\n",
              " 'deep',\n",
              " 'paul',\n",
              " 'york',\n",
              " 'shame',\n",
              " 'eye',\n",
              " 'possibly',\n",
              " 'became',\n",
              " 'tom',\n",
              " 'follow',\n",
              " 'truth',\n",
              " 'eventually',\n",
              " 'dance',\n",
              " 'stand',\n",
              " 'leaves',\n",
              " 'scifi',\n",
              " 'red',\n",
              " 'cheesy',\n",
              " 'oscar',\n",
              " 'emotional',\n",
              " 'indeed',\n",
              " 'reading',\n",
              " 'situation',\n",
              " 'features',\n",
              " 'write',\n",
              " 'minute',\n",
              " 'interested',\n",
              " 'meet',\n",
              " 'forced',\n",
              " 'season',\n",
              " 'imdb',\n",
              " 'needed',\n",
              " 'crew',\n",
              " 'footage',\n",
              " 'romance',\n",
              " 'doctor',\n",
              " 'writers',\n",
              " 'hot',\n",
              " 'whatever',\n",
              " 'sexual',\n",
              " 'memorable',\n",
              " 'previous',\n",
              " 'open',\n",
              " 'gay',\n",
              " 'begin',\n",
              " 'total',\n",
              " 'superb',\n",
              " 'keeps',\n",
              " 'meets',\n",
              " 'comment',\n",
              " 'weird',\n",
              " 'beauty',\n",
              " 'unless',\n",
              " 'incredibly',\n",
              " 'filmmakers',\n",
              " 'credits',\n",
              " 'laughs',\n",
              " 'male',\n",
              " 'note',\n",
              " 'otherwise',\n",
              " '20',\n",
              " 'copy',\n",
              " 'personal',\n",
              " 'third',\n",
              " 'sounds',\n",
              " 'badly',\n",
              " 'box',\n",
              " 'street',\n",
              " 'plus',\n",
              " 'western',\n",
              " 'question',\n",
              " 'island',\n",
              " 'perfectly',\n",
              " 'de',\n",
              " 'plenty',\n",
              " 'society',\n",
              " 'towards',\n",
              " 'result',\n",
              " 'screenplay',\n",
              " 'hands',\n",
              " 'worked',\n",
              " 'masterpiece',\n",
              " 'inside',\n",
              " 'nature',\n",
              " 'realize',\n",
              " 'crazy',\n",
              " 'japanese',\n",
              " 'quickly',\n",
              " 'effect',\n",
              " 'older',\n",
              " 'stage',\n",
              " 'unique',\n",
              " 'b',\n",
              " 'admit',\n",
              " 'setting',\n",
              " 'acted',\n",
              " 'air',\n",
              " 'fairly',\n",
              " 'america',\n",
              " 'brings',\n",
              " 'free',\n",
              " 'background',\n",
              " 'creepy',\n",
              " 'directing',\n",
              " 'portrayed',\n",
              " 'earlier',\n",
              " 'forward',\n",
              " 'spent',\n",
              " 'ask',\n",
              " 'remake',\n",
              " 'powerful',\n",
              " 'battle',\n",
              " 'various',\n",
              " 'following',\n",
              " 'leading',\n",
              " 'appear',\n",
              " 'joke',\n",
              " 'baby',\n",
              " 'bill',\n",
              " 'pay',\n",
              " 'deserves',\n",
              " 'expecting',\n",
              " 'rich',\n",
              " 'wasted',\n",
              " 'mess',\n",
              " 'dumb',\n",
              " 'front',\n",
              " 'cover',\n",
              " 'lee',\n",
              " 'dramatic',\n",
              " 'development',\n",
              " '70s',\n",
              " 'mark',\n",
              " 'manages',\n",
              " 'fails',\n",
              " 'attempts',\n",
              " 'meant',\n",
              " 'business',\n",
              " 'joe',\n",
              " 'agree',\n",
              " 'reasons',\n",
              " 'cop',\n",
              " 'caught',\n",
              " 'water',\n",
              " 'missing',\n",
              " 'hardly',\n",
              " 'twist',\n",
              " 'recently',\n",
              " 'fire',\n",
              " 'laughing',\n",
              " 'plain',\n",
              " 'girlfriend',\n",
              " 'cute',\n",
              " 'return',\n",
              " 'apart',\n",
              " 'talented',\n",
              " 'brothers',\n",
              " 'clever',\n",
              " 'william',\n",
              " 'present',\n",
              " 'fighting',\n",
              " 'secret',\n",
              " 'outside',\n",
              " 'political',\n",
              " 'success',\n",
              " 'la',\n",
              " 'ideas',\n",
              " 'pure',\n",
              " 'ended',\n",
              " 'large',\n",
              " 'create',\n",
              " 'party',\n",
              " 'waiting',\n",
              " 'members',\n",
              " 'telling',\n",
              " 'disney',\n",
              " 'odd',\n",
              " 'incredible',\n",
              " 'potential',\n",
              " 'married',\n",
              " 'missed',\n",
              " 'german',\n",
              " 'casting',\n",
              " 'cartoon',\n",
              " 'pace',\n",
              " 'break',\n",
              " 'italian',\n",
              " 'nudity',\n",
              " 'unlike',\n",
              " 'zombie',\n",
              " 'dream',\n",
              " 'escape',\n",
              " 'hold',\n",
              " 'slightly',\n",
              " 'cause',\n",
              " 'created',\n",
              " 'visual',\n",
              " 'van',\n",
              " 'considering',\n",
              " 'public',\n",
              " 'list',\n",
              " 'villain',\n",
              " 'familiar',\n",
              " 'bored',\n",
              " 'gun',\n",
              " 'wrote',\n",
              " 'appreciate',\n",
              " 'decides',\n",
              " 'died',\n",
              " 'mentioned',\n",
              " 'era',\n",
              " 'producers',\n",
              " 'speak',\n",
              " 'dancing',\n",
              " 'rate',\n",
              " 'intelligent',\n",
              " 'uses',\n",
              " 'compared',\n",
              " 'produced',\n",
              " 'biggest',\n",
              " 'amount',\n",
              " 'credit',\n",
              " 'follows',\n",
              " 'popular',\n",
              " 'convincing',\n",
              " 'fantasy',\n",
              " 'store',\n",
              " 'sees',\n",
              " 'train',\n",
              " 'state',\n",
              " 'moves',\n",
              " 'value',\n",
              " 'entirely',\n",
              " 'neither',\n",
              " 'portrayal',\n",
              " 'flat',\n",
              " 'company',\n",
              " 'sadly',\n",
              " 'office',\n",
              " 'college',\n",
              " 'common',\n",
              " 'fit',\n",
              " 'younger',\n",
              " 'spend',\n",
              " 'sweet',\n",
              " 'former',\n",
              " 'tension',\n",
              " 'christmas',\n",
              " 'trouble',\n",
              " 'science',\n",
              " 'kills',\n",
              " 'choice',\n",
              " 'match',\n",
              " 'mad',\n",
              " 'violent',\n",
              " 'language',\n",
              " 'recent',\n",
              " 'social',\n",
              " 'cold',\n",
              " 'amusing',\n",
              " 'decide',\n",
              " 'basic',\n",
              " 'concept',\n",
              " 'fear',\n",
              " 'filled',\n",
              " '12',\n",
              " 'images',\n",
              " 'suddenly',\n",
              " 'successful',\n",
              " ...]"
            ]
          },
          "metadata": {},
          "execution_count": 27
        }
      ]
    },
    {
      "cell_type": "markdown",
      "source": [
        "# Countvectorizer\n",
        "\n",
        "from pyspark.ml.feature import CountVectorizer\n",
        "cv = CountVectorizer(inputCol=\"texto_final\", outputCol=\"CountVec\")\n",
        "model = cv.fit(feature_data)\n",
        "countVectorizer_features = model.transform(feature_data)\n",
        "\n",
        "countVectorizer_features.select('texto_final','CountVec').limit(5).show()#truncate=False"
      ],
      "metadata": {
        "id": "ZRWVEOO68aww"
      }
    },
    {
      "cell_type": "code",
      "source": [
        "from pyspark.ml.feature import CountVectorizer\n",
        "\n",
        "cv = CountVectorizer(inputCol='sem_stop', outputCol='vetor')\n",
        "modelo = cv.fit(sem_stop)\n",
        "vetorizado = modelo.transform(sem_stop)\n",
        "\n",
        "vetorizado.select('sem_stop','vetor').limit(5).show()"
      ],
      "metadata": {
        "colab": {
          "base_uri": "https://localhost:8080/"
        },
        "id": "0jvfzsAZ8dHC",
        "outputId": "a1528d80-13b3-47d1-9a82-bafc98bc45ab"
      },
      "execution_count": 28,
      "outputs": [
        {
          "output_type": "stream",
          "name": "stdout",
          "text": [
            "+--------------------+--------------------+\n",
            "|            sem_stop|               vetor|\n",
            "+--------------------+--------------------+\n",
            "|[mr, costner, dra...|(216699,[0,8,9,12...|\n",
            "|[example, majorit...|(216699,[1,2,3,9,...|\n",
            "|[first, hate, mor...|(216699,[0,2,4,12...|\n",
            "|[even, beatles, c...|(216699,[0,1,2,4,...|\n",
            "|[brass, pictures,...|(216699,[1,3,5,9,...|\n",
            "+--------------------+--------------------+\n",
            "\n"
          ]
        }
      ]
    },
    {
      "cell_type": "markdown",
      "source": [
        "#### **[Hashing TF](https://spark.apache.org/docs/3.2.1/api/python/reference/api/pyspark.ml.feature.HashingTF.html)**: alternativa para o Countvector\n",
        "\n",
        "É gerado a mesma estrutura, entretando aqui limitamos o número de palavras contabilizadas."
      ],
      "metadata": {
        "id": "zjhIf6S12pWa"
      }
    },
    {
      "cell_type": "code",
      "source": [
        "from pyspark.ml.feature import HashingTF\n",
        "\n",
        "hashingTF = HashingTF(inputCol='sem_stop', outputCol='rawFeatures', numFeatures=50)\n",
        "HTFfeaturizedData = hashingTF.transform(sem_stop)"
      ],
      "metadata": {
        "id": "cx1M0DpX2Pmo"
      },
      "execution_count": 29,
      "outputs": []
    },
    {
      "cell_type": "code",
      "source": [
        "HTFfeaturizedData.select('sem_stop', 'rawFeatures').show(truncate=False)"
      ],
      "metadata": {
        "colab": {
          "base_uri": "https://localhost:8080/"
        },
        "id": "bLNIx16N32j3",
        "outputId": "ba7012d5-44da-462e-aa19-685d7f70c17e"
      },
      "execution_count": 30,
      "outputs": [
        {
          "output_type": "stream",
          "name": "stdout",
          "text": [
            "+-----------------------------------------------------------------------------------------------------------------------------------------------------------------------------------------------------------------------------------------------------------------------------------------------------------------------------------------------------------------------------------------------------------------------------------------------------------------------------------------------------------------------------------------------------------------------------------------------------------------------------------------------------------------------------------------------------------------------------------------------------------------------------------------------------------------------------------------------------------------------------------------------------------------------------------------------------------------------------------------------------------------------------------------------------------------------------------------------------------------------------------------------------------------------------------------------------------------------------------------------------------------------------------------------------------------------------------------------------------------------------------------------------------------------------------------------------------------------------------------------------------------+------------------------------------------------------------------------------------------------------------------------------------------------------------------------------------------------------------------------------------------------------------------------------------------------------------------------------------------------------+\n",
            "|sem_stop                                                                                                                                                                                                                                                                                                                                                                                                                                                                                                                                                                                                                                                                                                                                                                                                                                                                                                                                                                                                                                                                                                                                                                                                                                                                                                                                                                                                                                                                                                         |rawFeatures                                                                                                                                                                                                                                                                                                                                           |\n",
            "+-----------------------------------------------------------------------------------------------------------------------------------------------------------------------------------------------------------------------------------------------------------------------------------------------------------------------------------------------------------------------------------------------------------------------------------------------------------------------------------------------------------------------------------------------------------------------------------------------------------------------------------------------------------------------------------------------------------------------------------------------------------------------------------------------------------------------------------------------------------------------------------------------------------------------------------------------------------------------------------------------------------------------------------------------------------------------------------------------------------------------------------------------------------------------------------------------------------------------------------------------------------------------------------------------------------------------------------------------------------------------------------------------------------------------------------------------------------------------------------------------------------------+------------------------------------------------------------------------------------------------------------------------------------------------------------------------------------------------------------------------------------------------------------------------------------------------------------------------------------------------------+\n",
            "|[mr, costner, dragged, movie, far, longer, necessary, aside, terrific, sea, rescue, sequences, care, characters, us, ghosts, closet, costners, character, realized, early, forgotten, much, later, time, care, character, really, care, cocky, overconfident, ashton, kutcher, problem, comes, kid, thinks, hes, better, anyone, else, around, shows, signs, cluttered, closet, obstacle, appears, winning, costner, finally, well, past, half, way, point, stinker, costner, tells, us, kutchers, ghosts, told, kutcher, driven, best, prior, inkling, foreshadowing, magic, could, keep, turning, hour]                                                                                                                                                                                                                                                                                                                                                                                                                                                                                                                                                                                                                                                                                                                                                                                                                                                                                                        |(50,[0,5,6,7,8,10,11,12,13,15,16,17,19,21,22,23,24,25,26,27,29,30,31,33,34,35,37,38,39,40,41,42,43,44,47,48,49],[1.0,1.0,1.0,3.0,2.0,8.0,4.0,1.0,1.0,2.0,7.0,4.0,1.0,1.0,4.0,1.0,1.0,1.0,1.0,2.0,2.0,2.0,1.0,2.0,1.0,2.0,1.0,1.0,1.0,1.0,1.0,2.0,1.0,2.0,2.0,3.0,2.0])                                                                                |\n",
            "|[example, majority, action, films, generic, boring, theres, really, nothing, worth, watching, complete, waste, barelytapped, talents, icet, ice, cube, whove, proven, many, times, capable, acting, acting, well, dont, bother, one, go, see, new, jack, city, ricochet, watch, new, york, undercover, icet, boyz, n, hood, higher, learning, friday, ice, cube, see, real, deal, icets, horribly, cliched, dialogue, alone, makes, film, grate, teeth, im, still, wondering, heck, bill, paxton, film, heck, always, play, exact, character, aliens, onward, every, film, ive, seen, bill, paxton, playing, exact, irritating, character, least, aliens, character, died, made, somewhat, gratifyingoverall, secondrate, action, trash, countless, better, films, see, really, want, see, one, watch, judgement, night, practically, carbon, copy, better, acting, better, script, thing, made, worth, watching, decent, hand, camera, , cinematography, almost, refreshing, comes, close, making, horrible, film, , quite, 410]                                                                                                                                                                                                                                                                                                                                                                                                                                                                                |(50,[0,1,2,3,4,5,6,7,8,9,10,11,12,14,15,16,17,18,19,20,22,23,24,25,27,29,30,31,32,33,34,35,37,38,39,40,41,42,43,44,45,47,48,49],[8.0,1.0,3.0,6.0,4.0,4.0,2.0,3.0,2.0,2.0,3.0,3.0,6.0,1.0,4.0,2.0,9.0,2.0,1.0,2.0,6.0,4.0,1.0,2.0,1.0,2.0,1.0,4.0,2.0,3.0,4.0,5.0,1.0,2.0,3.0,2.0,2.0,3.0,3.0,4.0,2.0,1.0,3.0,2.0])                                    |\n",
            "|[first, hate, moronic, rappers, couldnt, act, gun, pressed, foreheads, curse, shoot, acting, like, clichã©e, version, gangstersthe, movie, doesnt, take, five, minutes, explain, going, already, warehouse, single, sympathetic, character, movie, except, homeless, guy, also, one, half, brainbill, paxton, william, sadler, hill, billies, sadlers, character, much, villain, gangsters, didnt, like, right, startthe, movie, filled, pointless, violence, walter, hills, specialty, people, falling, windows, glass, flying, everywhere, pretty, much, plot, big, problem, root, noone, everybody, dies, except, paxton, homeless, guy, everybody, get, deservethe, two, black, people, act, homeless, guy, junkie, theyre, actors, profession, annoying, ugly, brain, dead, rappersstay, away, crap, watch, 48, hours, 1, 2, instead, lest, characters, care, sense, humor, nothing, real, actors, cast]                                                                                                                                                                                                                                                                                                                                                                                                                                                                                                                                                                                                    |(50,[0,1,2,3,5,6,7,8,9,10,11,12,13,14,15,16,17,19,20,21,22,23,24,26,27,28,29,30,31,32,33,34,35,36,37,38,39,40,41,42,44,45,47,48,49],[1.0,3.0,1.0,1.0,2.0,2.0,2.0,1.0,2.0,2.0,3.0,5.0,3.0,1.0,1.0,1.0,4.0,2.0,4.0,2.0,1.0,2.0,3.0,2.0,2.0,3.0,2.0,6.0,1.0,2.0,2.0,4.0,1.0,1.0,1.0,3.0,6.0,3.0,3.0,3.0,6.0,1.0,4.0,5.0,1.0])                            |\n",
            "|[even, beatles, could, write, songs, everyone, liked, although, walter, hill, moptop, hes, second, none, comes, thought, provoking, action, movies, nineties, came, social, platforms, changing, music, film, emergence, rapper, turned, movie, star, full, swing, acting, took, back, seat, mans, overpowering, regional, accent, transparent, acting, one, many, icet, movies, saw, kid, loved, watch, later, cringe, bill, paxton, william, sadler, firemen, basic, lives, burning, building, tenant, go, flames, hands, map, gold, implications, hand, walter, quickly, neatly, setting, main, characters, location, fault, everyone, involved, turning, lameo, performances, icet, cube, must, red, hot, time, ive, enjoyed, careers, rappers, opinion, fell, flat, movie, ninety, minutes, one, guy, ridiculously, turning, back, guy, point, find, locked, multiple, states, disbelief, movie, documentary, wont, waste, time, recounting, stupid, plot, twists, movie, many, led, nowhere, got, feeling, watching, everyone, set, sord, confused, playing, things, cuff, two, things, still, enjoy, one, involves, scene, needle, sadlers, huge, 45, pistol, bottom, line, movie, like, dominos, pizza, yeah, ill, eat, im, hungry, dont, feel, like, cooking, im, well, aware, tastes, like, crap, 3, stars, meh]                                                                                                                                                                                       |(50,[0,1,2,3,4,5,6,7,8,9,10,11,12,13,14,15,16,17,18,20,21,22,23,24,25,26,27,28,29,30,31,32,33,34,35,36,37,38,39,40,41,42,43,44,45,47,48,49],[2.0,1.0,2.0,4.0,2.0,4.0,4.0,5.0,2.0,4.0,8.0,2.0,6.0,4.0,1.0,6.0,1.0,3.0,3.0,7.0,1.0,2.0,8.0,2.0,3.0,3.0,2.0,1.0,3.0,8.0,2.0,3.0,2.0,5.0,5.0,2.0,2.0,3.0,6.0,1.0,3.0,6.0,6.0,5.0,5.0,4.0,2.0,4.0])        |\n",
            "|[brass, pictures, movies, fitting, word, really, somewhat, brassy, alluring, visual, qualities, reminiscent, expensive, high, class, tv, commercials, unfortunately, brass, pictures, feature, films, pretense, wanting, entertain, viewers, two, hours, fail, miserably, undeniable, rather, soft, flabby, steamy, erotic, qualities, non, withstandingsenso, 45, remake, film, luchino, visconti, title, alida, valli, farley, granger, lead, original, tells, story, senseless, love, lust, around, venice, italian, wars, independence, brass, moved, action, 19th, 20th, century, 1945, exact, mussolini, murals, men, black, shirts, german, uniforms, tattered, garb, partisans, window, dressing, historic, context, completely, negligibleanna, galiena, plays, attractive, aristocratic, woman, falls, amoral, ss, guy, always, puts, much, lipstick, attractive, versatile, well, trained, italian, actress, clearly, material, wide, range, facial, expressions, signalling, boredom, loathing, delight, fear, hate, , ecstasy, best, reason, watch, picture, worth, two, stars, endures, basically, trashy, stuff, astonishing, amount, dignity, wish, really, good, parts, come, along, really, deserves]                                                                                                                                                                                                                                                                                          |(50,[0,1,2,3,4,5,6,7,8,10,11,12,13,14,15,16,17,18,19,20,22,23,24,25,26,27,28,29,30,31,32,33,34,35,36,37,38,39,40,41,42,43,44,45,46,47,48,49],[1.0,1.0,3.0,3.0,1.0,2.0,3.0,4.0,3.0,1.0,1.0,5.0,5.0,3.0,4.0,3.0,4.0,4.0,2.0,2.0,3.0,4.0,2.0,2.0,4.0,4.0,5.0,2.0,3.0,4.0,1.0,3.0,3.0,3.0,1.0,5.0,1.0,4.0,5.0,2.0,3.0,1.0,7.0,1.0,1.0,3.0,2.0,6.0])       |\n",
            "|[funny, thing, happened, watching, mosquito, one, hand, hero, deafmute, director, totally, unable, make, us, understand, mutilating, mannequinser, excuse, corpses, images, hand, english, version, least, badly, dubbed, found, wishing, less, dialogue, time, film, stupid, funny, guy, access, every, graveyard, mortuary, town, lurid, would, 70s, exploitationer, without, gratuitous, lesbian, scene, mention, romantic, aspect, oh, sweetmiss]                                                                                                                                                                                                                                                                                                                                                                                                                                                                                                                                                                                                                                                                                                                                                                                                                                                                                                                                                                                                                                                            |(50,[0,2,3,7,8,10,11,12,13,14,15,16,17,18,19,20,22,23,24,25,28,30,31,34,36,37,38,40,43,44,45,48,49],[2.0,1.0,4.0,3.0,2.0,1.0,3.0,1.0,2.0,1.0,3.0,1.0,2.0,1.0,1.0,1.0,1.0,2.0,1.0,2.0,2.0,1.0,1.0,1.0,1.0,1.0,2.0,1.0,2.0,2.0,2.0,1.0,1.0])                                                                                                            |\n",
            "|[german, horror, film, one, weirdest, seeni, aware, connection, child, abuse, vampirism, supposed, based, upon, true, characterour, hero, deaf, mute, result, repeated, beatings, hands, father, also, doll, fetish, cannot, figure, came, coworkers, find, tease, terriblyduring, day, mildmanner, accountant, night, breaks, cemeteries, funeral, homes, drinks, blood, dead, girls, attractive, course, else, wouldnt, care, fact, usually, tears, clothing, waist, graduates, eventually, actually, killing, gets, caughtlike, said, strange, movie, dark, slow, werner, pochath, never, talks, spends, time, drinking, blood]                                                                                                                                                                                                                                                                                                                                                                                                                                                                                                                                                                                                                                                                                                                                                                                                                                                                               |(50,[0,2,3,5,7,8,9,10,14,15,16,17,18,19,20,22,24,26,28,29,30,31,32,33,34,35,36,38,39,40,41,42,43,44,45,47,48,49],[1.0,1.0,2.0,1.0,1.0,1.0,2.0,4.0,1.0,2.0,3.0,1.0,1.0,3.0,2.0,1.0,1.0,2.0,1.0,2.0,4.0,4.0,1.0,1.0,2.0,3.0,1.0,2.0,3.0,2.0,1.0,3.0,1.0,2.0,3.0,3.0,4.0,2.0])                                                                           |\n",
            "|[longtime, fan, japanese, film, expected, cant, really, bothered, write, much, movie, poor, story, might, cutest, romantic, little, something, ever, pity, couldnt, stand, awful, acting, mess, called, pacing, standard, quirky, japanese, story, youve, noticed, many, japanese, movies, use, characters, plots, twists, seem, different, forcedly, steer, clear, movie, seriously, 12year, old, could, told, movie, going, move, along, thats, good, thing, bookfans, beat, takeshi, part, movie, really, cameo, unless, youre, rabid, fan, dont, need, suffer, waste, film210]                                                                                                                                                                                                                                                                                                                                                                                                                                                                                                                                                                                                                                                                                                                                                                                                                                                                                                                               |(50,[0,1,3,5,7,10,11,12,13,14,15,17,18,19,22,24,25,26,27,30,32,33,34,35,36,37,38,39,40,42,43,44,45,48,49],[1.0,1.0,4.0,4.0,2.0,1.0,2.0,3.0,2.0,1.0,2.0,3.0,1.0,1.0,1.0,2.0,1.0,4.0,1.0,1.0,1.0,3.0,3.0,3.0,1.0,2.0,3.0,5.0,3.0,1.0,4.0,1.0,2.0,1.0,3.0])                                                                                              |\n",
            "|[tokyo, eyes, tells, 17, year, old, japanese, girl, falls, like, man, hunted, big, bro, cop, lame, flick, 50, filler, 50, talk, talk, talk, youll, get, see, less, stellar, cast, three, talk, bus, talk, play, video, games, talk, get, haircut, talk, walk, walk, talk, talk, cell, phones, hang, talk, etc, read, subtitles, waiting, something, happen, thin, wisp, story, sufficient, support, film, low, end, production, value, meager, cast, action, romance, sex, nudity, heavy, dramajust, incessant, yadayadayadaing, c]                                                                                                                                                                                                                                                                                                                                                                                                                                                                                                                                                                                                                                                                                                                                                                                                                                                                                                                                                                              |(50,[0,1,3,4,5,8,9,10,11,12,15,16,17,18,19,21,22,23,24,25,26,27,28,29,30,32,33,35,39,40,41,42,43,44,45,46,48,49],[1.0,1.0,4.0,2.0,1.0,2.0,2.0,2.0,2.0,1.0,1.0,1.0,2.0,1.0,1.0,2.0,1.0,2.0,2.0,11.0,5.0,2.0,2.0,1.0,1.0,2.0,2.0,1.0,1.0,1.0,1.0,3.0,2.0,2.0,2.0,1.0,1.0,3.0])                                                                          |\n",
            "|[wealthy, horse, ranchers, buenos, aires, longstanding, notrading, policy, crawfords, manhattan, happens, mustachioed, latin, son, falls, certain, crawford, bright, eyes, blonde, hair, perky, moves, dance, floor, 20th, centuryfox, musical, glossy, veneer, yet, seems, bit, tatty, around, edges, heavy, frenetic, gymnasticlike, dancing, exceedingly, thin, story, betty, grable, eleventh, hour, replacement, alice, faye, gives, boost, even, though, shes, paired, leaden, ameche, tan, makeup, slick, hair, also, good, charlotte, greenwood, bettys, pithy, aunt, limousine, driver, whos, constantly, asleep, job, carmen, miranda, playing, else, stock, shots, argentina, far, outclass, action, filmed, fox, backlot, supporting, performances, quite, awful, time, big, horserace, finale, viewers, enough, 12]                                                                                                                                                                                                                                                                                                                                                                                                                                                                                                                                                                                                                                                                                 |(50,[0,1,2,3,5,6,7,8,9,10,11,12,13,14,15,16,17,18,19,20,21,22,25,27,28,29,30,31,32,33,34,35,37,38,39,40,41,42,43,44,46,47,48,49],[3.0,3.0,1.0,2.0,3.0,3.0,4.0,3.0,2.0,3.0,2.0,1.0,3.0,4.0,1.0,2.0,1.0,3.0,4.0,1.0,1.0,2.0,2.0,4.0,1.0,1.0,1.0,1.0,2.0,1.0,3.0,1.0,2.0,2.0,5.0,1.0,2.0,3.0,3.0,2.0,1.0,2.0,3.0,4.0])                                   |\n",
            "|[cage, plays, drunk, gets, high, critically, praise, elizabeth, shue, actually, love, seen, unattractive, overrated, piece, dung, flesh, hollywood, literally, vomited, watching, film, course, flu, mean, film, contribute, vomit, kamode, cant, nick, cage, play, something, really, pull, like, bad, actor, nick, cage, brilliant, role, bad, actor, heck, nobody, could, betterthe, search, begins, nicks, contract, lucifer, lou, cipher, night, train, terror]                                                                                                                                                                                                                                                                                                                                                                                                                                                                                                                                                                                                                                                                                                                                                                                                                                                                                                                                                                                                                                             |(50,[0,1,2,3,4,5,6,9,12,14,15,16,17,19,20,22,23,24,25,26,30,31,33,34,38,40,41,44,46,47,49],[1.0,1.0,3.0,3.0,3.0,2.0,3.0,1.0,1.0,2.0,3.0,2.0,3.0,2.0,1.0,2.0,3.0,2.0,2.0,2.0,2.0,1.0,1.0,1.0,1.0,1.0,2.0,3.0,2.0,2.0,1.0])                                                                                                                             |\n",
            "|[first, would, like, say, fan, actors, appear, film, time, rented, wanted, like, iti, think, main, reason, disappointed, outside, box, promised, suspense, thriller, eyes, suspense, thriller, british, movies, like, something, ruth, rendell, novel, something, lot, dark, twist, turns, leaves, viewer, ending, unlikely, forgotten, anytime, soonthis, movie, started, promising, note, film, main, character, suspects, man, like, involved, hit, run, killed, husband, one, servantshis, notions, prove, right, idea, wife, might, involved, occur, confesses, part, crimethe, elements, good, suspense, thriller, place, point, felt, film, took, different, direction, became, almost, sort, mild, soap, opera, wants, love, real, relationship, film, might, enjoyable, outside, box, talked, twisted, lovers, triangle, labeled, suspense, thrillerthis, seemed, soap, opera, story, beginning, setting, seemed, mild, distraction, true, content, film, felt, like, film, could, done, whole, lot, better, felt, like, kept, leading, viewer, big, event, never, materialized, give, lower, rating, would, liked, say, fell, short, expectations]                                                                                                                                                                                                                                                                                                                                                     |(50,[0,2,3,4,5,7,8,9,10,11,12,13,14,15,16,17,18,19,20,21,22,23,24,25,26,27,28,30,31,32,33,34,35,36,37,38,39,40,41,43,44,46,47,48,49],[3.0,3.0,10.0,3.0,1.0,4.0,4.0,3.0,4.0,4.0,4.0,2.0,2.0,1.0,4.0,1.0,3.0,1.0,5.0,3.0,3.0,4.0,2.0,2.0,3.0,2.0,1.0,10.0,2.0,3.0,3.0,9.0,1.0,3.0,2.0,5.0,2.0,7.0,5.0,4.0,1.0,1.0,1.0,1.0,1.0])                         |\n",
            "|[tell, , serious, boozer, drinks, budweiser, many, suicidallyobsessed, drinkers, house, fully, stocked, barely, touched, range, drinks, lonely, motel, room, millionaire, playboys, bachelorpad, bar, would, proud, boast, kind, alcoholic, tends, drink, bottle, held, 8, inches, hungry, mouth, contents, generally, spill, face, mention, wasting, good, whisky, dousing, girlfriends, tits, cinema, audience, get, good, eyeful, elisabeth, shues, assetscage, seems, portraying, attentionseeking, lookatme, alcoholic, ever, graced, screen, shue, looks, like, berkely, preppy, slumming, summer, seasoned, streetwalker, humiliated, subjugated, often, possible, revolting, movie, beatings, skin, lacerations, anal, rape, graphic, verbal, abuse, , completely, implausible, included, apparently, convey, sense, horribly, demeaned, state, offer, male, viewers, astonishingly, clichã©d, sentimental, sexual, fantasy, tartwithaheartstill, , watch, end, time, actually, laughing, loud, shues, tough, street, hooker, chopped, carrots, kitchen, wanly, pathetically, smiling, cage, , eyes, popping, shaking, like, like, man, operating, road, drill, earthquake, , grimaced, mugged, way, final, halfhour]                                                                                                                                                                                                                                                                                    |(50,[0,1,2,3,4,5,6,7,8,9,10,11,12,13,15,17,18,19,20,22,23,24,25,26,27,28,29,30,31,32,33,34,35,36,37,38,39,41,42,43,44,45,46,47,48],[4.0,3.0,2.0,3.0,2.0,2.0,2.0,4.0,3.0,4.0,1.0,2.0,3.0,1.0,5.0,7.0,6.0,4.0,1.0,8.0,5.0,1.0,1.0,4.0,4.0,1.0,1.0,7.0,4.0,2.0,3.0,5.0,1.0,3.0,3.0,3.0,4.0,1.0,1.0,4.0,6.0,1.0,1.0,5.0,2.0])                             |\n",
            "|[big, disappointment, touted, incredible, film, incredibly, bad, pretentious, would, nice, someone, would, create, high, profile, role, young, woman, prostitute, dont, really, learn, anything, character, except, seems, hopeless, alcoholic, dont, know, nicholas, cage, turns, excellent, performance, usual, feel, role, script, let, able, perform, whole, film, erection, deathbed, really, terrible, felt, like, needed, bath]                                                                                                                                                                                                                                                                                                                                                                                                                                                                                                                                                                                                                                                                                                                                                                                                                                                                                                                                                                                                                                                                           |(50,[0,1,3,4,6,9,10,11,12,13,14,15,16,17,19,20,21,22,23,27,28,29,30,31,32,35,40,46,47,48],[2.0,1.0,4.0,3.0,1.0,2.0,1.0,2.0,3.0,1.0,2.0,1.0,2.0,3.0,2.0,3.0,1.0,1.0,2.0,3.0,1.0,2.0,1.0,1.0,1.0,1.0,1.0,1.0,1.0,2.0])                                                                                                                                  |\n",
            "|[film, absolutely, appalling, awful, low, budget, budget, film, makes, ed, woods, movies, look, like, art, acting, abysmal, sets, props, worse, anything, ever, seen, ordinary, subway, train, used, transport, people, evil, zone, killer, mutants, woddy, strode, one, bullet, fight, scenes, shot, disused, gravel, pit, sadism, would, expect, 80s, italian, video, nasty, talent, used, make, film, female, love, interest, huge, bhind, italian, taste, maybe, even, 80s, italian, standards, film, pretty, damn, awful, guess, came, time, werent, many, films, available, video, viewers, werent, really, discerning, piece, crap, entertainment, value, whatsoever, even, funny, boring, extremely, cheap, actually, insult, stupid, audience, wonder, earth, actor, like, woody, strode, ended, ia, turkey, like]                                                                                                                                                                                                                                                                                                                                                                                                                                                                                                                                                                                                                                                                                      |(50,[0,1,2,3,4,5,6,7,10,11,12,13,14,15,16,17,18,19,20,21,22,23,24,25,26,28,29,30,32,33,34,35,37,38,39,40,41,44,47,48,49],[2.0,2.0,1.0,8.0,4.0,3.0,4.0,1.0,1.0,3.0,3.0,3.0,3.0,3.0,1.0,3.0,2.0,1.0,1.0,1.0,1.0,1.0,2.0,2.0,3.0,1.0,1.0,6.0,5.0,2.0,3.0,4.0,3.0,1.0,2.0,2.0,4.0,3.0,3.0,3.0,4.0])                                                       |\n",
            "|[heres, decidedly, average, italian, post, apocalyptic, take, huntingkilling, humans, sport, theme, ala, dangerous, game, turkey, shoot, gymkata, running, mancertainly, film, reviewed, nowhere, near, much, fun, listed, entries, furthermore, dragged, poor, voice, work, generally, bland, action, sequences, number, entirely, tasteless, scenes, prolonged, rape, sequence, truly, stupid, illogical, points, throughouttake, example, towards, end, film, hero, manages, infiltrate, compound, villains, initially, kills, sentry, leaves, jeep, upon, discovery, said, corpse, villains, response, bearing, mind, hero, come, brutally, murder, â, resolve, wait, next, morning, look, culprit, however, suppose, fair, film, remains, nonetheless, watchable, suspend, disbelief, stupid, scenes, benefit, immensely, presence, always, excellent, woody, strode, even, screen, time, limitednot, classic, stretch, imagination, still, worthy, watch, italian, bmovie, enthusiasts]                                                                                                                                                                                                                                                                                                                                                                                                                                                                                                                    |(50,[0,1,2,3,4,5,6,7,8,9,10,11,12,13,14,15,17,18,19,20,21,22,23,24,25,26,27,28,29,30,31,32,33,34,35,37,39,40,41,42,43,45,46,48,49],[2.0,1.0,2.0,6.0,1.0,1.0,4.0,1.0,3.0,2.0,2.0,5.0,2.0,3.0,3.0,3.0,1.0,3.0,4.0,3.0,1.0,4.0,3.0,4.0,2.0,2.0,3.0,3.0,1.0,3.0,2.0,3.0,3.0,3.0,5.0,3.0,1.0,2.0,2.0,2.0,1.0,1.0,2.0,3.0,1.0])                             |\n",
            "|[bottom, end, apocalypse, movie, scale, piece, pish, called, final, executioner, least, come, bloke, trained, excop, seek, vengeance, killed, woman, friends, cold, blood, thats, lots, fake, explosions, repetitive, shootings, ensue, one, weirdest, array, costumes, ive, seen, film, massive, fortress, apparently, run, 7, people, great, job, dubbing, guys, best, moment, hero, loses, swordfight, skewered, neck, gets, gun, bang, earlier, mystery, anyone, would, want, sit, first, place, im, still, puzzling, one, 210]                                                                                                                                                                                                                                                                                                                                                                                                                                                                                                                                                                                                                                                                                                                                                                                                                                                                                                                                                                              |(50,[0,1,2,3,5,7,9,11,12,13,14,15,16,17,18,20,21,23,25,27,30,32,33,34,36,37,38,39,40,41,44,45,46,47,48,49],[1.0,2.0,2.0,5.0,1.0,2.0,3.0,1.0,3.0,6.0,2.0,5.0,3.0,1.0,3.0,1.0,1.0,1.0,1.0,1.0,1.0,2.0,1.0,3.0,1.0,1.0,2.0,1.0,1.0,2.0,1.0,1.0,2.0,2.0,2.0,1.0])                                                                                         |\n",
            "|[earth, destroyed, nuclear, holocaust, well, parts, earth, somewhere, italy, band, purebred, survivorsthose, without, radioactive, contaminationare, holed, massive, mansion, surrounded, lush, grounds, waiting, next, opportunity, go, hunting, polluted, blood, final, executioner, story, one, would, victims, alan, william, mang, looks, surprisingly, lot, like, kurt, russell, efforts, take, legally, sanctioned, hunters, led, edra, marina, costa, erasmus, harrison, muller, jr, , alan, trained, kill, former, nypd, cop, sam, woody, strode, mostly, hangs, around, giving, pupil, moral, support, mooching, tinned, meat, strode, far, best, thing, film, though, doesnt, look, well, appears, third, running, time, story, blending, elements, better, films, stories, including, ten, little, indians, dangerous, game, escape, new, york, final, executioner, moves, along, fair, pace, provides, reasonable, entertainment, less, discriminate, action, fans]                                                                                                                                                                                                                                                                                                                                                                                                                                                                                                                                 |(50,[0,1,2,3,4,5,6,7,8,9,10,11,12,13,15,16,17,18,20,21,22,23,25,26,27,29,30,31,32,33,34,35,36,37,39,40,41,43,44,45,46,47,48,49],[1.0,3.0,1.0,6.0,1.0,4.0,2.0,4.0,3.0,2.0,4.0,3.0,1.0,3.0,2.0,1.0,4.0,1.0,1.0,1.0,1.0,3.0,2.0,3.0,1.0,3.0,2.0,1.0,4.0,3.0,8.0,5.0,1.0,1.0,4.0,4.0,3.0,7.0,1.0,4.0,1.0,2.0,1.0,4.0])                                    |\n",
            "|[many, people, standing, front, house, n, women, crying, men, standing, close, groups, speaking, hushed, tone, couple, guys, come, discussing, sexy, daughter, might, look, today, soon, u, know, someone, house, died, dead, persons, wife, worried, preparing, food, many, people, friend, sitting, beside, gives, idea, making, matters, easy, preparing, simple, roti, sabji, one, dead, persons, son, speaking, someone, mobile, daughter, busy, makeup, mother, suggests, wear, salwar, kameej, daughter, interested, looking, good, many, people, visiting, house, hence, prefers, jeans, shirt, salwar, kameez, another, son, asks, mom, finish, kriyas, also, indicates, expected, come, early, office, camera, slowly, focuses, dead, person, white, cloth, covering, face, displaced, slightly, due, wind, revealing, face, , anupam, kher, suddenly, alarm, rings, gets, bed, dream, flash, back, u, wont, get, answer, end, moviewell, wat, comedy, director, dibakar, banerjee, later, u, find, scene, nothing, actual, movie, hence, making, everything, obvious, still, described, earlier, dream, film, comedy, well, supposed, belong, category, actually, nothing, remotely, associated, comedy, movie, director, gives, message, one, get, justice, police, everyone, must, cheat, cheats, forget, justice, music, bapitutul, , dhruv, dhalla, ok, nothing, much, tell, sectors, bad, script, destroys, everything, even, anupam, khers, performance, succeeds, making, least, paisa, vasool]|(50,[0,1,2,3,4,6,7,8,9,10,11,12,13,14,15,16,17,18,19,20,21,22,23,24,25,26,27,28,29,30,31,32,33,34,35,36,37,38,39,40,41,42,43,44,45,46,47,48,49],[2.0,3.0,2.0,7.0,4.0,8.0,5.0,2.0,3.0,3.0,3.0,4.0,4.0,2.0,4.0,8.0,3.0,3.0,1.0,2.0,4.0,2.0,4.0,7.0,1.0,5.0,2.0,3.0,4.0,3.0,3.0,5.0,6.0,4.0,1.0,6.0,2.0,7.0,5.0,3.0,3.0,9.0,2.0,7.0,6.0,3.0,7.0,2.0,2.0])|\n",
            "|[new, york, family, last, neighborhood, get, television, set, nearly, ruins, david, nivens, marriage, mitzi, gaynor, bedroom, comedy, rarely, ventures, bedroomand, nothing, sexy, happens, anyway, gaynor, actress, much, range, ovenshe, turns, turns, films, sole, compensation, supporting, performance, perky, patty, duke, premiracle, worker, nivens, daughter, shes, delightful, happy, anniversary, ]                                                                                                                                                                                                                                                                                                                                                                                                                                                                                                                                                                                                                                                                                                                                                                                                                                                                                                                                                                                                                                                                                                   |(50,[1,4,6,7,8,10,11,12,13,15,16,17,22,23,24,26,27,28,29,30,31,32,33,35,37,39,42,47],[2.0,2.0,1.0,1.0,2.0,2.0,1.0,1.0,1.0,2.0,1.0,2.0,2.0,2.0,1.0,3.0,1.0,1.0,4.0,1.0,1.0,1.0,1.0,1.0,1.0,2.0,5.0,3.0])                                                                                                                                               |\n",
            "+-----------------------------------------------------------------------------------------------------------------------------------------------------------------------------------------------------------------------------------------------------------------------------------------------------------------------------------------------------------------------------------------------------------------------------------------------------------------------------------------------------------------------------------------------------------------------------------------------------------------------------------------------------------------------------------------------------------------------------------------------------------------------------------------------------------------------------------------------------------------------------------------------------------------------------------------------------------------------------------------------------------------------------------------------------------------------------------------------------------------------------------------------------------------------------------------------------------------------------------------------------------------------------------------------------------------------------------------------------------------------------------------------------------------------------------------------------------------------------------------------------------------+------------------------------------------------------------------------------------------------------------------------------------------------------------------------------------------------------------------------------------------------------------------------------------------------------------------------------------------------------+\n",
            "only showing top 20 rows\n",
            "\n"
          ]
        }
      ]
    },
    {
      "cell_type": "markdown",
      "source": [
        "#### **TF-IDF**: estabelecendo pesos\n",
        "\n",
        "O TF-IDF não apenas contabiliza as diferentes palavras, mas também gera pesos para cada um a partir da predomância nos dados."
      ],
      "metadata": {
        "id": "uS9pKjyG409_"
      }
    },
    {
      "cell_type": "code",
      "source": [
        "from pyspark.ml.feature import IDF\n",
        "\n",
        "idf = IDF(inputCol='rawFeatures', outputCol='features')\n",
        "idfModel = idf.fit(HTFfeaturizedData)\n",
        "rescaledData = idfModel.transform(HTFfeaturizedData)"
      ],
      "metadata": {
        "id": "JTwvUHBd34Pf"
      },
      "execution_count": 31,
      "outputs": []
    },
    {
      "cell_type": "code",
      "source": [
        "rescaledData.select('sem_stop', 'rawFeatures', 'features').show(truncate=False)"
      ],
      "metadata": {
        "colab": {
          "base_uri": "https://localhost:8080/"
        },
        "id": "H6OCzw5B4-RQ",
        "outputId": "9f1aee95-7721-4730-cb20-0da5b83ea9e7"
      },
      "execution_count": 32,
      "outputs": [
        {
          "output_type": "stream",
          "name": "stdout",
          "text": [
            "+-----------------------------------------------------------------------------------------------------------------------------------------------------------------------------------------------------------------------------------------------------------------------------------------------------------------------------------------------------------------------------------------------------------------------------------------------------------------------------------------------------------------------------------------------------------------------------------------------------------------------------------------------------------------------------------------------------------------------------------------------------------------------------------------------------------------------------------------------------------------------------------------------------------------------------------------------------------------------------------------------------------------------------------------------------------------------------------------------------------------------------------------------------------------------------------------------------------------------------------------------------------------------------------------------------------------------------------------------------------------------------------------------------------------------------------------------------------------------------------------------------------------+------------------------------------------------------------------------------------------------------------------------------------------------------------------------------------------------------------------------------------------------------------------------------------------------------------------------------------------------------+-----------------------------------------------------------------------------------------------------------------------------------------------------------------------------------------------------------------------------------------------------------------------------------------------------------------------------------------------------------------------------------------------------------------------------------------------------------------------------------------------------------------------------------------------------------------------------------------------------------------------------------------------------------------------------------------------------------------------------------------------------------------------------------------------------------------------------------------------------------------------------------------------------------------------------------------------------------------------------------------------------------------------------------------------------------------------------------------------------------------+\n",
            "|sem_stop                                                                                                                                                                                                                                                                                                                                                                                                                                                                                                                                                                                                                                                                                                                                                                                                                                                                                                                                                                                                                                                                                                                                                                                                                                                                                                                                                                                                                                                                                                         |rawFeatures                                                                                                                                                                                                                                                                                                                                           |features                                                                                                                                                                                                                                                                                                                                                                                                                                                                                                                                                                                                                                                                                                                                                                                                                                                                                                                                                                                                                                                                                                         |\n",
            "+-----------------------------------------------------------------------------------------------------------------------------------------------------------------------------------------------------------------------------------------------------------------------------------------------------------------------------------------------------------------------------------------------------------------------------------------------------------------------------------------------------------------------------------------------------------------------------------------------------------------------------------------------------------------------------------------------------------------------------------------------------------------------------------------------------------------------------------------------------------------------------------------------------------------------------------------------------------------------------------------------------------------------------------------------------------------------------------------------------------------------------------------------------------------------------------------------------------------------------------------------------------------------------------------------------------------------------------------------------------------------------------------------------------------------------------------------------------------------------------------------------------------+------------------------------------------------------------------------------------------------------------------------------------------------------------------------------------------------------------------------------------------------------------------------------------------------------------------------------------------------------+-----------------------------------------------------------------------------------------------------------------------------------------------------------------------------------------------------------------------------------------------------------------------------------------------------------------------------------------------------------------------------------------------------------------------------------------------------------------------------------------------------------------------------------------------------------------------------------------------------------------------------------------------------------------------------------------------------------------------------------------------------------------------------------------------------------------------------------------------------------------------------------------------------------------------------------------------------------------------------------------------------------------------------------------------------------------------------------------------------------------+\n",
            "|[mr, costner, dragged, movie, far, longer, necessary, aside, terrific, sea, rescue, sequences, care, characters, us, ghosts, closet, costners, character, realized, early, forgotten, much, later, time, care, character, really, care, cocky, overconfident, ashton, kutcher, problem, comes, kid, thinks, hes, better, anyone, else, around, shows, signs, cluttered, closet, obstacle, appears, winning, costner, finally, well, past, half, way, point, stinker, costner, tells, us, kutchers, ghosts, told, kutcher, driven, best, prior, inkling, foreshadowing, magic, could, keep, turning, hour]                                                                                                                                                                                                                                                                                                                                                                                                                                                                                                                                                                                                                                                                                                                                                                                                                                                                                                        |(50,[0,5,6,7,8,10,11,12,13,15,16,17,19,21,22,23,24,25,26,27,29,30,31,33,34,35,37,38,39,40,41,42,43,44,47,48,49],[1.0,1.0,1.0,3.0,2.0,8.0,4.0,1.0,1.0,2.0,7.0,4.0,1.0,1.0,4.0,1.0,1.0,1.0,1.0,2.0,2.0,2.0,1.0,2.0,1.0,2.0,1.0,1.0,1.0,1.0,1.0,2.0,1.0,2.0,2.0,3.0,2.0])                                                                                |(50,[0,5,6,7,8,10,11,12,13,15,16,17,19,21,22,23,24,25,26,27,29,30,31,33,34,35,37,38,39,40,41,42,43,44,47,48,49],[0.22233514383283537,0.1998375969275785,0.17689353315906578,0.5587548927975542,0.5741244698743148,1.5157760793134183,0.9450806829193806,0.16049913483010345,0.20233447712616573,0.31029723321704944,1.581846945779354,0.9550285132417945,0.2405042575542316,0.42671641869152205,1.382464882404761,0.21807654777114394,0.2690668220783183,0.2519876373319553,0.21421166317304804,0.3778202733257666,0.6544375621431859,0.34223774522702594,0.30481136565707384,0.5127868952107937,0.19643606542499614,0.4586076262978574,0.2566286218313857,0.22549670195156435,0.11406976048237878,0.2168703053209621,0.23417260773736318,0.4899776023049222,0.23598853467856912,0.2981975270523391,0.4754103706524901,0.8841473458754796,0.5629482546646647])                                                                                                                                                                                                                                                   |\n",
            "|[example, majority, action, films, generic, boring, theres, really, nothing, worth, watching, complete, waste, barelytapped, talents, icet, ice, cube, whove, proven, many, times, capable, acting, acting, well, dont, bother, one, go, see, new, jack, city, ricochet, watch, new, york, undercover, icet, boyz, n, hood, higher, learning, friday, ice, cube, see, real, deal, icets, horribly, cliched, dialogue, alone, makes, film, grate, teeth, im, still, wondering, heck, bill, paxton, film, heck, always, play, exact, character, aliens, onward, every, film, ive, seen, bill, paxton, playing, exact, irritating, character, least, aliens, character, died, made, somewhat, gratifyingoverall, secondrate, action, trash, countless, better, films, see, really, want, see, one, watch, judgement, night, practically, carbon, copy, better, acting, better, script, thing, made, worth, watching, decent, hand, camera, , cinematography, almost, refreshing, comes, close, making, horrible, film, , quite, 410]                                                                                                                                                                                                                                                                                                                                                                                                                                                                                |(50,[0,1,2,3,4,5,6,7,8,9,10,11,12,14,15,16,17,18,19,20,22,23,24,25,27,29,30,31,32,33,34,35,37,38,39,40,41,42,43,44,45,47,48,49],[8.0,1.0,3.0,6.0,4.0,4.0,2.0,3.0,2.0,2.0,3.0,3.0,6.0,1.0,4.0,2.0,9.0,2.0,1.0,2.0,6.0,4.0,1.0,2.0,1.0,2.0,1.0,4.0,2.0,3.0,4.0,5.0,1.0,2.0,3.0,2.0,2.0,3.0,3.0,4.0,2.0,1.0,3.0,2.0])                                    |(50,[0,1,2,3,4,5,6,7,8,9,10,11,12,14,15,16,17,18,19,20,22,23,24,25,27,29,30,31,32,33,34,35,37,38,39,40,41,42,43,44,45,47,48,49],[1.778681150662683,0.3015806104649222,1.0586950886205537,0.502030443068144,0.9785089236023529,0.799350387710314,0.35378706631813156,0.5587548927975542,0.5741244698743148,0.7379941985337378,0.5684160297425318,0.7088105121895355,0.9629948089806206,0.3943463985674309,0.6205944664340989,0.4519562702226726,2.148814154794038,0.5321097023783236,0.2405042575542316,0.7628275419746108,2.073697323607141,0.8723061910845757,0.2690668220783183,0.5039752746639106,0.1889101366628833,0.6544375621431859,0.17111887261351297,1.2192454626282954,0.509288884790927,0.7691803428161905,0.7857442616999846,1.1465190657446436,0.2566286218313857,0.4509934039031287,0.34220928144713636,0.4337406106419242,0.46834521547472635,0.7349664034573833,0.7079656040357074,0.5963950541046782,0.7987956510188384,0.23770518532624504,0.8841473458754796,0.5629482546646647])                                                                                                            |\n",
            "|[first, hate, moronic, rappers, couldnt, act, gun, pressed, foreheads, curse, shoot, acting, like, clichã©e, version, gangstersthe, movie, doesnt, take, five, minutes, explain, going, already, warehouse, single, sympathetic, character, movie, except, homeless, guy, also, one, half, brainbill, paxton, william, sadler, hill, billies, sadlers, character, much, villain, gangsters, didnt, like, right, startthe, movie, filled, pointless, violence, walter, hills, specialty, people, falling, windows, glass, flying, everywhere, pretty, much, plot, big, problem, root, noone, everybody, dies, except, paxton, homeless, guy, everybody, get, deservethe, two, black, people, act, homeless, guy, junkie, theyre, actors, profession, annoying, ugly, brain, dead, rappersstay, away, crap, watch, 48, hours, 1, 2, instead, lest, characters, care, sense, humor, nothing, real, actors, cast]                                                                                                                                                                                                                                                                                                                                                                                                                                                                                                                                                                                                    |(50,[0,1,2,3,5,6,7,8,9,10,11,12,13,14,15,16,17,19,20,21,22,23,24,26,27,28,29,30,31,32,33,34,35,36,37,38,39,40,41,42,44,45,47,48,49],[1.0,3.0,1.0,1.0,2.0,2.0,2.0,1.0,2.0,2.0,3.0,5.0,3.0,1.0,1.0,1.0,4.0,2.0,4.0,2.0,1.0,2.0,3.0,2.0,2.0,3.0,2.0,6.0,1.0,2.0,2.0,4.0,1.0,1.0,1.0,3.0,6.0,3.0,3.0,3.0,6.0,1.0,4.0,5.0,1.0])                            |(50,[0,1,2,3,5,6,7,8,9,10,11,12,13,14,15,16,17,19,20,21,22,23,24,26,27,28,29,30,31,32,33,34,35,36,37,38,39,40,41,42,44,45,47,48,49],[0.22233514383283537,0.9047418313947666,0.35289836287351795,0.08367174051135734,0.399675193855157,0.35378706631813156,0.37250326186503613,0.2870622349371574,0.7379941985337378,0.3789440198283546,0.7088105121895355,0.8024956741505173,0.6070034313784972,0.3943463985674309,0.15514861660852472,0.2259781351113363,0.9550285132417945,0.4810085151084632,1.5256550839492216,0.8534328373830441,0.34561622060119024,0.43615309554228787,0.8072004662349548,0.4284233263460961,0.3778202733257666,0.8412091861668733,0.6544375621431859,1.0267132356810778,0.30481136565707384,0.509288884790927,0.5127868952107937,0.7857442616999846,0.2293038131489287,0.39452636797311785,0.2566286218313857,0.676490105854693,0.6844185628942727,0.6506109159628863,0.7025178232120896,0.7349664034573833,0.8945925811570172,0.3993978255094192,0.9508207413049802,1.4735789097924659,0.28147412733233235])                                                                            |\n",
            "|[even, beatles, could, write, songs, everyone, liked, although, walter, hill, moptop, hes, second, none, comes, thought, provoking, action, movies, nineties, came, social, platforms, changing, music, film, emergence, rapper, turned, movie, star, full, swing, acting, took, back, seat, mans, overpowering, regional, accent, transparent, acting, one, many, icet, movies, saw, kid, loved, watch, later, cringe, bill, paxton, william, sadler, firemen, basic, lives, burning, building, tenant, go, flames, hands, map, gold, implications, hand, walter, quickly, neatly, setting, main, characters, location, fault, everyone, involved, turning, lameo, performances, icet, cube, must, red, hot, time, ive, enjoyed, careers, rappers, opinion, fell, flat, movie, ninety, minutes, one, guy, ridiculously, turning, back, guy, point, find, locked, multiple, states, disbelief, movie, documentary, wont, waste, time, recounting, stupid, plot, twists, movie, many, led, nowhere, got, feeling, watching, everyone, set, sord, confused, playing, things, cuff, two, things, still, enjoy, one, involves, scene, needle, sadlers, huge, 45, pistol, bottom, line, movie, like, dominos, pizza, yeah, ill, eat, im, hungry, dont, feel, like, cooking, im, well, aware, tastes, like, crap, 3, stars, meh]                                                                                                                                                                                       |(50,[0,1,2,3,4,5,6,7,8,9,10,11,12,13,14,15,16,17,18,20,21,22,23,24,25,26,27,28,29,30,31,32,33,34,35,36,37,38,39,40,41,42,43,44,45,47,48,49],[2.0,1.0,2.0,4.0,2.0,4.0,4.0,5.0,2.0,4.0,8.0,2.0,6.0,4.0,1.0,6.0,1.0,3.0,3.0,7.0,1.0,2.0,8.0,2.0,3.0,3.0,2.0,1.0,3.0,8.0,2.0,3.0,2.0,5.0,5.0,2.0,2.0,3.0,6.0,1.0,3.0,6.0,6.0,5.0,5.0,4.0,2.0,4.0])        |(50,[0,1,2,3,4,5,6,7,8,9,10,11,12,13,14,15,16,17,18,20,21,22,23,24,25,26,27,28,29,30,31,32,33,34,35,36,37,38,39,40,41,42,43,44,45,47,48,49],[0.44467028766567074,0.3015806104649222,0.7057967257470359,0.33468696204542936,0.48925446180117643,0.799350387710314,0.7075741326362631,0.9312581546625903,0.5741244698743148,1.4759883970674756,1.5157760793134183,0.4725403414596903,0.9629948089806206,0.8093379085046629,0.3943463985674309,0.9308916996511483,0.2259781351113363,0.7162713849313459,0.7981645535674853,2.669896396911138,0.42671641869152205,0.6912324412023805,1.7446123821691515,0.5381336441566366,0.7559629119958658,0.6426349895191441,0.3778202733257666,0.28040306205562443,0.9816563432147789,1.3689509809081037,0.6096227313141477,0.7639333271863906,0.5127868952107937,0.9821803271249807,1.1465190657446436,0.7890527359462357,0.5132572436627714,0.676490105854693,0.6844185628942727,0.2168703053209621,0.7025178232120896,1.4699328069147666,1.4159312080714148,0.7454938176308478,1.9969891275470961,0.9508207413049802,0.5894315639169864,1.1258965093293294])                 |\n",
            "|[brass, pictures, movies, fitting, word, really, somewhat, brassy, alluring, visual, qualities, reminiscent, expensive, high, class, tv, commercials, unfortunately, brass, pictures, feature, films, pretense, wanting, entertain, viewers, two, hours, fail, miserably, undeniable, rather, soft, flabby, steamy, erotic, qualities, non, withstandingsenso, 45, remake, film, luchino, visconti, title, alida, valli, farley, granger, lead, original, tells, story, senseless, love, lust, around, venice, italian, wars, independence, brass, moved, action, 19th, 20th, century, 1945, exact, mussolini, murals, men, black, shirts, german, uniforms, tattered, garb, partisans, window, dressing, historic, context, completely, negligibleanna, galiena, plays, attractive, aristocratic, woman, falls, amoral, ss, guy, always, puts, much, lipstick, attractive, versatile, well, trained, italian, actress, clearly, material, wide, range, facial, expressions, signalling, boredom, loathing, delight, fear, hate, , ecstasy, best, reason, watch, picture, worth, two, stars, endures, basically, trashy, stuff, astonishing, amount, dignity, wish, really, good, parts, come, along, really, deserves]                                                                                                                                                                                                                                                                                          |(50,[0,1,2,3,4,5,6,7,8,10,11,12,13,14,15,16,17,18,19,20,22,23,24,25,26,27,28,29,30,31,32,33,34,35,36,37,38,39,40,41,42,43,44,45,46,47,48,49],[1.0,1.0,3.0,3.0,1.0,2.0,3.0,4.0,3.0,1.0,1.0,5.0,5.0,3.0,4.0,3.0,4.0,4.0,2.0,2.0,3.0,4.0,2.0,2.0,4.0,4.0,5.0,2.0,3.0,4.0,1.0,3.0,3.0,3.0,1.0,5.0,1.0,4.0,5.0,2.0,3.0,1.0,7.0,1.0,1.0,3.0,2.0,6.0])       |(50,[0,1,2,3,4,5,6,7,8,10,11,12,13,14,15,16,17,18,19,20,22,23,24,25,26,27,28,29,30,31,32,33,34,35,36,37,38,39,40,41,42,43,44,45,46,47,48,49],[0.22233514383283537,0.3015806104649222,1.0586950886205537,0.251015221534072,0.24462723090058822,0.399675193855157,0.5306805994771974,0.7450065237300723,0.8611867048114721,0.1894720099141773,0.23627017072984516,0.8024956741505173,1.0116723856308287,1.1830391957022928,0.6205944664340989,0.6779344053340088,0.9550285132417945,1.0642194047566471,0.4810085151084632,0.7628275419746108,1.0368486618035706,0.8723061910845757,0.5381336441566366,0.5039752746639106,0.8568466526921922,0.7556405466515332,1.402015310278122,0.6544375621431859,0.5133566178405389,1.2192454626282954,0.2546444423954635,0.7691803428161905,0.5893081962749884,0.6879114394467861,0.39452636797311785,1.2831431091569283,0.22549670195156435,0.45627904192951513,1.0843515266048105,0.46834521547472635,0.7349664034573833,0.23598853467856912,1.0436913446831868,0.3993978255094192,0.3510872108597927,0.7131155559787351,0.5894315639169864,1.688844763993994])              |\n",
            "|[funny, thing, happened, watching, mosquito, one, hand, hero, deafmute, director, totally, unable, make, us, understand, mutilating, mannequinser, excuse, corpses, images, hand, english, version, least, badly, dubbed, found, wishing, less, dialogue, time, film, stupid, funny, guy, access, every, graveyard, mortuary, town, lurid, would, 70s, exploitationer, without, gratuitous, lesbian, scene, mention, romantic, aspect, oh, sweetmiss]                                                                                                                                                                                                                                                                                                                                                                                                                                                                                                                                                                                                                                                                                                                                                                                                                                                                                                                                                                                                                                                            |(50,[0,2,3,7,8,10,11,12,13,14,15,16,17,18,19,20,22,23,24,25,28,30,31,34,36,37,38,40,43,44,45,48,49],[2.0,1.0,4.0,3.0,2.0,1.0,3.0,1.0,2.0,1.0,3.0,1.0,2.0,1.0,1.0,1.0,1.0,2.0,1.0,2.0,2.0,1.0,1.0,1.0,1.0,1.0,2.0,1.0,2.0,2.0,2.0,1.0,1.0])                                                                                                            |(50,[0,2,3,7,8,10,11,12,13,14,15,16,17,18,19,20,22,23,24,25,28,30,31,34,36,37,38,40,43,44,45,48,49],[0.44467028766567074,0.35289836287351795,0.33468696204542936,0.5587548927975542,0.5741244698743148,0.1894720099141773,0.7088105121895355,0.16049913483010345,0.40466895425233146,0.3943463985674309,0.46544584982557413,0.2259781351113363,0.47751425662089725,0.2660548511891618,0.2405042575542316,0.3814137709873054,0.34561622060119024,0.43615309554228787,0.2690668220783183,0.5039752746639106,0.5608061241112489,0.17111887261351297,0.30481136565707384,0.19643606542499614,0.39452636797311785,0.2566286218313857,0.4509934039031287,0.2168703053209621,0.47197706935713823,0.2981975270523391,0.7987956510188384,0.2947157819584932,0.28147412733233235])                                                                                                                                                                                                                                                                                                                                         |\n",
            "|[german, horror, film, one, weirdest, seeni, aware, connection, child, abuse, vampirism, supposed, based, upon, true, characterour, hero, deaf, mute, result, repeated, beatings, hands, father, also, doll, fetish, cannot, figure, came, coworkers, find, tease, terriblyduring, day, mildmanner, accountant, night, breaks, cemeteries, funeral, homes, drinks, blood, dead, girls, attractive, course, else, wouldnt, care, fact, usually, tears, clothing, waist, graduates, eventually, actually, killing, gets, caughtlike, said, strange, movie, dark, slow, werner, pochath, never, talks, spends, time, drinking, blood]                                                                                                                                                                                                                                                                                                                                                                                                                                                                                                                                                                                                                                                                                                                                                                                                                                                                               |(50,[0,2,3,5,7,8,9,10,14,15,16,17,18,19,20,22,24,26,28,29,30,31,32,33,34,35,36,38,39,40,41,42,43,44,45,47,48,49],[1.0,1.0,2.0,1.0,1.0,1.0,2.0,4.0,1.0,2.0,3.0,1.0,1.0,3.0,2.0,1.0,1.0,2.0,1.0,2.0,4.0,4.0,1.0,1.0,2.0,3.0,1.0,2.0,3.0,2.0,1.0,3.0,1.0,2.0,3.0,3.0,4.0,2.0])                                                                           |(50,[0,2,3,5,7,8,9,10,14,15,16,17,18,19,20,22,24,26,28,29,30,31,32,33,34,35,36,38,39,40,41,42,43,44,45,47,48,49],[0.22233514383283537,0.35289836287351795,0.16734348102271468,0.1998375969275785,0.18625163093251806,0.2870622349371574,0.7379941985337378,0.7578880396567091,0.3943463985674309,0.31029723321704944,0.6779344053340088,0.23875712831044862,0.2660548511891618,0.7215127726626949,0.7628275419746108,0.34561622060119024,0.2690668220783183,0.4284233263460961,0.28040306205562443,0.6544375621431859,0.6844754904540519,1.2192454626282954,0.2546444423954635,0.25639344760539684,0.3928721308499923,0.6879114394467861,0.39452636797311785,0.4509934039031287,0.34220928144713636,0.4337406106419242,0.23417260773736318,0.7349664034573833,0.23598853467856912,0.2981975270523391,1.1981934765282576,0.7131155559787351,1.1788631278339727,0.5629482546646647])                                                                                                                                                                                                                               |\n",
            "|[longtime, fan, japanese, film, expected, cant, really, bothered, write, much, movie, poor, story, might, cutest, romantic, little, something, ever, pity, couldnt, stand, awful, acting, mess, called, pacing, standard, quirky, japanese, story, youve, noticed, many, japanese, movies, use, characters, plots, twists, seem, different, forcedly, steer, clear, movie, seriously, 12year, old, could, told, movie, going, move, along, thats, good, thing, bookfans, beat, takeshi, part, movie, really, cameo, unless, youre, rabid, fan, dont, need, suffer, waste, film210]                                                                                                                                                                                                                                                                                                                                                                                                                                                                                                                                                                                                                                                                                                                                                                                                                                                                                                                               |(50,[0,1,3,5,7,10,11,12,13,14,15,17,18,19,22,24,25,26,27,30,32,33,34,35,36,37,38,39,40,42,43,44,45,48,49],[1.0,1.0,4.0,4.0,2.0,1.0,2.0,3.0,2.0,1.0,2.0,3.0,1.0,1.0,1.0,2.0,1.0,4.0,1.0,1.0,1.0,3.0,3.0,3.0,1.0,2.0,3.0,5.0,3.0,1.0,4.0,1.0,2.0,1.0,3.0])                                                                                              |(50,[0,1,3,5,7,10,11,12,13,14,15,17,18,19,22,24,25,26,27,30,32,33,34,35,36,37,38,39,40,42,43,44,45,48,49],[0.22233514383283537,0.3015806104649222,0.33468696204542936,0.799350387710314,0.37250326186503613,0.1894720099141773,0.4725403414596903,0.4814974044903103,0.40466895425233146,0.3943463985674309,0.31029723321704944,0.7162713849313459,0.2660548511891618,0.2405042575542316,0.34561622060119024,0.5381336441566366,0.2519876373319553,0.8568466526921922,0.1889101366628833,0.17111887261351297,0.2546444423954635,0.7691803428161905,0.5893081962749884,0.6879114394467861,0.39452636797311785,0.5132572436627714,0.676490105854693,0.5703488024118939,0.6506109159628863,0.2449888011524611,0.9439541387142765,0.14909876352616955,0.7987956510188384,0.2947157819584932,0.844422381996997])                                                                                                                                                                                                                                                                                                      |\n",
            "|[tokyo, eyes, tells, 17, year, old, japanese, girl, falls, like, man, hunted, big, bro, cop, lame, flick, 50, filler, 50, talk, talk, talk, youll, get, see, less, stellar, cast, three, talk, bus, talk, play, video, games, talk, get, haircut, talk, walk, walk, talk, talk, cell, phones, hang, talk, etc, read, subtitles, waiting, something, happen, thin, wisp, story, sufficient, support, film, low, end, production, value, meager, cast, action, romance, sex, nudity, heavy, dramajust, incessant, yadayadayadaing, c]                                                                                                                                                                                                                                                                                                                                                                                                                                                                                                                                                                                                                                                                                                                                                                                                                                                                                                                                                                              |(50,[0,1,3,4,5,8,9,10,11,12,15,16,17,18,19,21,22,23,24,25,26,27,28,29,30,32,33,35,39,40,41,42,43,44,45,46,48,49],[1.0,1.0,4.0,2.0,1.0,2.0,2.0,2.0,2.0,1.0,1.0,1.0,2.0,1.0,1.0,2.0,1.0,2.0,2.0,11.0,5.0,2.0,2.0,1.0,1.0,2.0,2.0,1.0,1.0,1.0,1.0,3.0,2.0,2.0,2.0,1.0,1.0,3.0])                                                                          |(50,[0,1,3,4,5,8,9,10,11,12,15,16,17,18,19,21,22,23,24,25,26,27,28,29,30,32,33,35,39,40,41,42,43,44,45,46,48,49],[0.22233514383283537,0.3015806104649222,0.33468696204542936,0.48925446180117643,0.1998375969275785,0.5741244698743148,0.7379941985337378,0.3789440198283546,0.4725403414596903,0.16049913483010345,0.15514861660852472,0.2259781351113363,0.47751425662089725,0.2660548511891618,0.2405042575542316,0.8534328373830441,0.34561622060119024,0.43615309554228787,0.5381336441566366,2.771864010651508,1.0710583158652403,0.3778202733257666,0.5608061241112489,0.32721878107159297,0.17111887261351297,0.509288884790927,0.5127868952107937,0.2293038131489287,0.11406976048237878,0.2168703053209621,0.23417260773736318,0.7349664034573833,0.47197706935713823,0.2981975270523391,0.7987956510188384,0.3510872108597927,0.2947157819584932,0.844422381996997])                                                                                                                                                                                                                                  |\n",
            "|[wealthy, horse, ranchers, buenos, aires, longstanding, notrading, policy, crawfords, manhattan, happens, mustachioed, latin, son, falls, certain, crawford, bright, eyes, blonde, hair, perky, moves, dance, floor, 20th, centuryfox, musical, glossy, veneer, yet, seems, bit, tatty, around, edges, heavy, frenetic, gymnasticlike, dancing, exceedingly, thin, story, betty, grable, eleventh, hour, replacement, alice, faye, gives, boost, even, though, shes, paired, leaden, ameche, tan, makeup, slick, hair, also, good, charlotte, greenwood, bettys, pithy, aunt, limousine, driver, whos, constantly, asleep, job, carmen, miranda, playing, else, stock, shots, argentina, far, outclass, action, filmed, fox, backlot, supporting, performances, quite, awful, time, big, horserace, finale, viewers, enough, 12]                                                                                                                                                                                                                                                                                                                                                                                                                                                                                                                                                                                                                                                                                 |(50,[0,1,2,3,5,6,7,8,9,10,11,12,13,14,15,16,17,18,19,20,21,22,25,27,28,29,30,31,32,33,34,35,37,38,39,40,41,42,43,44,46,47,48,49],[3.0,3.0,1.0,2.0,3.0,3.0,4.0,3.0,2.0,3.0,2.0,1.0,3.0,4.0,1.0,2.0,1.0,3.0,4.0,1.0,1.0,2.0,2.0,4.0,1.0,1.0,1.0,1.0,2.0,1.0,3.0,1.0,2.0,2.0,5.0,1.0,2.0,3.0,3.0,2.0,1.0,2.0,3.0,4.0])                                   |(50,[0,1,2,3,5,6,7,8,9,10,11,12,13,14,15,16,17,18,19,20,21,22,25,27,28,29,30,31,32,33,34,35,37,38,39,40,41,42,43,44,46,47,48,49],[0.6670054314985061,0.9047418313947666,0.35289836287351795,0.16734348102271468,0.5995127907827354,0.5306805994771974,0.7450065237300723,0.8611867048114721,0.7379941985337378,0.5684160297425318,0.4725403414596903,0.16049913483010345,0.6070034313784972,1.5773855942697237,0.15514861660852472,0.4519562702226726,0.23875712831044862,0.7981645535674853,0.9620170302169264,0.3814137709873054,0.42671641869152205,0.6912324412023805,0.5039752746639106,0.7556405466515332,0.28040306205562443,0.32721878107159297,0.17111887261351297,0.30481136565707384,0.509288884790927,0.25639344760539684,0.5893081962749884,0.2293038131489287,0.5132572436627714,0.4509934039031287,0.5703488024118939,0.2168703053209621,0.46834521547472635,0.7349664034573833,0.7079656040357074,0.2981975270523391,0.3510872108597927,0.4754103706524901,0.8841473458754796,1.1258965093293294])                                                                                               |\n",
            "|[cage, plays, drunk, gets, high, critically, praise, elizabeth, shue, actually, love, seen, unattractive, overrated, piece, dung, flesh, hollywood, literally, vomited, watching, film, course, flu, mean, film, contribute, vomit, kamode, cant, nick, cage, play, something, really, pull, like, bad, actor, nick, cage, brilliant, role, bad, actor, heck, nobody, could, betterthe, search, begins, nicks, contract, lucifer, lou, cipher, night, train, terror]                                                                                                                                                                                                                                                                                                                                                                                                                                                                                                                                                                                                                                                                                                                                                                                                                                                                                                                                                                                                                                             |(50,[0,1,2,3,4,5,6,9,12,14,15,16,17,19,20,22,23,24,25,26,30,31,33,34,38,40,41,44,46,47,49],[1.0,1.0,3.0,3.0,3.0,2.0,3.0,1.0,1.0,2.0,3.0,2.0,3.0,2.0,1.0,2.0,3.0,2.0,2.0,2.0,2.0,1.0,1.0,1.0,1.0,1.0,2.0,3.0,2.0,2.0,1.0])                                                                                                                             |(50,[0,1,2,3,4,5,6,9,12,14,15,16,17,19,20,22,23,24,25,26,30,31,33,34,38,40,41,44,46,47,49],[0.22233514383283537,0.3015806104649222,1.0586950886205537,0.251015221534072,0.7338816927017646,0.399675193855157,0.5306805994771974,0.3689970992668689,0.16049913483010345,0.7886927971348618,0.46544584982557413,0.4519562702226726,0.7162713849313459,0.4810085151084632,0.3814137709873054,0.6912324412023805,0.6542296433134318,0.5381336441566366,0.5039752746639106,0.4284233263460961,0.34223774522702594,0.30481136565707384,0.25639344760539684,0.19643606542499614,0.22549670195156435,0.2168703053209621,0.46834521547472635,0.4472962905785086,0.7021744217195854,0.4754103706524901,0.28147412733233235])                                                                                                                                                                                                                                                                                                                                                                                               |\n",
            "|[first, would, like, say, fan, actors, appear, film, time, rented, wanted, like, iti, think, main, reason, disappointed, outside, box, promised, suspense, thriller, eyes, suspense, thriller, british, movies, like, something, ruth, rendell, novel, something, lot, dark, twist, turns, leaves, viewer, ending, unlikely, forgotten, anytime, soonthis, movie, started, promising, note, film, main, character, suspects, man, like, involved, hit, run, killed, husband, one, servantshis, notions, prove, right, idea, wife, might, involved, occur, confesses, part, crimethe, elements, good, suspense, thriller, place, point, felt, film, took, different, direction, became, almost, sort, mild, soap, opera, wants, love, real, relationship, film, might, enjoyable, outside, box, talked, twisted, lovers, triangle, labeled, suspense, thrillerthis, seemed, soap, opera, story, beginning, setting, seemed, mild, distraction, true, content, film, felt, like, film, could, done, whole, lot, better, felt, like, kept, leading, viewer, big, event, never, materialized, give, lower, rating, would, liked, say, fell, short, expectations]                                                                                                                                                                                                                                                                                                                                                     |(50,[0,2,3,4,5,7,8,9,10,11,12,13,14,15,16,17,18,19,20,21,22,23,24,25,26,27,28,30,31,32,33,34,35,36,37,38,39,40,41,43,44,46,47,48,49],[3.0,3.0,10.0,3.0,1.0,4.0,4.0,3.0,4.0,4.0,4.0,2.0,2.0,1.0,4.0,1.0,3.0,1.0,5.0,3.0,3.0,4.0,2.0,2.0,3.0,2.0,1.0,10.0,2.0,3.0,3.0,9.0,1.0,3.0,2.0,5.0,2.0,7.0,5.0,4.0,1.0,1.0,1.0,1.0,1.0])                         |(50,[0,2,3,4,5,7,8,9,10,11,12,13,14,15,16,17,18,19,20,21,22,23,24,25,26,27,28,30,31,32,33,34,35,36,37,38,39,40,41,43,44,46,47,48,49],[0.6670054314985061,1.0586950886205537,0.8367174051135734,0.7338816927017646,0.1998375969275785,0.7450065237300723,1.1482489397486295,1.1069912978006067,0.7578880396567091,0.9450806829193806,0.6419965393204138,0.40466895425233146,0.7886927971348618,0.15514861660852472,0.9039125404453452,0.23875712831044862,0.7981645535674853,0.2405042575542316,1.907068854936527,1.2801492560745662,1.0368486618035706,0.8723061910845757,0.5381336441566366,0.5039752746639106,0.6426349895191441,0.3778202733257666,0.28040306205562443,1.7111887261351297,0.6096227313141477,0.7639333271863906,0.7691803428161905,1.7679245888249653,0.2293038131489287,1.1835791039193535,0.5132572436627714,1.1274835097578217,0.22813952096475756,1.5180921372467346,1.170863038686816,0.9439541387142765,0.14909876352616955,0.3510872108597927,0.23770518532624504,0.2947157819584932,0.28147412733233235])                                                                             |\n",
            "|[tell, , serious, boozer, drinks, budweiser, many, suicidallyobsessed, drinkers, house, fully, stocked, barely, touched, range, drinks, lonely, motel, room, millionaire, playboys, bachelorpad, bar, would, proud, boast, kind, alcoholic, tends, drink, bottle, held, 8, inches, hungry, mouth, contents, generally, spill, face, mention, wasting, good, whisky, dousing, girlfriends, tits, cinema, audience, get, good, eyeful, elisabeth, shues, assetscage, seems, portraying, attentionseeking, lookatme, alcoholic, ever, graced, screen, shue, looks, like, berkely, preppy, slumming, summer, seasoned, streetwalker, humiliated, subjugated, often, possible, revolting, movie, beatings, skin, lacerations, anal, rape, graphic, verbal, abuse, , completely, implausible, included, apparently, convey, sense, horribly, demeaned, state, offer, male, viewers, astonishingly, clichã©d, sentimental, sexual, fantasy, tartwithaheartstill, , watch, end, time, actually, laughing, loud, shues, tough, street, hooker, chopped, carrots, kitchen, wanly, pathetically, smiling, cage, , eyes, popping, shaking, like, like, man, operating, road, drill, earthquake, , grimaced, mugged, way, final, halfhour]                                                                                                                                                                                                                                                                                    |(50,[0,1,2,3,4,5,6,7,8,9,10,11,12,13,15,17,18,19,20,22,23,24,25,26,27,28,29,30,31,32,33,34,35,36,37,38,39,41,42,43,44,45,46,47,48],[4.0,3.0,2.0,3.0,2.0,2.0,2.0,4.0,3.0,4.0,1.0,2.0,3.0,1.0,5.0,7.0,6.0,4.0,1.0,8.0,5.0,1.0,1.0,4.0,4.0,1.0,1.0,7.0,4.0,2.0,3.0,5.0,1.0,3.0,3.0,3.0,4.0,1.0,1.0,4.0,6.0,1.0,1.0,5.0,2.0])                             |(50,[0,1,2,3,4,5,6,7,8,9,10,11,12,13,15,17,18,19,20,22,23,24,25,26,27,28,29,30,31,32,33,34,35,36,37,38,39,41,42,43,44,45,46,47,48],[0.8893405753313415,0.9047418313947666,0.7057967257470359,0.251015221534072,0.48925446180117643,0.399675193855157,0.35378706631813156,0.7450065237300723,0.8611867048114721,1.4759883970674756,0.1894720099141773,0.4725403414596903,0.4814974044903103,0.20233447712616573,0.7757430830426236,1.6712998981731404,1.5963291071349706,0.9620170302169264,0.3814137709873054,2.764929764809522,1.0903827388557197,0.2690668220783183,0.2519876373319553,0.8568466526921922,0.7556405466515332,0.28040306205562443,0.32721878107159297,1.1978321082945909,1.2192454626282954,0.509288884790927,0.7691803428161905,0.9821803271249807,0.2293038131489287,1.1835791039193535,0.769885865494157,0.676490105854693,0.45627904192951513,0.23417260773736318,0.2449888011524611,0.9439541387142765,0.8945925811570172,0.3993978255094192,0.3510872108597927,1.1885259266312251,0.5894315639169864])                                                                                    |\n",
            "|[big, disappointment, touted, incredible, film, incredibly, bad, pretentious, would, nice, someone, would, create, high, profile, role, young, woman, prostitute, dont, really, learn, anything, character, except, seems, hopeless, alcoholic, dont, know, nicholas, cage, turns, excellent, performance, usual, feel, role, script, let, able, perform, whole, film, erection, deathbed, really, terrible, felt, like, needed, bath]                                                                                                                                                                                                                                                                                                                                                                                                                                                                                                                                                                                                                                                                                                                                                                                                                                                                                                                                                                                                                                                                           |(50,[0,1,3,4,6,9,10,11,12,13,14,15,16,17,19,20,21,22,23,27,28,29,30,31,32,35,40,46,47,48],[2.0,1.0,4.0,3.0,1.0,2.0,1.0,2.0,3.0,1.0,2.0,1.0,2.0,3.0,2.0,3.0,1.0,1.0,2.0,3.0,1.0,2.0,1.0,1.0,1.0,1.0,1.0,1.0,1.0,2.0])                                                                                                                                  |(50,[0,1,3,4,6,9,10,11,12,13,14,15,16,17,19,20,21,22,23,27,28,29,30,31,32,35,40,46,47,48],[0.44467028766567074,0.3015806104649222,0.33468696204542936,0.7338816927017646,0.17689353315906578,0.7379941985337378,0.1894720099141773,0.4725403414596903,0.4814974044903103,0.20233447712616573,0.7886927971348618,0.15514861660852472,0.4519562702226726,0.7162713849313459,0.4810085151084632,1.1442413129619162,0.42671641869152205,0.34561622060119024,0.43615309554228787,0.5667304099886499,0.28040306205562443,0.6544375621431859,0.17111887261351297,0.30481136565707384,0.2546444423954635,0.2293038131489287,0.2168703053209621,0.3510872108597927,0.23770518532624504,0.5894315639169864])                                                                                                                                                                                                                                                                                                                                                                                                               |\n",
            "|[film, absolutely, appalling, awful, low, budget, budget, film, makes, ed, woods, movies, look, like, art, acting, abysmal, sets, props, worse, anything, ever, seen, ordinary, subway, train, used, transport, people, evil, zone, killer, mutants, woddy, strode, one, bullet, fight, scenes, shot, disused, gravel, pit, sadism, would, expect, 80s, italian, video, nasty, talent, used, make, film, female, love, interest, huge, bhind, italian, taste, maybe, even, 80s, italian, standards, film, pretty, damn, awful, guess, came, time, werent, many, films, available, video, viewers, werent, really, discerning, piece, crap, entertainment, value, whatsoever, even, funny, boring, extremely, cheap, actually, insult, stupid, audience, wonder, earth, actor, like, woody, strode, ended, ia, turkey, like]                                                                                                                                                                                                                                                                                                                                                                                                                                                                                                                                                                                                                                                                                      |(50,[0,1,2,3,4,5,6,7,10,11,12,13,14,15,16,17,18,19,20,21,22,23,24,25,26,28,29,30,32,33,34,35,37,38,39,40,41,44,47,48,49],[2.0,2.0,1.0,8.0,4.0,3.0,4.0,1.0,1.0,3.0,3.0,3.0,3.0,3.0,1.0,3.0,2.0,1.0,1.0,1.0,1.0,1.0,2.0,2.0,3.0,1.0,1.0,6.0,5.0,2.0,3.0,4.0,3.0,1.0,2.0,2.0,4.0,3.0,3.0,3.0,4.0])                                                       |(50,[0,1,2,3,4,5,6,7,10,11,12,13,14,15,16,17,18,19,20,21,22,23,24,25,26,28,29,30,32,33,34,35,37,38,39,40,41,44,47,48,49],[0.44467028766567074,0.6031612209298444,0.35289836287351795,0.6693739240908587,0.9785089236023529,0.5995127907827354,0.7075741326362631,0.18625163093251806,0.1894720099141773,0.7088105121895355,0.4814974044903103,0.6070034313784972,1.1830391957022928,0.46544584982557413,0.2259781351113363,0.7162713849313459,0.5321097023783236,0.2405042575542316,0.3814137709873054,0.42671641869152205,0.34561622060119024,0.21807654777114394,0.5381336441566366,0.5039752746639106,0.6426349895191441,0.28040306205562443,0.32721878107159297,1.0267132356810778,1.2732222119773176,0.5127868952107937,0.5893081962749884,0.9172152525957148,0.769885865494157,0.22549670195156435,0.22813952096475756,0.4337406106419242,0.9366904309494527,0.4472962905785086,0.7131155559787351,0.8841473458754796,1.1258965093293294])                                                                                                                                                                 |\n",
            "|[heres, decidedly, average, italian, post, apocalyptic, take, huntingkilling, humans, sport, theme, ala, dangerous, game, turkey, shoot, gymkata, running, mancertainly, film, reviewed, nowhere, near, much, fun, listed, entries, furthermore, dragged, poor, voice, work, generally, bland, action, sequences, number, entirely, tasteless, scenes, prolonged, rape, sequence, truly, stupid, illogical, points, throughouttake, example, towards, end, film, hero, manages, infiltrate, compound, villains, initially, kills, sentry, leaves, jeep, upon, discovery, said, corpse, villains, response, bearing, mind, hero, come, brutally, murder, â, resolve, wait, next, morning, look, culprit, however, suppose, fair, film, remains, nonetheless, watchable, suspend, disbelief, stupid, scenes, benefit, immensely, presence, always, excellent, woody, strode, even, screen, time, limitednot, classic, stretch, imagination, still, worthy, watch, italian, bmovie, enthusiasts]                                                                                                                                                                                                                                                                                                                                                                                                                                                                                                                    |(50,[0,1,2,3,4,5,6,7,8,9,10,11,12,13,14,15,17,18,19,20,21,22,23,24,25,26,27,28,29,30,31,32,33,34,35,37,39,40,41,42,43,45,46,48,49],[2.0,1.0,2.0,6.0,1.0,1.0,4.0,1.0,3.0,2.0,2.0,5.0,2.0,3.0,3.0,3.0,1.0,3.0,4.0,3.0,1.0,4.0,3.0,4.0,2.0,2.0,3.0,3.0,1.0,3.0,2.0,3.0,3.0,3.0,5.0,3.0,1.0,2.0,2.0,2.0,1.0,1.0,2.0,3.0,1.0])                             |(50,[0,1,2,3,4,5,6,7,8,9,10,11,12,13,14,15,17,18,19,20,21,22,23,24,25,26,27,28,29,30,31,32,33,34,35,37,39,40,41,42,43,45,46,48,49],[0.44467028766567074,0.3015806104649222,0.7057967257470359,0.502030443068144,0.24462723090058822,0.1998375969275785,0.7075741326362631,0.18625163093251806,0.8611867048114721,0.7379941985337378,0.3789440198283546,1.1813508536492259,0.3209982696602069,0.6070034313784972,1.1830391957022928,0.46544584982557413,0.23875712831044862,0.7981645535674853,0.9620170302169264,1.1442413129619162,0.42671641869152205,1.382464882404761,0.6542296433134318,1.0762672883132731,0.5039752746639106,0.4284233263460961,0.5667304099886499,0.8412091861668733,0.32721878107159297,0.5133566178405389,0.6096227313141477,0.7639333271863906,0.7691803428161905,0.5893081962749884,1.1465190657446436,0.769885865494157,0.11406976048237878,0.4337406106419242,0.46834521547472635,0.4899776023049222,0.23598853467856912,0.3993978255094192,0.7021744217195854,0.8841473458754796,0.28147412733233235])                                                                             |\n",
            "|[bottom, end, apocalypse, movie, scale, piece, pish, called, final, executioner, least, come, bloke, trained, excop, seek, vengeance, killed, woman, friends, cold, blood, thats, lots, fake, explosions, repetitive, shootings, ensue, one, weirdest, array, costumes, ive, seen, film, massive, fortress, apparently, run, 7, people, great, job, dubbing, guys, best, moment, hero, loses, swordfight, skewered, neck, gets, gun, bang, earlier, mystery, anyone, would, want, sit, first, place, im, still, puzzling, one, 210]                                                                                                                                                                                                                                                                                                                                                                                                                                                                                                                                                                                                                                                                                                                                                                                                                                                                                                                                                                              |(50,[0,1,2,3,5,7,9,11,12,13,14,15,16,17,18,20,21,23,25,27,30,32,33,34,36,37,38,39,40,41,44,45,46,47,48,49],[1.0,2.0,2.0,5.0,1.0,2.0,3.0,1.0,3.0,6.0,2.0,5.0,3.0,1.0,3.0,1.0,1.0,1.0,1.0,1.0,1.0,2.0,1.0,3.0,1.0,1.0,2.0,1.0,1.0,2.0,1.0,1.0,2.0,2.0,2.0,1.0])                                                                                         |(50,[0,1,2,3,5,7,9,11,12,13,14,15,16,17,18,20,21,23,25,27,30,32,33,34,36,37,38,39,40,41,44,45,46,47,48,49],[0.22233514383283537,0.6031612209298444,0.7057967257470359,0.4183587025567867,0.1998375969275785,0.37250326186503613,1.1069912978006067,0.23627017072984516,0.4814974044903103,1.2140068627569944,0.7886927971348618,0.7757430830426236,0.6779344053340088,0.23875712831044862,0.7981645535674853,0.3814137709873054,0.42671641869152205,0.21807654777114394,0.2519876373319553,0.1889101366628833,0.17111887261351297,0.509288884790927,0.25639344760539684,0.5893081962749884,0.39452636797311785,0.2566286218313857,0.4509934039031287,0.11406976048237878,0.2168703053209621,0.46834521547472635,0.14909876352616955,0.3993978255094192,0.7021744217195854,0.4754103706524901,0.5894315639169864,0.28147412733233235])                                                                                                                                                                                                                                                                            |\n",
            "|[earth, destroyed, nuclear, holocaust, well, parts, earth, somewhere, italy, band, purebred, survivorsthose, without, radioactive, contaminationare, holed, massive, mansion, surrounded, lush, grounds, waiting, next, opportunity, go, hunting, polluted, blood, final, executioner, story, one, would, victims, alan, william, mang, looks, surprisingly, lot, like, kurt, russell, efforts, take, legally, sanctioned, hunters, led, edra, marina, costa, erasmus, harrison, muller, jr, , alan, trained, kill, former, nypd, cop, sam, woody, strode, mostly, hangs, around, giving, pupil, moral, support, mooching, tinned, meat, strode, far, best, thing, film, though, doesnt, look, well, appears, third, running, time, story, blending, elements, better, films, stories, including, ten, little, indians, dangerous, game, escape, new, york, final, executioner, moves, along, fair, pace, provides, reasonable, entertainment, less, discriminate, action, fans]                                                                                                                                                                                                                                                                                                                                                                                                                                                                                                                                 |(50,[0,1,2,3,4,5,6,7,8,9,10,11,12,13,15,16,17,18,20,21,22,23,25,26,27,29,30,31,32,33,34,35,36,37,39,40,41,43,44,45,46,47,48,49],[1.0,3.0,1.0,6.0,1.0,4.0,2.0,4.0,3.0,2.0,4.0,3.0,1.0,3.0,2.0,1.0,4.0,1.0,1.0,1.0,1.0,3.0,2.0,3.0,1.0,3.0,2.0,1.0,4.0,3.0,8.0,5.0,1.0,1.0,4.0,4.0,3.0,7.0,1.0,4.0,1.0,2.0,1.0,4.0])                                    |(50,[0,1,2,3,4,5,6,7,8,9,10,11,12,13,15,16,17,18,20,21,22,23,25,26,27,29,30,31,32,33,34,35,36,37,39,40,41,43,44,45,46,47,48,49],[0.22233514383283537,0.9047418313947666,0.35289836287351795,0.502030443068144,0.24462723090058822,0.799350387710314,0.35378706631813156,0.7450065237300723,0.8611867048114721,0.7379941985337378,0.7578880396567091,0.7088105121895355,0.16049913483010345,0.6070034313784972,0.31029723321704944,0.2259781351113363,0.9550285132417945,0.2660548511891618,0.3814137709873054,0.42671641869152205,0.34561622060119024,0.6542296433134318,0.5039752746639106,0.6426349895191441,0.1889101366628833,0.9816563432147789,0.34223774522702594,0.30481136565707384,1.018577769581854,0.7691803428161905,1.5714885233999691,1.1465190657446436,0.39452636797311785,0.2566286218313857,0.45627904192951513,0.8674812212838484,0.7025178232120896,1.6519197427499839,0.14909876352616955,1.5975913020376769,0.3510872108597927,0.4754103706524901,0.2947157819584932,1.1258965093293294])                                                                                                 |\n",
            "|[many, people, standing, front, house, n, women, crying, men, standing, close, groups, speaking, hushed, tone, couple, guys, come, discussing, sexy, daughter, might, look, today, soon, u, know, someone, house, died, dead, persons, wife, worried, preparing, food, many, people, friend, sitting, beside, gives, idea, making, matters, easy, preparing, simple, roti, sabji, one, dead, persons, son, speaking, someone, mobile, daughter, busy, makeup, mother, suggests, wear, salwar, kameej, daughter, interested, looking, good, many, people, visiting, house, hence, prefers, jeans, shirt, salwar, kameez, another, son, asks, mom, finish, kriyas, also, indicates, expected, come, early, office, camera, slowly, focuses, dead, person, white, cloth, covering, face, displaced, slightly, due, wind, revealing, face, , anupam, kher, suddenly, alarm, rings, gets, bed, dream, flash, back, u, wont, get, answer, end, moviewell, wat, comedy, director, dibakar, banerjee, later, u, find, scene, nothing, actual, movie, hence, making, everything, obvious, still, described, earlier, dream, film, comedy, well, supposed, belong, category, actually, nothing, remotely, associated, comedy, movie, director, gives, message, one, get, justice, police, everyone, must, cheat, cheats, forget, justice, music, bapitutul, , dhruv, dhalla, ok, nothing, much, tell, sectors, bad, script, destroys, everything, even, anupam, khers, performance, succeeds, making, least, paisa, vasool]|(50,[0,1,2,3,4,6,7,8,9,10,11,12,13,14,15,16,17,18,19,20,21,22,23,24,25,26,27,28,29,30,31,32,33,34,35,36,37,38,39,40,41,42,43,44,45,46,47,48,49],[2.0,3.0,2.0,7.0,4.0,8.0,5.0,2.0,3.0,3.0,3.0,4.0,4.0,2.0,4.0,8.0,3.0,3.0,1.0,2.0,4.0,2.0,4.0,7.0,1.0,5.0,2.0,3.0,4.0,3.0,3.0,5.0,6.0,4.0,1.0,6.0,2.0,7.0,5.0,3.0,3.0,9.0,2.0,7.0,6.0,3.0,7.0,2.0,2.0])|(50,[0,1,2,3,4,6,7,8,9,10,11,12,13,14,15,16,17,18,19,20,21,22,23,24,25,26,27,28,29,30,31,32,33,34,35,36,37,38,39,40,41,42,43,44,45,46,47,48,49],[0.44467028766567074,0.9047418313947666,0.7057967257470359,0.5857021835795013,0.9785089236023529,1.4151482652725262,0.9312581546625903,0.5741244698743148,1.1069912978006067,0.5684160297425318,0.7088105121895355,0.6419965393204138,0.8093379085046629,0.7886927971348618,0.6205944664340989,1.8078250808906904,0.7162713849313459,0.7981645535674853,0.2405042575542316,0.7628275419746108,1.7068656747660882,0.6912324412023805,0.8723061910845757,1.883467754548228,0.2519876373319553,1.0710583158652403,0.3778202733257666,0.8412091861668733,1.3088751242863719,0.5133566178405389,0.9144340969712215,1.2732222119773176,1.538360685632381,0.7857442616999846,0.2293038131489287,2.367158207838707,0.5132572436627714,1.5784769136609504,0.5703488024118939,0.6506109159628863,0.7025178232120896,2.20489921037215,0.47197706935713823,1.0436913446831868,2.396386953056515,1.0532616325793782,1.6639362972837153,0.5894315639169864,0.5629482546646647])|\n",
            "|[new, york, family, last, neighborhood, get, television, set, nearly, ruins, david, nivens, marriage, mitzi, gaynor, bedroom, comedy, rarely, ventures, bedroomand, nothing, sexy, happens, anyway, gaynor, actress, much, range, ovenshe, turns, turns, films, sole, compensation, supporting, performance, perky, patty, duke, premiracle, worker, nivens, daughter, shes, delightful, happy, anniversary, ]                                                                                                                                                                                                                                                                                                                                                                                                                                                                                                                                                                                                                                                                                                                                                                                                                                                                                                                                                                                                                                                                                                   |(50,[1,4,6,7,8,10,11,12,13,15,16,17,22,23,24,26,27,28,29,30,31,32,33,35,37,39,42,47],[2.0,2.0,1.0,1.0,2.0,2.0,1.0,1.0,1.0,2.0,1.0,2.0,2.0,2.0,1.0,3.0,1.0,1.0,4.0,1.0,1.0,1.0,1.0,1.0,1.0,2.0,5.0,3.0])                                                                                                                                               |(50,[1,4,6,7,8,10,11,12,13,15,16,17,22,23,24,26,27,28,29,30,31,32,33,35,37,39,42,47],[0.6031612209298444,0.48925446180117643,0.17689353315906578,0.18625163093251806,0.5741244698743148,0.3789440198283546,0.23627017072984516,0.16049913483010345,0.20233447712616573,0.31029723321704944,0.2259781351113363,0.47751425662089725,0.6912324412023805,0.43615309554228787,0.2690668220783183,0.6426349895191441,0.1889101366628833,0.28040306205562443,1.3088751242863719,0.17111887261351297,0.30481136565707384,0.2546444423954635,0.25639344760539684,0.2293038131489287,0.2566286218313857,0.22813952096475756,1.2249440057623056,0.7131155559787351])                                                                                                                                                                                                                                                                                                                                                                                                                                                        |\n",
            "+-----------------------------------------------------------------------------------------------------------------------------------------------------------------------------------------------------------------------------------------------------------------------------------------------------------------------------------------------------------------------------------------------------------------------------------------------------------------------------------------------------------------------------------------------------------------------------------------------------------------------------------------------------------------------------------------------------------------------------------------------------------------------------------------------------------------------------------------------------------------------------------------------------------------------------------------------------------------------------------------------------------------------------------------------------------------------------------------------------------------------------------------------------------------------------------------------------------------------------------------------------------------------------------------------------------------------------------------------------------------------------------------------------------------------------------------------------------------------------------------------------------------+------------------------------------------------------------------------------------------------------------------------------------------------------------------------------------------------------------------------------------------------------------------------------------------------------------------------------------------------------+-----------------------------------------------------------------------------------------------------------------------------------------------------------------------------------------------------------------------------------------------------------------------------------------------------------------------------------------------------------------------------------------------------------------------------------------------------------------------------------------------------------------------------------------------------------------------------------------------------------------------------------------------------------------------------------------------------------------------------------------------------------------------------------------------------------------------------------------------------------------------------------------------------------------------------------------------------------------------------------------------------------------------------------------------------------------------------------------------------------------+\n",
            "only showing top 20 rows\n",
            "\n"
          ]
        }
      ]
    },
    {
      "cell_type": "markdown",
      "source": [
        "#### **Codificando**: variável resposta.\n",
        "Lembrando que ensinaremos que todas essas palavras estarão associadas ao sentimento do depoimento, positivo ou negativo, entretando precisamos codificar `neg` e `pos` para 0 e 1 e podemos usar o `StringIndexer`\n",
        "\n"
      ],
      "metadata": {
        "id": "5UYyPV_m5t21"
      }
    },
    {
      "cell_type": "code",
      "source": [
        "rescaledData.groupBy('sentiment').count().show()"
      ],
      "metadata": {
        "colab": {
          "base_uri": "https://localhost:8080/"
        },
        "id": "ua6czCSN5Mxd",
        "outputId": "df8ae344-5556-45fc-9ce9-47ddff1297d1"
      },
      "execution_count": 33,
      "outputs": [
        {
          "output_type": "stream",
          "name": "stdout",
          "text": [
            "+---------+-----+\n",
            "|sentiment|count|\n",
            "+---------+-----+\n",
            "|      pos|24694|\n",
            "|      neg|24765|\n",
            "+---------+-----+\n",
            "\n"
          ]
        }
      ]
    },
    {
      "cell_type": "code",
      "source": [
        "from pyspark.ml.feature import StringIndexer\n",
        "\n",
        "indexer = StringIndexer(inputCol='sentiment', outputCol='label')\n",
        "indexed = indexer.fit(rescaledData).transform(rescaledData)"
      ],
      "metadata": {
        "id": "-bu0jk5d5xq-"
      },
      "execution_count": 34,
      "outputs": []
    },
    {
      "cell_type": "code",
      "source": [
        "indexed.groupBy(['sentiment', 'label']).count().show()"
      ],
      "metadata": {
        "colab": {
          "base_uri": "https://localhost:8080/"
        },
        "id": "VRKZeEPU5-b6",
        "outputId": "46dfeba5-206c-4f9b-fc17-cf45f42f77ae"
      },
      "execution_count": 35,
      "outputs": [
        {
          "output_type": "stream",
          "name": "stdout",
          "text": [
            "+---------+-----+-----+\n",
            "|sentiment|label|count|\n",
            "+---------+-----+-----+\n",
            "|      pos|  1.0|24694|\n",
            "|      neg|  0.0|24765|\n",
            "+---------+-----+-----+\n",
            "\n"
          ]
        }
      ]
    },
    {
      "cell_type": "markdown",
      "source": [
        "#### **Pipeline**: Transformação dos dados"
      ],
      "metadata": {
        "id": "Um_3-KTt6VKe"
      }
    },
    {
      "cell_type": "code",
      "source": [
        "from pyspark.ml import Pipeline\n",
        "\n",
        "tokenizer = Tokenizer(inputCol='texto_limpo', outputCol='tokens')\n",
        "stopwords = StopWordsRemover(inputCol='tokens', outputCol='sem_stop')\n",
        "hashingTF = HashingTF(inputCol=stopwords.getOutputCol(), outputCol='rawFeatures', numFeatures=1000)\n",
        "idf = IDF(inputCol='rawFeatures', outputCol='features')\n",
        "indexer = StringIndexer(inputCol='sentiment', outputCol='label')\n",
        "\n",
        "pipeline = Pipeline(stages=[tokenizer, stopwords, hashingTF, idf, indexer])"
      ],
      "metadata": {
        "id": "SSUToJCU6Big"
      },
      "execution_count": 36,
      "outputs": []
    },
    {
      "cell_type": "code",
      "source": [
        "dados_transformados = pipeline.fit(dados).transform(dados)"
      ],
      "metadata": {
        "id": "4sAFQHSN7Ete"
      },
      "execution_count": 37,
      "outputs": []
    },
    {
      "cell_type": "code",
      "source": [
        "dados_transformados.limit(5).show()"
      ],
      "metadata": {
        "colab": {
          "base_uri": "https://localhost:8080/"
        },
        "id": "Dq6wjp7O7H4k",
        "outputId": "3a87d470-207e-410c-b34f-7ba1466d28a6"
      },
      "execution_count": 38,
      "outputs": [
        {
          "output_type": "stream",
          "name": "stdout",
          "text": [
            "+---+--------------------+--------------------+---------+--------------------+--------------------+--------------------+--------------------+--------------------+--------------------+-----+\n",
            "| id|             text_en|             text_pt|sentiment|         texto_regex|         texto_limpo|              tokens|            sem_stop|         rawFeatures|            features|label|\n",
            "+---+--------------------+--------------------+---------+--------------------+--------------------+--------------------+--------------------+--------------------+--------------------+-----+\n",
            "|  1|Once again Mr. Co...|Mais uma vez, o S...|      neg|Once again Mr Cos...|Once again Mr Cos...|[once, again, mr,...|[mr, costner, dra...|(1000,[10,21,34,4...|(1000,[10,21,34,4...|  0.0|\n",
            "|  2|This is an exampl...|Este é um exemplo...|      neg|This is an exampl...|This is an exampl...|[this, is, an, ex...|[example, majorit...|(1000,[0,3,11,12,...|(1000,[0,3,11,12,...|  0.0|\n",
            "|  3|First of all I ha...|Primeiro de tudo ...|      neg|First of all I ha...|First of all I ha...|[first, of, all, ...|[first, hate, mor...|(1000,[1,7,33,38,...|(1000,[1,7,33,38,...|  0.0|\n",
            "|  4|Not even the Beat...|Nem mesmo os Beat...|      neg|Not even the Beat...|Not even the Beat...|[not, even, the, ...|[even, beatles, w...|(1000,[0,3,10,12,...|(1000,[0,3,10,12,...|  0.0|\n",
            "|  5|Brass pictures mo...|Filmes de fotos d...|      neg|Brass pictures mo...|Brass pictures mo...|[brass, pictures,...|[brass, pictures,...|(1000,[3,6,7,11,3...|(1000,[3,6,7,11,3...|  0.0|\n",
            "+---+--------------------+--------------------+---------+--------------------+--------------------+--------------------+--------------------+--------------------+--------------------+-----+\n",
            "\n"
          ]
        }
      ]
    },
    {
      "cell_type": "markdown",
      "source": [
        "### **Modelo**\n",
        "\n",
        "Nosso objetivo é consguir identificar um comentário negativo ou positivo, para isso precisamos criar um modelo em que o computador consiga classificar os depoimentos. Agora que já processamos nossos dados podemos construir um **modelo de classificação**, veja alguma opções:\n",
        "\n",
        "* Regressão Logística\n",
        "* Árvore de Decisão\n",
        "* Florestas Aleatórias\n",
        "* GX boost\n",
        "* entre outros...\n",
        "\n",
        "Para testar nossos dados usaremos todos os procedimentos realizados em Limpeza e processamento dos dados e a vetorização que estabelece pesos para as palavras construidas a partir do TF-IDF.\n",
        "\n",
        "\n",
        "\n"
      ],
      "metadata": {
        "id": "7O2y9ntZ9Ruz"
      }
    },
    {
      "cell_type": "code",
      "source": [
        "featureDF = dados_transformados.select('features', 'label')"
      ],
      "metadata": {
        "id": "HuQ1qVoi7LUv"
      },
      "execution_count": 39,
      "outputs": []
    },
    {
      "cell_type": "code",
      "source": [
        "featureDF.limit(5).show()"
      ],
      "metadata": {
        "colab": {
          "base_uri": "https://localhost:8080/"
        },
        "id": "bRgvFKriNN-w",
        "outputId": "1a0924a1-350a-4dd2-e155-81733279f5d6"
      },
      "execution_count": 40,
      "outputs": [
        {
          "output_type": "stream",
          "name": "stdout",
          "text": [
            "+--------------------+-----+\n",
            "|            features|label|\n",
            "+--------------------+-----+\n",
            "|(1000,[10,21,34,4...|  0.0|\n",
            "|(1000,[0,3,11,12,...|  0.0|\n",
            "|(1000,[1,7,33,38,...|  0.0|\n",
            "|(1000,[0,3,10,12,...|  0.0|\n",
            "|(1000,[3,6,7,11,3...|  0.0|\n",
            "+--------------------+-----+\n",
            "\n"
          ]
        }
      ]
    },
    {
      "cell_type": "code",
      "source": [
        "featureDF.printSchema()"
      ],
      "metadata": {
        "colab": {
          "base_uri": "https://localhost:8080/"
        },
        "id": "B62tpAgjO9aV",
        "outputId": "0b90097b-f283-4ec9-c4f6-0465b772c511"
      },
      "execution_count": 41,
      "outputs": [
        {
          "output_type": "stream",
          "name": "stdout",
          "text": [
            "root\n",
            " |-- features: vector (nullable = true)\n",
            " |-- label: double (nullable = false)\n",
            "\n"
          ]
        }
      ]
    },
    {
      "cell_type": "markdown",
      "source": [
        "### **Separação entre treino e teste**"
      ],
      "metadata": {
        "id": "vxrLwHZeVMZx"
      }
    },
    {
      "cell_type": "code",
      "source": [
        "# Divisão dos dados entre treino e teste\n",
        "train_data, test_data = dados.randomSplit([0.7, 0.3], seed=101)"
      ],
      "metadata": {
        "id": "-760rpwwTLp4"
      },
      "execution_count": 42,
      "outputs": []
    },
    {
      "cell_type": "markdown",
      "source": [
        "### **Criação de pipelines para cada modelo**"
      ],
      "metadata": {
        "id": "tf69FGE7VSB0"
      }
    },
    {
      "cell_type": "code",
      "source": [
        "from pyspark.ml import Pipeline\n",
        "from pyspark.ml.classification import LogisticRegression, DecisionTreeClassifier, RandomForestClassifier, GBTClassifier\n",
        "from pyspark.ml.evaluation import MulticlassClassificationEvaluator\n",
        "from pyspark.ml.tuning import CrossValidator, ParamGridBuilder\n",
        "\n",
        "# Etapas de pré-processamento\n",
        "tokenizer = Tokenizer(inputCol='texto_limpo', outputCol='tokens')\n",
        "stopwords = StopWordsRemover(inputCol='tokens', outputCol='sem_stop')\n",
        "hashingTF = HashingTF(inputCol=stopwords.getOutputCol(), outputCol='rawFeatures', numFeatures=1000)\n",
        "idf = IDF(inputCol='rawFeatures', outputCol='features')\n",
        "\n",
        "# Modelos de classificação\n",
        "lr = LogisticRegression(featuresCol='features', labelCol='label')\n",
        "dt = DecisionTreeClassifier(featuresCol='features', labelCol='label')\n",
        "rf = RandomForestClassifier(featuresCol='features', labelCol='label')\n",
        "gbt = GBTClassifier(featuresCol='features', labelCol='label')\n",
        "\n",
        "# Criação das pipelines para cada modelo\n",
        "pipeline_lr = Pipeline(stages=[tokenizer, stopwords, hashingTF, idf, indexer, lr])\n",
        "pipeline_dt = Pipeline(stages=[tokenizer, stopwords, hashingTF, idf, indexer, dt])\n",
        "pipeline_rf = Pipeline(stages=[tokenizer, stopwords, hashingTF, idf, indexer, rf])\n",
        "pipeline_gbt = Pipeline(stages=[tokenizer, stopwords, hashingTF, idf, indexer, gbt])"
      ],
      "metadata": {
        "id": "PUKsIFuFPHBU"
      },
      "execution_count": 77,
      "outputs": []
    },
    {
      "cell_type": "markdown",
      "source": [
        "### **Criação das métricas avaliadoras**"
      ],
      "metadata": {
        "id": "Rn3-hN_1VXXE"
      }
    },
    {
      "cell_type": "code",
      "source": [
        "# Avaliador para cada métrica\n",
        "evaluator_accuracy = MulticlassClassificationEvaluator(labelCol='label', metricName='accuracy')\n",
        "evaluator_precision = MulticlassClassificationEvaluator(labelCol='label', metricName='precisionByLabel')\n",
        "evaluator_recall = MulticlassClassificationEvaluator(labelCol='label', metricName='recallByLabel')\n",
        "evaluator_fmeasure = MulticlassClassificationEvaluator(labelCol='label', metricName='fMeasureByLabel')"
      ],
      "metadata": {
        "id": "DvgqJ5iaRtlV"
      },
      "execution_count": 78,
      "outputs": []
    },
    {
      "cell_type": "markdown",
      "source": [
        "### **Criação dos parâmetros de cada modelo**"
      ],
      "metadata": {
        "id": "Xn9pXy-2VeCt"
      }
    },
    {
      "cell_type": "code",
      "source": [
        "# Validação cruzada\n",
        "paramGrid = ParamGridBuilder().build()"
      ],
      "metadata": {
        "id": "OAzEWBUgR1Ia"
      },
      "execution_count": 79,
      "outputs": []
    },
    {
      "cell_type": "code",
      "source": [
        "# Parâmetros simplificados para CrossValidator com seed\n",
        "paramGrid_lr = ParamGridBuilder() \\\n",
        "    .addGrid(lr.regParam, [0.01, 0.1]) \\\n",
        "    .addGrid(lr.elasticNetParam, [0.0, 0.5, 1.0]) \\\n",
        "    .build()\n",
        "\n",
        "paramGrid_dt = ParamGridBuilder() \\\n",
        "    .addGrid(dt.maxDepth, [5, 10])\\\n",
        "    .addGrid(dt.maxBins, [15, 33]) \\\n",
        "    .build()\n",
        "\n",
        "paramGrid_rf = ParamGridBuilder() \\\n",
        "    .addGrid(rf.maxDepth, [5, 10])\\\n",
        "    .addGrid(rf.maxBins, [10, 22])\\\n",
        "    .addGrid(rf.numTrees, [15, 30])\\\n",
        "    .build()\n",
        "\n",
        "paramGrid_gbt = ParamGridBuilder() \\\n",
        "    .addGrid(gbt.maxIter, [10, 20]) \\\n",
        "    .addGrid(gbt.maxDepth, [5, 10]) \\\n",
        "    .build()"
      ],
      "metadata": {
        "id": "Pw-6YW55R1s5"
      },
      "execution_count": 80,
      "outputs": []
    },
    {
      "cell_type": "markdown",
      "source": [
        "### **Criação da validação cruzada de cada modelo**"
      ],
      "metadata": {
        "id": "bnYFQzkNVkj2"
      }
    },
    {
      "cell_type": "code",
      "source": [
        "cv_lr = CrossValidator(estimator=pipeline_lr, estimatorParamMaps=paramGrid_lr, evaluator=evaluator_precision, numFolds=3, seed=101)\n",
        "cv_dt = CrossValidator(estimator=pipeline_dt, estimatorParamMaps=paramGrid_dt, evaluator=evaluator_precision, numFolds=3, seed=101)\n",
        "cv_rf = CrossValidator(estimator=pipeline_rf, estimatorParamMaps=paramGrid_rf, evaluator=evaluator_precision, numFolds=3, seed=101)\n",
        "cv_gbt = CrossValidator(estimator=pipeline_gbt, estimatorParamMaps=paramGrid_gbt, evaluator=evaluator_precision, numFolds=3, seed=101)"
      ],
      "metadata": {
        "id": "6UByrsCaUrcn"
      },
      "execution_count": 81,
      "outputs": []
    },
    {
      "cell_type": "markdown",
      "source": [
        "### **Treinando os modelos**"
      ],
      "metadata": {
        "id": "O3puLaKuVsER"
      }
    },
    {
      "cell_type": "code",
      "source": [
        "# Treinamento e avaliação\n",
        "models = {'Logistic Regression': cv_lr, 'Decision Tree': cv_dt, 'Random Forest': cv_rf, 'GBT': cv_gbt}"
      ],
      "metadata": {
        "id": "8p9oGnFrUyBZ"
      },
      "execution_count": 82,
      "outputs": []
    },
    {
      "cell_type": "code",
      "source": [
        "# Dicionário para armazenar os modelos treinados\n",
        "trained_models = {}\n",
        "\n",
        "# Treinamento e avaliação\n",
        "for name, model in models.items():\n",
        "    cv_model = model.fit(train_data)\n",
        "\n",
        "    # Armazenar o modelo treinado no dicionário\n",
        "    trained_models[name] = cv_model\n",
        "\n",
        "    # Obtenção das métricas\n",
        "    accuracy = evaluator_accuracy.evaluate(cv_model.transform(test_data))\n",
        "    precision = evaluator_precision.evaluate(cv_model.transform(test_data))\n",
        "    recall = evaluator_recall.evaluate(cv_model.transform(test_data))\n",
        "    fmeasure = evaluator_fmeasure.evaluate(cv_model.transform(test_data))\n",
        "\n",
        "    print(f'{name} Accuracy: {accuracy:.4f}')\n",
        "    print(f'{name} Precision: {precision:.4f}')\n",
        "    print(f'{name} Recall: {recall:.4f}')\n",
        "    print(f'{name} F-Measure: {fmeasure:.4f}')\n",
        "    print('-' * 30)"
      ],
      "metadata": {
        "colab": {
          "base_uri": "https://localhost:8080/"
        },
        "id": "2PlcWZSIU0SA",
        "outputId": "d497212c-39f5-4d2b-b2d4-32d9834e2e7c"
      },
      "execution_count": 83,
      "outputs": [
        {
          "output_type": "stream",
          "name": "stdout",
          "text": [
            "Logistic Regression Accuracy: 0.8061\n",
            "Logistic Regression Precision: 0.8005\n",
            "Logistic Regression Recall: 0.8080\n",
            "Logistic Regression F-Measure: 0.8043\n",
            "------------------------------\n",
            "Decision Tree Accuracy: 0.6727\n",
            "Decision Tree Precision: 0.6494\n",
            "Decision Tree Recall: 0.7308\n",
            "Decision Tree F-Measure: 0.6877\n",
            "------------------------------\n",
            "Random Forest Accuracy: 0.7399\n",
            "Random Forest Precision: 0.7128\n",
            "Random Forest Recall: 0.7916\n",
            "Random Forest F-Measure: 0.7501\n",
            "------------------------------\n",
            "GBT Accuracy: 0.7275\n",
            "GBT Precision: 0.7071\n",
            "GBT Recall: 0.7635\n",
            "GBT F-Measure: 0.7342\n",
            "------------------------------\n"
          ]
        }
      ]
    },
    {
      "cell_type": "markdown",
      "source": [
        "### **Nova frase**"
      ],
      "metadata": {
        "id": "h1Rh6P5m-vNa"
      }
    },
    {
      "cell_type": "code",
      "source": [
        "# Criando novos dados de entrada\n",
        "nova_base = spark.createDataFrame([\n",
        "    (1, \"I thought this movie was horrible, bad acting\"),\n",
        "    (0, \"I loved this movie, I swear, I feel like it was the best movie I saw this year!\"),\n",
        "    ], [\"id\", \"texto_limpo\"])\n",
        "\n",
        "nova_base.limit(5).show(truncate=False)"
      ],
      "metadata": {
        "colab": {
          "base_uri": "https://localhost:8080/"
        },
        "id": "Z_eLc_QxU3BG",
        "outputId": "69e6947b-f1b9-4887-bd99-7ef0485bc2f6"
      },
      "execution_count": 110,
      "outputs": [
        {
          "output_type": "stream",
          "name": "stdout",
          "text": [
            "+---+-------------------------------------------------------------------------------+\n",
            "|id |texto_limpo                                                                    |\n",
            "+---+-------------------------------------------------------------------------------+\n",
            "|1  |I thought this movie was horrible, bad acting                                  |\n",
            "|0  |I loved this movie, I swear, I feel like it was the best movie I saw this year!|\n",
            "+---+-------------------------------------------------------------------------------+\n",
            "\n"
          ]
        }
      ]
    },
    {
      "cell_type": "code",
      "source": [
        "# Modelo utilizado\n",
        "model_lr_cv = trained_models['Logistic Regression']"
      ],
      "metadata": {
        "id": "MpHeUKw5_dyo"
      },
      "execution_count": 111,
      "outputs": []
    },
    {
      "cell_type": "code",
      "source": [
        "# Aplicando modelo aos dados de entrada\n",
        "nova_class = model_lr_cv.transform(nova_base)"
      ],
      "metadata": {
        "id": "vh6qMeC1_ugk"
      },
      "execution_count": 112,
      "outputs": []
    },
    {
      "cell_type": "code",
      "source": [
        "nova_class.limit(5).show()"
      ],
      "metadata": {
        "colab": {
          "base_uri": "https://localhost:8080/"
        },
        "id": "X6OYsZtq_zSA",
        "outputId": "3a7a1cd3-a91e-46df-d505-28a47583c87e"
      },
      "execution_count": 113,
      "outputs": [
        {
          "output_type": "stream",
          "name": "stdout",
          "text": [
            "+---+--------------------+--------------------+--------------------+--------------------+--------------------+--------------------+--------------------+----------+\n",
            "| id|         texto_limpo|              tokens|            sem_stop|         rawFeatures|            features|       rawPrediction|         probability|prediction|\n",
            "+---+--------------------+--------------------+--------------------+--------------------+--------------------+--------------------+--------------------+----------+\n",
            "|  1|I thought this mo...|[i, thought, this...|[thought, movie, ...|(1000,[42,55,439,...|(1000,[42,55,439,...|[-0.6983254082981...|[0.33218361088135...|       1.0|\n",
            "|  0|I loved this movi...|[i, loved, this, ...|[loved, movie,, s...|(1000,[115,330,39...|(1000,[115,330,39...|[0.79720401098421...|[0.68937607450202...|       0.0|\n",
            "+---+--------------------+--------------------+--------------------+--------------------+--------------------+--------------------+--------------------+----------+\n",
            "\n"
          ]
        }
      ]
    }
  ]
}